{
  "nbformat": 4,
  "nbformat_minor": 0,
  "metadata": {
    "colab": {
      "provenance": [],
      "authorship_tag": "ABX9TyP94CdcucWcAWln3eFfzTNX",
      "include_colab_link": true
    },
    "kernelspec": {
      "name": "python3",
      "display_name": "Python 3"
    },
    "language_info": {
      "name": "python"
    }
  },
  "cells": [
    {
      "cell_type": "markdown",
      "metadata": {
        "id": "view-in-github",
        "colab_type": "text"
      },
      "source": [
        "<a href=\"https://colab.research.google.com/github/KeoratileShongoane/AML/blob/main/Putting_it_together.ipynb\" target=\"_parent\"><img src=\"https://colab.research.google.com/assets/colab-badge.svg\" alt=\"Open In Colab\"/></a>"
      ]
    },
    {
      "cell_type": "markdown",
      "source": [
        "***\n",
        "# **Applications of Machine Learning in Chemistry**: Assignment 4\n",
        "#### __Name:__ Keoratile Shongoane\n",
        "#### __Student number:__ 1389986\n",
        "\n",
        "***\n"
      ],
      "metadata": {
        "id": "5nuBu-Bxsk9y"
      }
    },
    {
      "cell_type": "markdown",
      "source": [
        "# **Table of Contents**\n",
        "\n",
        "- [Imports](#imports)\n",
        "- [1. Data Exploration](#1-data-exploration)\n",
        "  - [1.1 Importing Data](#11-importing-data)\n",
        "  - [1.2 Viewing the Dataset](#12-viewing-the-dataset)\n",
        "  - [1.3 Dropping Missing Values](#13-dropping-missing-values)\n",
        "- [2. Molecular Descriptors Calculation](#2-molecular-descriptors-calculation)\n",
        "- [3. Data Preprocessing](#3-data-preprocessing)\n",
        "  - [3.1 Train-Test Split](#31-train-test-split)\n",
        "- [4. Model Training and Evaluation](#4-model-training-and-evaluation)\n",
        "  - [4.1 Random Forest Regression](#41-random-forest-regression)\n",
        "  - [4.2 Model Evaluation](#42-model-evaluation)\n",
        "- [5. Visualizations](#5-visualizations)\n",
        "  - [5.1 Melting Point](#51-melting-point)\n",
        "  - [5.2 Boiling Point](#52-boiling-point)\n",
        "- [6. Results Discussion and Conclusion](#6-results-discussion-and-conclusion)\n",
        "  - [6.1 Results Discussion and Conclusion](#61-results-discussion-and-conclusion)\n"
      ],
      "metadata": {
        "id": "jjQcKUb8vNnx"
      }
    },
    {
      "cell_type": "markdown",
      "source": [
        "This assignment will focus on understanding the heat dynamics of various hydrocarbons. The hydrocarbons data set contains a set of molecules made up of only carbon and hydrogen."
      ],
      "metadata": {
        "id": "CZVRDrDv0d1o"
      }
    },
    {
      "cell_type": "markdown",
      "source": [
        "# __Imports__"
      ],
      "metadata": {
        "id": "A9IG4GjBst97"
      }
    },
    {
      "cell_type": "code",
      "execution_count": 13,
      "metadata": {
        "colab": {
          "base_uri": "https://localhost:8080/"
        },
        "id": "rCfV0j50Amff",
        "outputId": "434e1ce8-a5ad-47a4-9c1e-3aa40066daca"
      },
      "outputs": [
        {
          "output_type": "stream",
          "name": "stdout",
          "text": [
            "Requirement already satisfied: rdkit-pypi in /usr/local/lib/python3.10/dist-packages (2022.9.5)\n",
            "Requirement already satisfied: numpy in /usr/local/lib/python3.10/dist-packages (from rdkit-pypi) (1.26.4)\n",
            "Requirement already satisfied: Pillow in /usr/local/lib/python3.10/dist-packages (from rdkit-pypi) (9.4.0)\n"
          ]
        }
      ],
      "source": [
        "# In a Jupyter cell\n",
        "%pip install rdkit-pypi\n",
        "\n",
        "from sklearn.impute import SimpleImputer\n",
        "import pandas as pd\n",
        "import seaborn as sns\n",
        "import matplotlib.pyplot as plt\n",
        "import numpy as np\n",
        "from sklearn.model_selection import train_test_split\n",
        "from sklearn.ensemble import RandomForestRegressor\n",
        "from sklearn.metrics import mean_squared_error, r2_score\n",
        "from rdkit.Chem import AllChem\n",
        "from rdkit import Chem\n",
        "from rdkit.Chem import Descriptors\n",
        "\n"
      ]
    },
    {
      "cell_type": "markdown",
      "source": [
        "# __1. Data Exploration__"
      ],
      "metadata": {
        "id": "gKFQ_EOos5_V"
      }
    },
    {
      "cell_type": "markdown",
      "source": [
        "### __1.1 Importing Data__"
      ],
      "metadata": {
        "id": "QKJ-D807s-aa"
      }
    },
    {
      "cell_type": "code",
      "source": [
        "# loading the dataset to a Pandas Dataframe\n",
        "df = pd.read_csv('hydrocarbons.csv')"
      ],
      "metadata": {
        "id": "KiCWJ8kjFdnT"
      },
      "execution_count": 14,
      "outputs": []
    },
    {
      "cell_type": "markdown",
      "source": [
        "### __1.2 Viewing the dataset__"
      ],
      "metadata": {
        "id": "UN-O29p-tDkb"
      }
    },
    {
      "cell_type": "markdown",
      "source": [
        "Veiwing the dataset allows us to spot any anormalies and allows one to understand the data that they are working with. This allows for the use of appropriate anaylsis techniques."
      ],
      "metadata": {
        "id": "WetDkhDAtE7J"
      }
    },
    {
      "cell_type": "code",
      "source": [
        "# Viewing the dataset\n",
        "df.head(194)"
      ],
      "metadata": {
        "colab": {
          "base_uri": "https://localhost:8080/",
          "height": 423
        },
        "id": "buGqZaIdFu7E",
        "outputId": "bdb0cad5-5498-4d21-d228-648ed92e7768"
      },
      "execution_count": 15,
      "outputs": [
        {
          "output_type": "execute_result",
          "data": {
            "text/plain": [
              "    Class of hydrocarbon              IUPAC name  Melting point  \\\n",
              "0         Trimetylalkane  2,2,4-Trimethylpentane         -107.0   \n",
              "1           Triaromatics            Phenanthrene           99.0   \n",
              "2           Triaromatics              Anthracene          216.0   \n",
              "3           Triaromatics      1-methylanthracene           86.0   \n",
              "4           Triaromatics      2-methylanthracene          209.0   \n",
              "..                   ...                     ...            ...   \n",
              "189             1-alkene            1-hexadecene            4.0   \n",
              "190             1-alkene           1-heptadecene           11.0   \n",
              "191             1-alkene            1-octadecene           18.0   \n",
              "192             1-alkene            1-nonadecene           23.0   \n",
              "193             1-alkene              1-docosene           38.0   \n",
              "\n",
              "     Boiling point  Density Flash point Autoignition temp  pubchem_id  \\\n",
              "0             99.0     0.69         NaN               396       10907   \n",
              "1            338.0     1.18         171              >450         995   \n",
              "2            341.0   1.2825         NaN               NaN        8418   \n",
              "3            342.0  1.04799         NaN               NaN       11884   \n",
              "4            340.0      1.8         NaN               NaN       11936   \n",
              "..             ...      ...         ...               ...         ...   \n",
              "189          285.0    0.781         NaN               NaN       12395   \n",
              "190          301.0    0.785         NaN               NaN       23217   \n",
              "191          316.0    0.789         NaN               NaN        8217   \n",
              "192          331.0  0.78925         NaN               NaN       29075   \n",
              "193          367.0  0.79425         NaN               NaN       74138   \n",
              "\n",
              "                            smiles  \n",
              "0                   CC(C)CC(C)(C)C  \n",
              "1    C1=CC=C2C(=C1)C=CC3=CC=CC=C32  \n",
              "2      C1=CC=C2C=C3C=CC=CC3=CC2=C1  \n",
              "3     CC1=CC=CC2=CC3=CC=CC=C3C=C12  \n",
              "4     CC1=CC2=CC3=CC=CC=C3C=C2C=C1  \n",
              "..                             ...  \n",
              "189              CCCCCCCCCCCCCCC=C  \n",
              "190             CCCCCCCCCCCCCCCC=C  \n",
              "191            CCCCCCCCCCCCCCCCC=C  \n",
              "192           CCCCCCCCCCCCCCCCCC=C  \n",
              "193        CCCCCCCCCCCCCCCCCCCCC=C  \n",
              "\n",
              "[194 rows x 9 columns]"
            ],
            "text/html": [
              "\n",
              "  <div id=\"df-5469163e-eb08-42b6-a433-99dad4b04563\" class=\"colab-df-container\">\n",
              "    <div>\n",
              "<style scoped>\n",
              "    .dataframe tbody tr th:only-of-type {\n",
              "        vertical-align: middle;\n",
              "    }\n",
              "\n",
              "    .dataframe tbody tr th {\n",
              "        vertical-align: top;\n",
              "    }\n",
              "\n",
              "    .dataframe thead th {\n",
              "        text-align: right;\n",
              "    }\n",
              "</style>\n",
              "<table border=\"1\" class=\"dataframe\">\n",
              "  <thead>\n",
              "    <tr style=\"text-align: right;\">\n",
              "      <th></th>\n",
              "      <th>Class of hydrocarbon</th>\n",
              "      <th>IUPAC name</th>\n",
              "      <th>Melting point</th>\n",
              "      <th>Boiling point</th>\n",
              "      <th>Density</th>\n",
              "      <th>Flash point</th>\n",
              "      <th>Autoignition temp</th>\n",
              "      <th>pubchem_id</th>\n",
              "      <th>smiles</th>\n",
              "    </tr>\n",
              "  </thead>\n",
              "  <tbody>\n",
              "    <tr>\n",
              "      <th>0</th>\n",
              "      <td>Trimetylalkane</td>\n",
              "      <td>2,2,4-Trimethylpentane</td>\n",
              "      <td>-107.0</td>\n",
              "      <td>99.0</td>\n",
              "      <td>0.69</td>\n",
              "      <td>NaN</td>\n",
              "      <td>396</td>\n",
              "      <td>10907</td>\n",
              "      <td>CC(C)CC(C)(C)C</td>\n",
              "    </tr>\n",
              "    <tr>\n",
              "      <th>1</th>\n",
              "      <td>Triaromatics</td>\n",
              "      <td>Phenanthrene</td>\n",
              "      <td>99.0</td>\n",
              "      <td>338.0</td>\n",
              "      <td>1.18</td>\n",
              "      <td>171</td>\n",
              "      <td>&gt;450</td>\n",
              "      <td>995</td>\n",
              "      <td>C1=CC=C2C(=C1)C=CC3=CC=CC=C32</td>\n",
              "    </tr>\n",
              "    <tr>\n",
              "      <th>2</th>\n",
              "      <td>Triaromatics</td>\n",
              "      <td>Anthracene</td>\n",
              "      <td>216.0</td>\n",
              "      <td>341.0</td>\n",
              "      <td>1.2825</td>\n",
              "      <td>NaN</td>\n",
              "      <td>NaN</td>\n",
              "      <td>8418</td>\n",
              "      <td>C1=CC=C2C=C3C=CC=CC3=CC2=C1</td>\n",
              "    </tr>\n",
              "    <tr>\n",
              "      <th>3</th>\n",
              "      <td>Triaromatics</td>\n",
              "      <td>1-methylanthracene</td>\n",
              "      <td>86.0</td>\n",
              "      <td>342.0</td>\n",
              "      <td>1.04799</td>\n",
              "      <td>NaN</td>\n",
              "      <td>NaN</td>\n",
              "      <td>11884</td>\n",
              "      <td>CC1=CC=CC2=CC3=CC=CC=C3C=C12</td>\n",
              "    </tr>\n",
              "    <tr>\n",
              "      <th>4</th>\n",
              "      <td>Triaromatics</td>\n",
              "      <td>2-methylanthracene</td>\n",
              "      <td>209.0</td>\n",
              "      <td>340.0</td>\n",
              "      <td>1.8</td>\n",
              "      <td>NaN</td>\n",
              "      <td>NaN</td>\n",
              "      <td>11936</td>\n",
              "      <td>CC1=CC2=CC3=CC=CC=C3C=C2C=C1</td>\n",
              "    </tr>\n",
              "    <tr>\n",
              "      <th>...</th>\n",
              "      <td>...</td>\n",
              "      <td>...</td>\n",
              "      <td>...</td>\n",
              "      <td>...</td>\n",
              "      <td>...</td>\n",
              "      <td>...</td>\n",
              "      <td>...</td>\n",
              "      <td>...</td>\n",
              "      <td>...</td>\n",
              "    </tr>\n",
              "    <tr>\n",
              "      <th>189</th>\n",
              "      <td>1-alkene</td>\n",
              "      <td>1-hexadecene</td>\n",
              "      <td>4.0</td>\n",
              "      <td>285.0</td>\n",
              "      <td>0.781</td>\n",
              "      <td>NaN</td>\n",
              "      <td>NaN</td>\n",
              "      <td>12395</td>\n",
              "      <td>CCCCCCCCCCCCCCC=C</td>\n",
              "    </tr>\n",
              "    <tr>\n",
              "      <th>190</th>\n",
              "      <td>1-alkene</td>\n",
              "      <td>1-heptadecene</td>\n",
              "      <td>11.0</td>\n",
              "      <td>301.0</td>\n",
              "      <td>0.785</td>\n",
              "      <td>NaN</td>\n",
              "      <td>NaN</td>\n",
              "      <td>23217</td>\n",
              "      <td>CCCCCCCCCCCCCCCC=C</td>\n",
              "    </tr>\n",
              "    <tr>\n",
              "      <th>191</th>\n",
              "      <td>1-alkene</td>\n",
              "      <td>1-octadecene</td>\n",
              "      <td>18.0</td>\n",
              "      <td>316.0</td>\n",
              "      <td>0.789</td>\n",
              "      <td>NaN</td>\n",
              "      <td>NaN</td>\n",
              "      <td>8217</td>\n",
              "      <td>CCCCCCCCCCCCCCCCC=C</td>\n",
              "    </tr>\n",
              "    <tr>\n",
              "      <th>192</th>\n",
              "      <td>1-alkene</td>\n",
              "      <td>1-nonadecene</td>\n",
              "      <td>23.0</td>\n",
              "      <td>331.0</td>\n",
              "      <td>0.78925</td>\n",
              "      <td>NaN</td>\n",
              "      <td>NaN</td>\n",
              "      <td>29075</td>\n",
              "      <td>CCCCCCCCCCCCCCCCCC=C</td>\n",
              "    </tr>\n",
              "    <tr>\n",
              "      <th>193</th>\n",
              "      <td>1-alkene</td>\n",
              "      <td>1-docosene</td>\n",
              "      <td>38.0</td>\n",
              "      <td>367.0</td>\n",
              "      <td>0.79425</td>\n",
              "      <td>NaN</td>\n",
              "      <td>NaN</td>\n",
              "      <td>74138</td>\n",
              "      <td>CCCCCCCCCCCCCCCCCCCCC=C</td>\n",
              "    </tr>\n",
              "  </tbody>\n",
              "</table>\n",
              "<p>194 rows × 9 columns</p>\n",
              "</div>\n",
              "    <div class=\"colab-df-buttons\">\n",
              "\n",
              "  <div class=\"colab-df-container\">\n",
              "    <button class=\"colab-df-convert\" onclick=\"convertToInteractive('df-5469163e-eb08-42b6-a433-99dad4b04563')\"\n",
              "            title=\"Convert this dataframe to an interactive table.\"\n",
              "            style=\"display:none;\">\n",
              "\n",
              "  <svg xmlns=\"http://www.w3.org/2000/svg\" height=\"24px\" viewBox=\"0 -960 960 960\">\n",
              "    <path d=\"M120-120v-720h720v720H120Zm60-500h600v-160H180v160Zm220 220h160v-160H400v160Zm0 220h160v-160H400v160ZM180-400h160v-160H180v160Zm440 0h160v-160H620v160ZM180-180h160v-160H180v160Zm440 0h160v-160H620v160Z\"/>\n",
              "  </svg>\n",
              "    </button>\n",
              "\n",
              "  <style>\n",
              "    .colab-df-container {\n",
              "      display:flex;\n",
              "      gap: 12px;\n",
              "    }\n",
              "\n",
              "    .colab-df-convert {\n",
              "      background-color: #E8F0FE;\n",
              "      border: none;\n",
              "      border-radius: 50%;\n",
              "      cursor: pointer;\n",
              "      display: none;\n",
              "      fill: #1967D2;\n",
              "      height: 32px;\n",
              "      padding: 0 0 0 0;\n",
              "      width: 32px;\n",
              "    }\n",
              "\n",
              "    .colab-df-convert:hover {\n",
              "      background-color: #E2EBFA;\n",
              "      box-shadow: 0px 1px 2px rgba(60, 64, 67, 0.3), 0px 1px 3px 1px rgba(60, 64, 67, 0.15);\n",
              "      fill: #174EA6;\n",
              "    }\n",
              "\n",
              "    .colab-df-buttons div {\n",
              "      margin-bottom: 4px;\n",
              "    }\n",
              "\n",
              "    [theme=dark] .colab-df-convert {\n",
              "      background-color: #3B4455;\n",
              "      fill: #D2E3FC;\n",
              "    }\n",
              "\n",
              "    [theme=dark] .colab-df-convert:hover {\n",
              "      background-color: #434B5C;\n",
              "      box-shadow: 0px 1px 3px 1px rgba(0, 0, 0, 0.15);\n",
              "      filter: drop-shadow(0px 1px 2px rgba(0, 0, 0, 0.3));\n",
              "      fill: #FFFFFF;\n",
              "    }\n",
              "  </style>\n",
              "\n",
              "    <script>\n",
              "      const buttonEl =\n",
              "        document.querySelector('#df-5469163e-eb08-42b6-a433-99dad4b04563 button.colab-df-convert');\n",
              "      buttonEl.style.display =\n",
              "        google.colab.kernel.accessAllowed ? 'block' : 'none';\n",
              "\n",
              "      async function convertToInteractive(key) {\n",
              "        const element = document.querySelector('#df-5469163e-eb08-42b6-a433-99dad4b04563');\n",
              "        const dataTable =\n",
              "          await google.colab.kernel.invokeFunction('convertToInteractive',\n",
              "                                                    [key], {});\n",
              "        if (!dataTable) return;\n",
              "\n",
              "        const docLinkHtml = 'Like what you see? Visit the ' +\n",
              "          '<a target=\"_blank\" href=https://colab.research.google.com/notebooks/data_table.ipynb>data table notebook</a>'\n",
              "          + ' to learn more about interactive tables.';\n",
              "        element.innerHTML = '';\n",
              "        dataTable['output_type'] = 'display_data';\n",
              "        await google.colab.output.renderOutput(dataTable, element);\n",
              "        const docLink = document.createElement('div');\n",
              "        docLink.innerHTML = docLinkHtml;\n",
              "        element.appendChild(docLink);\n",
              "      }\n",
              "    </script>\n",
              "  </div>\n",
              "\n",
              "\n",
              "<div id=\"df-03dcb796-d020-4ed4-be10-6aa8a687dbdf\">\n",
              "  <button class=\"colab-df-quickchart\" onclick=\"quickchart('df-03dcb796-d020-4ed4-be10-6aa8a687dbdf')\"\n",
              "            title=\"Suggest charts\"\n",
              "            style=\"display:none;\">\n",
              "\n",
              "<svg xmlns=\"http://www.w3.org/2000/svg\" height=\"24px\"viewBox=\"0 0 24 24\"\n",
              "     width=\"24px\">\n",
              "    <g>\n",
              "        <path d=\"M19 3H5c-1.1 0-2 .9-2 2v14c0 1.1.9 2 2 2h14c1.1 0 2-.9 2-2V5c0-1.1-.9-2-2-2zM9 17H7v-7h2v7zm4 0h-2V7h2v10zm4 0h-2v-4h2v4z\"/>\n",
              "    </g>\n",
              "</svg>\n",
              "  </button>\n",
              "\n",
              "<style>\n",
              "  .colab-df-quickchart {\n",
              "      --bg-color: #E8F0FE;\n",
              "      --fill-color: #1967D2;\n",
              "      --hover-bg-color: #E2EBFA;\n",
              "      --hover-fill-color: #174EA6;\n",
              "      --disabled-fill-color: #AAA;\n",
              "      --disabled-bg-color: #DDD;\n",
              "  }\n",
              "\n",
              "  [theme=dark] .colab-df-quickchart {\n",
              "      --bg-color: #3B4455;\n",
              "      --fill-color: #D2E3FC;\n",
              "      --hover-bg-color: #434B5C;\n",
              "      --hover-fill-color: #FFFFFF;\n",
              "      --disabled-bg-color: #3B4455;\n",
              "      --disabled-fill-color: #666;\n",
              "  }\n",
              "\n",
              "  .colab-df-quickchart {\n",
              "    background-color: var(--bg-color);\n",
              "    border: none;\n",
              "    border-radius: 50%;\n",
              "    cursor: pointer;\n",
              "    display: none;\n",
              "    fill: var(--fill-color);\n",
              "    height: 32px;\n",
              "    padding: 0;\n",
              "    width: 32px;\n",
              "  }\n",
              "\n",
              "  .colab-df-quickchart:hover {\n",
              "    background-color: var(--hover-bg-color);\n",
              "    box-shadow: 0 1px 2px rgba(60, 64, 67, 0.3), 0 1px 3px 1px rgba(60, 64, 67, 0.15);\n",
              "    fill: var(--button-hover-fill-color);\n",
              "  }\n",
              "\n",
              "  .colab-df-quickchart-complete:disabled,\n",
              "  .colab-df-quickchart-complete:disabled:hover {\n",
              "    background-color: var(--disabled-bg-color);\n",
              "    fill: var(--disabled-fill-color);\n",
              "    box-shadow: none;\n",
              "  }\n",
              "\n",
              "  .colab-df-spinner {\n",
              "    border: 2px solid var(--fill-color);\n",
              "    border-color: transparent;\n",
              "    border-bottom-color: var(--fill-color);\n",
              "    animation:\n",
              "      spin 1s steps(1) infinite;\n",
              "  }\n",
              "\n",
              "  @keyframes spin {\n",
              "    0% {\n",
              "      border-color: transparent;\n",
              "      border-bottom-color: var(--fill-color);\n",
              "      border-left-color: var(--fill-color);\n",
              "    }\n",
              "    20% {\n",
              "      border-color: transparent;\n",
              "      border-left-color: var(--fill-color);\n",
              "      border-top-color: var(--fill-color);\n",
              "    }\n",
              "    30% {\n",
              "      border-color: transparent;\n",
              "      border-left-color: var(--fill-color);\n",
              "      border-top-color: var(--fill-color);\n",
              "      border-right-color: var(--fill-color);\n",
              "    }\n",
              "    40% {\n",
              "      border-color: transparent;\n",
              "      border-right-color: var(--fill-color);\n",
              "      border-top-color: var(--fill-color);\n",
              "    }\n",
              "    60% {\n",
              "      border-color: transparent;\n",
              "      border-right-color: var(--fill-color);\n",
              "    }\n",
              "    80% {\n",
              "      border-color: transparent;\n",
              "      border-right-color: var(--fill-color);\n",
              "      border-bottom-color: var(--fill-color);\n",
              "    }\n",
              "    90% {\n",
              "      border-color: transparent;\n",
              "      border-bottom-color: var(--fill-color);\n",
              "    }\n",
              "  }\n",
              "</style>\n",
              "\n",
              "  <script>\n",
              "    async function quickchart(key) {\n",
              "      const quickchartButtonEl =\n",
              "        document.querySelector('#' + key + ' button');\n",
              "      quickchartButtonEl.disabled = true;  // To prevent multiple clicks.\n",
              "      quickchartButtonEl.classList.add('colab-df-spinner');\n",
              "      try {\n",
              "        const charts = await google.colab.kernel.invokeFunction(\n",
              "            'suggestCharts', [key], {});\n",
              "      } catch (error) {\n",
              "        console.error('Error during call to suggestCharts:', error);\n",
              "      }\n",
              "      quickchartButtonEl.classList.remove('colab-df-spinner');\n",
              "      quickchartButtonEl.classList.add('colab-df-quickchart-complete');\n",
              "    }\n",
              "    (() => {\n",
              "      let quickchartButtonEl =\n",
              "        document.querySelector('#df-03dcb796-d020-4ed4-be10-6aa8a687dbdf button');\n",
              "      quickchartButtonEl.style.display =\n",
              "        google.colab.kernel.accessAllowed ? 'block' : 'none';\n",
              "    })();\n",
              "  </script>\n",
              "</div>\n",
              "\n",
              "    </div>\n",
              "  </div>\n"
            ],
            "application/vnd.google.colaboratory.intrinsic+json": {
              "type": "dataframe",
              "variable_name": "df",
              "summary": "{\n  \"name\": \"df\",\n  \"rows\": 194,\n  \"fields\": [\n    {\n      \"column\": \"Class of hydrocarbon\",\n      \"properties\": {\n        \"dtype\": \"category\",\n        \"num_unique_values\": 19,\n        \"samples\": [\n          \"Trimetylalkane\",\n          \"Dicycloalkane\",\n          \"Alkylbenzene\"\n        ],\n        \"semantic_type\": \"\",\n        \"description\": \"\"\n      }\n    },\n    {\n      \"column\": \"IUPAC name\",\n      \"properties\": {\n        \"dtype\": \"string\",\n        \"num_unique_values\": 194,\n        \"samples\": [\n          \"2-methyl-1-hexene\",\n          \"N-hexane\",\n          \"2,2-dimethylpropane\"\n        ],\n        \"semantic_type\": \"\",\n        \"description\": \"\"\n      }\n    },\n    {\n      \"column\": \"Melting point\",\n      \"properties\": {\n        \"dtype\": \"number\",\n        \"std\": 81.92543748348768,\n        \"min\": -188.0,\n        \"max\": 256.0,\n        \"num_unique_values\": 141,\n        \"samples\": [\n          -129.0,\n          -136.0,\n          44.0\n        ],\n        \"semantic_type\": \"\",\n        \"description\": \"\"\n      }\n    },\n    {\n      \"column\": \"Boiling point\",\n      \"properties\": {\n        \"dtype\": \"number\",\n        \"std\": 139.3035627519172,\n        \"min\": -162.0,\n        \"max\": 625.0,\n        \"num_unique_values\": 169,\n        \"samples\": [\n          10.0,\n          359.0,\n          120.0\n        ],\n        \"semantic_type\": \"\",\n        \"description\": \"\"\n      }\n    },\n    {\n      \"column\": \"Density\",\n      \"properties\": {\n        \"dtype\": \"string\",\n        \"num_unique_values\": 145,\n        \"samples\": [\n          \"0.777\",\n          \"0.751\",\n          \"0.785\"\n        ],\n        \"semantic_type\": \"\",\n        \"description\": \"\"\n      }\n    },\n    {\n      \"column\": \"Flash point\",\n      \"properties\": {\n        \"dtype\": \"category\",\n        \"num_unique_values\": 61,\n        \"samples\": [\n          \"171\",\n          \"-49\",\n          \"42\"\n        ],\n        \"semantic_type\": \"\",\n        \"description\": \"\"\n      }\n    },\n    {\n      \"column\": \"Autoignition temp\",\n      \"properties\": {\n        \"dtype\": \"category\",\n        \"num_unique_values\": 45,\n        \"samples\": [\n          \"245\",\n          \"535\",\n          \"463\"\n        ],\n        \"semantic_type\": \"\",\n        \"description\": \"\"\n      }\n    },\n    {\n      \"column\": \"pubchem_id\",\n      \"properties\": {\n        \"dtype\": \"number\",\n        \"std\": 331051,\n        \"min\": 241,\n        \"max\": 4526742,\n        \"num_unique_values\": 192,\n        \"samples\": [\n          81067,\n          22468,\n          8078\n        ],\n        \"semantic_type\": \"\",\n        \"description\": \"\"\n      }\n    },\n    {\n      \"column\": \"smiles\",\n      \"properties\": {\n        \"dtype\": \"string\",\n        \"num_unique_values\": 192,\n        \"samples\": [\n          \"CCCCCCCCCCCCCCCCCCCCCCCCCCCCCCCCCCCCCCCCCCCCCCCCCC\",\n          \"CCCCC(=C)C\",\n          \"C1CCCCC1\"\n        ],\n        \"semantic_type\": \"\",\n        \"description\": \"\"\n      }\n    }\n  ]\n}"
            }
          },
          "metadata": {},
          "execution_count": 15
        }
      ]
    },
    {
      "cell_type": "code",
      "source": [
        "# dataset information\n",
        "\n",
        "df.info()"
      ],
      "metadata": {
        "colab": {
          "base_uri": "https://localhost:8080/"
        },
        "id": "Rolkvi3ZG5q6",
        "outputId": "7cafba42-c9c7-467e-f94c-c9a79fb18a99"
      },
      "execution_count": 16,
      "outputs": [
        {
          "output_type": "stream",
          "name": "stdout",
          "text": [
            "<class 'pandas.core.frame.DataFrame'>\n",
            "RangeIndex: 194 entries, 0 to 193\n",
            "Data columns (total 9 columns):\n",
            " #   Column                Non-Null Count  Dtype  \n",
            "---  ------                --------------  -----  \n",
            " 0   Class of hydrocarbon  194 non-null    object \n",
            " 1   IUPAC name            194 non-null    object \n",
            " 2   Melting point         188 non-null    float64\n",
            " 3   Boiling point         190 non-null    float64\n",
            " 4   Density               189 non-null    object \n",
            " 5   Flash point           77 non-null     object \n",
            " 6   Autoignition temp     63 non-null     object \n",
            " 7   pubchem_id            194 non-null    int64  \n",
            " 8   smiles                194 non-null    object \n",
            "dtypes: float64(2), int64(1), object(6)\n",
            "memory usage: 13.8+ KB\n"
          ]
        }
      ]
    },
    {
      "cell_type": "code",
      "source": [
        "# Null values\n",
        "df.isnull().sum()\n"
      ],
      "metadata": {
        "colab": {
          "base_uri": "https://localhost:8080/",
          "height": 366
        },
        "id": "KIKDqdjzHHA4",
        "outputId": "2434d2fd-36a2-4d47-c955-edd18d5128a1"
      },
      "execution_count": 17,
      "outputs": [
        {
          "output_type": "execute_result",
          "data": {
            "text/plain": [
              "Class of hydrocarbon      0\n",
              "IUPAC name                0\n",
              "Melting point             6\n",
              "Boiling point             4\n",
              "Density                   5\n",
              "Flash point             117\n",
              "Autoignition temp       131\n",
              "pubchem_id                0\n",
              "smiles                    0\n",
              "dtype: int64"
            ],
            "text/html": [
              "<div>\n",
              "<style scoped>\n",
              "    .dataframe tbody tr th:only-of-type {\n",
              "        vertical-align: middle;\n",
              "    }\n",
              "\n",
              "    .dataframe tbody tr th {\n",
              "        vertical-align: top;\n",
              "    }\n",
              "\n",
              "    .dataframe thead th {\n",
              "        text-align: right;\n",
              "    }\n",
              "</style>\n",
              "<table border=\"1\" class=\"dataframe\">\n",
              "  <thead>\n",
              "    <tr style=\"text-align: right;\">\n",
              "      <th></th>\n",
              "      <th>0</th>\n",
              "    </tr>\n",
              "  </thead>\n",
              "  <tbody>\n",
              "    <tr>\n",
              "      <th>Class of hydrocarbon</th>\n",
              "      <td>0</td>\n",
              "    </tr>\n",
              "    <tr>\n",
              "      <th>IUPAC name</th>\n",
              "      <td>0</td>\n",
              "    </tr>\n",
              "    <tr>\n",
              "      <th>Melting point</th>\n",
              "      <td>6</td>\n",
              "    </tr>\n",
              "    <tr>\n",
              "      <th>Boiling point</th>\n",
              "      <td>4</td>\n",
              "    </tr>\n",
              "    <tr>\n",
              "      <th>Density</th>\n",
              "      <td>5</td>\n",
              "    </tr>\n",
              "    <tr>\n",
              "      <th>Flash point</th>\n",
              "      <td>117</td>\n",
              "    </tr>\n",
              "    <tr>\n",
              "      <th>Autoignition temp</th>\n",
              "      <td>131</td>\n",
              "    </tr>\n",
              "    <tr>\n",
              "      <th>pubchem_id</th>\n",
              "      <td>0</td>\n",
              "    </tr>\n",
              "    <tr>\n",
              "      <th>smiles</th>\n",
              "      <td>0</td>\n",
              "    </tr>\n",
              "  </tbody>\n",
              "</table>\n",
              "</div><br><label><b>dtype:</b> int64</label>"
            ]
          },
          "metadata": {},
          "execution_count": 17
        }
      ]
    },
    {
      "cell_type": "code",
      "source": [
        "# calculating descriptive statistics\n",
        "df.describe()"
      ],
      "metadata": {
        "colab": {
          "base_uri": "https://localhost:8080/",
          "height": 300
        },
        "id": "nfg2VVi6joa9",
        "outputId": "fb09171a-7490-47a7-d2b7-982ee31c1c83"
      },
      "execution_count": 18,
      "outputs": [
        {
          "output_type": "execute_result",
          "data": {
            "text/plain": [
              "       Melting point  Boiling point    pubchem_id\n",
              "count     188.000000     190.000000  1.940000e+02\n",
              "mean      -30.558511     208.631579  5.575594e+04\n",
              "std        81.925437     139.303563  3.310518e+05\n",
              "min      -188.000000    -162.000000  2.410000e+02\n",
              "25%       -95.000000     112.000000  8.967500e+03\n",
              "50%       -27.500000     205.500000  1.240400e+04\n",
              "75%        15.250000     298.000000  1.938925e+04\n",
              "max       256.000000     625.000000  4.526742e+06"
            ],
            "text/html": [
              "\n",
              "  <div id=\"df-c928f360-8ea0-4b00-908f-b29c2eaf4a8e\" class=\"colab-df-container\">\n",
              "    <div>\n",
              "<style scoped>\n",
              "    .dataframe tbody tr th:only-of-type {\n",
              "        vertical-align: middle;\n",
              "    }\n",
              "\n",
              "    .dataframe tbody tr th {\n",
              "        vertical-align: top;\n",
              "    }\n",
              "\n",
              "    .dataframe thead th {\n",
              "        text-align: right;\n",
              "    }\n",
              "</style>\n",
              "<table border=\"1\" class=\"dataframe\">\n",
              "  <thead>\n",
              "    <tr style=\"text-align: right;\">\n",
              "      <th></th>\n",
              "      <th>Melting point</th>\n",
              "      <th>Boiling point</th>\n",
              "      <th>pubchem_id</th>\n",
              "    </tr>\n",
              "  </thead>\n",
              "  <tbody>\n",
              "    <tr>\n",
              "      <th>count</th>\n",
              "      <td>188.000000</td>\n",
              "      <td>190.000000</td>\n",
              "      <td>1.940000e+02</td>\n",
              "    </tr>\n",
              "    <tr>\n",
              "      <th>mean</th>\n",
              "      <td>-30.558511</td>\n",
              "      <td>208.631579</td>\n",
              "      <td>5.575594e+04</td>\n",
              "    </tr>\n",
              "    <tr>\n",
              "      <th>std</th>\n",
              "      <td>81.925437</td>\n",
              "      <td>139.303563</td>\n",
              "      <td>3.310518e+05</td>\n",
              "    </tr>\n",
              "    <tr>\n",
              "      <th>min</th>\n",
              "      <td>-188.000000</td>\n",
              "      <td>-162.000000</td>\n",
              "      <td>2.410000e+02</td>\n",
              "    </tr>\n",
              "    <tr>\n",
              "      <th>25%</th>\n",
              "      <td>-95.000000</td>\n",
              "      <td>112.000000</td>\n",
              "      <td>8.967500e+03</td>\n",
              "    </tr>\n",
              "    <tr>\n",
              "      <th>50%</th>\n",
              "      <td>-27.500000</td>\n",
              "      <td>205.500000</td>\n",
              "      <td>1.240400e+04</td>\n",
              "    </tr>\n",
              "    <tr>\n",
              "      <th>75%</th>\n",
              "      <td>15.250000</td>\n",
              "      <td>298.000000</td>\n",
              "      <td>1.938925e+04</td>\n",
              "    </tr>\n",
              "    <tr>\n",
              "      <th>max</th>\n",
              "      <td>256.000000</td>\n",
              "      <td>625.000000</td>\n",
              "      <td>4.526742e+06</td>\n",
              "    </tr>\n",
              "  </tbody>\n",
              "</table>\n",
              "</div>\n",
              "    <div class=\"colab-df-buttons\">\n",
              "\n",
              "  <div class=\"colab-df-container\">\n",
              "    <button class=\"colab-df-convert\" onclick=\"convertToInteractive('df-c928f360-8ea0-4b00-908f-b29c2eaf4a8e')\"\n",
              "            title=\"Convert this dataframe to an interactive table.\"\n",
              "            style=\"display:none;\">\n",
              "\n",
              "  <svg xmlns=\"http://www.w3.org/2000/svg\" height=\"24px\" viewBox=\"0 -960 960 960\">\n",
              "    <path d=\"M120-120v-720h720v720H120Zm60-500h600v-160H180v160Zm220 220h160v-160H400v160Zm0 220h160v-160H400v160ZM180-400h160v-160H180v160Zm440 0h160v-160H620v160ZM180-180h160v-160H180v160Zm440 0h160v-160H620v160Z\"/>\n",
              "  </svg>\n",
              "    </button>\n",
              "\n",
              "  <style>\n",
              "    .colab-df-container {\n",
              "      display:flex;\n",
              "      gap: 12px;\n",
              "    }\n",
              "\n",
              "    .colab-df-convert {\n",
              "      background-color: #E8F0FE;\n",
              "      border: none;\n",
              "      border-radius: 50%;\n",
              "      cursor: pointer;\n",
              "      display: none;\n",
              "      fill: #1967D2;\n",
              "      height: 32px;\n",
              "      padding: 0 0 0 0;\n",
              "      width: 32px;\n",
              "    }\n",
              "\n",
              "    .colab-df-convert:hover {\n",
              "      background-color: #E2EBFA;\n",
              "      box-shadow: 0px 1px 2px rgba(60, 64, 67, 0.3), 0px 1px 3px 1px rgba(60, 64, 67, 0.15);\n",
              "      fill: #174EA6;\n",
              "    }\n",
              "\n",
              "    .colab-df-buttons div {\n",
              "      margin-bottom: 4px;\n",
              "    }\n",
              "\n",
              "    [theme=dark] .colab-df-convert {\n",
              "      background-color: #3B4455;\n",
              "      fill: #D2E3FC;\n",
              "    }\n",
              "\n",
              "    [theme=dark] .colab-df-convert:hover {\n",
              "      background-color: #434B5C;\n",
              "      box-shadow: 0px 1px 3px 1px rgba(0, 0, 0, 0.15);\n",
              "      filter: drop-shadow(0px 1px 2px rgba(0, 0, 0, 0.3));\n",
              "      fill: #FFFFFF;\n",
              "    }\n",
              "  </style>\n",
              "\n",
              "    <script>\n",
              "      const buttonEl =\n",
              "        document.querySelector('#df-c928f360-8ea0-4b00-908f-b29c2eaf4a8e button.colab-df-convert');\n",
              "      buttonEl.style.display =\n",
              "        google.colab.kernel.accessAllowed ? 'block' : 'none';\n",
              "\n",
              "      async function convertToInteractive(key) {\n",
              "        const element = document.querySelector('#df-c928f360-8ea0-4b00-908f-b29c2eaf4a8e');\n",
              "        const dataTable =\n",
              "          await google.colab.kernel.invokeFunction('convertToInteractive',\n",
              "                                                    [key], {});\n",
              "        if (!dataTable) return;\n",
              "\n",
              "        const docLinkHtml = 'Like what you see? Visit the ' +\n",
              "          '<a target=\"_blank\" href=https://colab.research.google.com/notebooks/data_table.ipynb>data table notebook</a>'\n",
              "          + ' to learn more about interactive tables.';\n",
              "        element.innerHTML = '';\n",
              "        dataTable['output_type'] = 'display_data';\n",
              "        await google.colab.output.renderOutput(dataTable, element);\n",
              "        const docLink = document.createElement('div');\n",
              "        docLink.innerHTML = docLinkHtml;\n",
              "        element.appendChild(docLink);\n",
              "      }\n",
              "    </script>\n",
              "  </div>\n",
              "\n",
              "\n",
              "<div id=\"df-08835e09-2607-407f-905d-8aa7acfe4dee\">\n",
              "  <button class=\"colab-df-quickchart\" onclick=\"quickchart('df-08835e09-2607-407f-905d-8aa7acfe4dee')\"\n",
              "            title=\"Suggest charts\"\n",
              "            style=\"display:none;\">\n",
              "\n",
              "<svg xmlns=\"http://www.w3.org/2000/svg\" height=\"24px\"viewBox=\"0 0 24 24\"\n",
              "     width=\"24px\">\n",
              "    <g>\n",
              "        <path d=\"M19 3H5c-1.1 0-2 .9-2 2v14c0 1.1.9 2 2 2h14c1.1 0 2-.9 2-2V5c0-1.1-.9-2-2-2zM9 17H7v-7h2v7zm4 0h-2V7h2v10zm4 0h-2v-4h2v4z\"/>\n",
              "    </g>\n",
              "</svg>\n",
              "  </button>\n",
              "\n",
              "<style>\n",
              "  .colab-df-quickchart {\n",
              "      --bg-color: #E8F0FE;\n",
              "      --fill-color: #1967D2;\n",
              "      --hover-bg-color: #E2EBFA;\n",
              "      --hover-fill-color: #174EA6;\n",
              "      --disabled-fill-color: #AAA;\n",
              "      --disabled-bg-color: #DDD;\n",
              "  }\n",
              "\n",
              "  [theme=dark] .colab-df-quickchart {\n",
              "      --bg-color: #3B4455;\n",
              "      --fill-color: #D2E3FC;\n",
              "      --hover-bg-color: #434B5C;\n",
              "      --hover-fill-color: #FFFFFF;\n",
              "      --disabled-bg-color: #3B4455;\n",
              "      --disabled-fill-color: #666;\n",
              "  }\n",
              "\n",
              "  .colab-df-quickchart {\n",
              "    background-color: var(--bg-color);\n",
              "    border: none;\n",
              "    border-radius: 50%;\n",
              "    cursor: pointer;\n",
              "    display: none;\n",
              "    fill: var(--fill-color);\n",
              "    height: 32px;\n",
              "    padding: 0;\n",
              "    width: 32px;\n",
              "  }\n",
              "\n",
              "  .colab-df-quickchart:hover {\n",
              "    background-color: var(--hover-bg-color);\n",
              "    box-shadow: 0 1px 2px rgba(60, 64, 67, 0.3), 0 1px 3px 1px rgba(60, 64, 67, 0.15);\n",
              "    fill: var(--button-hover-fill-color);\n",
              "  }\n",
              "\n",
              "  .colab-df-quickchart-complete:disabled,\n",
              "  .colab-df-quickchart-complete:disabled:hover {\n",
              "    background-color: var(--disabled-bg-color);\n",
              "    fill: var(--disabled-fill-color);\n",
              "    box-shadow: none;\n",
              "  }\n",
              "\n",
              "  .colab-df-spinner {\n",
              "    border: 2px solid var(--fill-color);\n",
              "    border-color: transparent;\n",
              "    border-bottom-color: var(--fill-color);\n",
              "    animation:\n",
              "      spin 1s steps(1) infinite;\n",
              "  }\n",
              "\n",
              "  @keyframes spin {\n",
              "    0% {\n",
              "      border-color: transparent;\n",
              "      border-bottom-color: var(--fill-color);\n",
              "      border-left-color: var(--fill-color);\n",
              "    }\n",
              "    20% {\n",
              "      border-color: transparent;\n",
              "      border-left-color: var(--fill-color);\n",
              "      border-top-color: var(--fill-color);\n",
              "    }\n",
              "    30% {\n",
              "      border-color: transparent;\n",
              "      border-left-color: var(--fill-color);\n",
              "      border-top-color: var(--fill-color);\n",
              "      border-right-color: var(--fill-color);\n",
              "    }\n",
              "    40% {\n",
              "      border-color: transparent;\n",
              "      border-right-color: var(--fill-color);\n",
              "      border-top-color: var(--fill-color);\n",
              "    }\n",
              "    60% {\n",
              "      border-color: transparent;\n",
              "      border-right-color: var(--fill-color);\n",
              "    }\n",
              "    80% {\n",
              "      border-color: transparent;\n",
              "      border-right-color: var(--fill-color);\n",
              "      border-bottom-color: var(--fill-color);\n",
              "    }\n",
              "    90% {\n",
              "      border-color: transparent;\n",
              "      border-bottom-color: var(--fill-color);\n",
              "    }\n",
              "  }\n",
              "</style>\n",
              "\n",
              "  <script>\n",
              "    async function quickchart(key) {\n",
              "      const quickchartButtonEl =\n",
              "        document.querySelector('#' + key + ' button');\n",
              "      quickchartButtonEl.disabled = true;  // To prevent multiple clicks.\n",
              "      quickchartButtonEl.classList.add('colab-df-spinner');\n",
              "      try {\n",
              "        const charts = await google.colab.kernel.invokeFunction(\n",
              "            'suggestCharts', [key], {});\n",
              "      } catch (error) {\n",
              "        console.error('Error during call to suggestCharts:', error);\n",
              "      }\n",
              "      quickchartButtonEl.classList.remove('colab-df-spinner');\n",
              "      quickchartButtonEl.classList.add('colab-df-quickchart-complete');\n",
              "    }\n",
              "    (() => {\n",
              "      let quickchartButtonEl =\n",
              "        document.querySelector('#df-08835e09-2607-407f-905d-8aa7acfe4dee button');\n",
              "      quickchartButtonEl.style.display =\n",
              "        google.colab.kernel.accessAllowed ? 'block' : 'none';\n",
              "    })();\n",
              "  </script>\n",
              "</div>\n",
              "\n",
              "    </div>\n",
              "  </div>\n"
            ],
            "application/vnd.google.colaboratory.intrinsic+json": {
              "type": "dataframe",
              "summary": "{\n  \"name\": \"df\",\n  \"rows\": 8,\n  \"fields\": [\n    {\n      \"column\": \"Melting point\",\n      \"properties\": {\n        \"dtype\": \"number\",\n        \"std\": 145.83628998104416,\n        \"min\": -188.0,\n        \"max\": 256.0,\n        \"num_unique_values\": 8,\n        \"samples\": [\n          -30.55851063829787,\n          -27.5,\n          188.0\n        ],\n        \"semantic_type\": \"\",\n        \"description\": \"\"\n      }\n    },\n    {\n      \"column\": \"Boiling point\",\n      \"properties\": {\n        \"dtype\": \"number\",\n        \"std\": 218.06684670217217,\n        \"min\": -162.0,\n        \"max\": 625.0,\n        \"num_unique_values\": 8,\n        \"samples\": [\n          208.6315789473684,\n          205.5,\n          190.0\n        ],\n        \"semantic_type\": \"\",\n        \"description\": \"\"\n      }\n    },\n    {\n      \"column\": \"pubchem_id\",\n      \"properties\": {\n        \"dtype\": \"number\",\n        \"std\": 1582765.1937414666,\n        \"min\": 194.0,\n        \"max\": 4526742.0,\n        \"num_unique_values\": 8,\n        \"samples\": [\n          55755.94329896907,\n          12404.0,\n          194.0\n        ],\n        \"semantic_type\": \"\",\n        \"description\": \"\"\n      }\n    }\n  ]\n}"
            }
          },
          "metadata": {},
          "execution_count": 18
        }
      ]
    },
    {
      "cell_type": "markdown",
      "source": [
        "### __1.3 Dropping missing values__"
      ],
      "metadata": {
        "id": "3wqEX2eqvIk8"
      }
    },
    {
      "cell_type": "markdown",
      "source": [
        "Random Forrest Regression does not support null values. Therefore the nulls have to be dropped."
      ],
      "metadata": {
        "id": "OelOtePXrKBa"
      }
    },
    {
      "cell_type": "code",
      "source": [
        "# Dropping the columns\n",
        "df = df.drop(['Flash point','Autoignition temp'], axis=1)\n",
        "\n",
        "# Drop null values\n",
        "df = df.dropna()"
      ],
      "metadata": {
        "id": "CxTAMU83jdZh"
      },
      "execution_count": 19,
      "outputs": []
    },
    {
      "cell_type": "markdown",
      "source": [
        "# __2. Molecular Descriptors Calculation__"
      ],
      "metadata": {
        "id": "BMwpZeTpvosX"
      }
    },
    {
      "cell_type": "markdown",
      "source": [
        "The molecular descriptors are an argument, and returns a Python dictionary with values as keys - if multiple SMILES strings are supplied, \"from_smiles\" returns a list of dictionaries."
      ],
      "metadata": {
        "id": "4i8CTIaZvqhf"
      }
    },
    {
      "cell_type": "code",
      "source": [
        "# Function to generate molecular weight and number of aromatic bonds\n",
        "def generate_descriptors(smiles):\n",
        "    mol = Chem.MolFromSmiles(smiles)\n",
        "    if mol:\n",
        "        descriptors = {\n",
        "            'MolWt': Descriptors.MolWt(mol),                # Molecular Weight\n",
        "            'NumAromaticBonds': sum(1 for bond in mol.GetBonds() if bond.GetIsAromatic())  # Number of Aromatic Bonds\n",
        "        }\n",
        "        return pd.Series(descriptors)\n",
        "    else:\n",
        "        return pd.Series({'MolWt': None, 'NumAromaticBonds': None})\n",
        "\n",
        "# Apply the generate_descriptors function to the SMILES column of the original DataFrame\n",
        "descriptor_df = df['smiles'].apply(generate_descriptors)\n",
        "\n",
        "# Concatenate the original DataFrame with the new descriptors DataFrame\n",
        "df = pd.concat([df, descriptor_df], axis=1)\n",
        "\n",
        "# Display the first few rows of the resulting DataFrame\n",
        "print(df.head())"
      ],
      "metadata": {
        "id": "KboGR1E8dg7f",
        "colab": {
          "base_uri": "https://localhost:8080/"
        },
        "outputId": "b24345a7-28bc-4674-ae28-72d1c72eb89f"
      },
      "execution_count": 20,
      "outputs": [
        {
          "output_type": "stream",
          "name": "stdout",
          "text": [
            "  Class of hydrocarbon              IUPAC name  Melting point  Boiling point  \\\n",
            "0       Trimetylalkane  2,2,4-Trimethylpentane         -107.0           99.0   \n",
            "1         Triaromatics            Phenanthrene           99.0          338.0   \n",
            "2         Triaromatics              Anthracene          216.0          341.0   \n",
            "3         Triaromatics      1-methylanthracene           86.0          342.0   \n",
            "4         Triaromatics      2-methylanthracene          209.0          340.0   \n",
            "\n",
            "   Density  pubchem_id                         smiles    MolWt  \\\n",
            "0     0.69       10907                 CC(C)CC(C)(C)C  114.232   \n",
            "1     1.18         995  C1=CC=C2C(=C1)C=CC3=CC=CC=C32  178.234   \n",
            "2   1.2825        8418    C1=CC=C2C=C3C=CC=CC3=CC2=C1  178.234   \n",
            "3  1.04799       11884   CC1=CC=CC2=CC3=CC=CC=C3C=C12  192.261   \n",
            "4      1.8       11936   CC1=CC2=CC3=CC=CC=C3C=C2C=C1  192.261   \n",
            "\n",
            "   NumAromaticBonds  \n",
            "0               0.0  \n",
            "1              16.0  \n",
            "2              16.0  \n",
            "3              16.0  \n",
            "4              16.0  \n"
          ]
        }
      ]
    },
    {
      "cell_type": "markdown",
      "source": [
        "# __3. Data Preprocessing__"
      ],
      "metadata": {
        "id": "DNE5sSLYJowM"
      }
    },
    {
      "cell_type": "markdown",
      "source": [
        "### __3.1 Train-Test Split__"
      ],
      "metadata": {
        "id": "WqhkKEP8Jxpv"
      }
    },
    {
      "cell_type": "code",
      "source": [
        "# Define the feature columns and the target columns\n",
        "X = df[['MolWt', 'NumAromaticBonds']]\n",
        "y_boiling_point = df['Boiling point']   # Replace with the actual column name for boiling point\n",
        "y_melting_point = df['Melting point']   # Replace with the actual column name for melting point\n",
        "\n",
        "# Split the data into training and test sets\n",
        "X_train, X_test, y_boiling_train, y_boiling_test = train_test_split(X, y_boiling_point, test_size=0.2, random_state=42)\n",
        "X_train, X_test, y_melting_train, y_melting_test = train_test_split(X, y_melting_point, test_size=0.2, random_state=42)\n"
      ],
      "metadata": {
        "id": "1WjBwTXp2ioO"
      },
      "execution_count": 21,
      "outputs": []
    },
    {
      "cell_type": "markdown",
      "source": [
        "# __4. Model Training and Evaluation__\n",
        "\n",
        "#### Here, I trained 1 model, namely: `Random Forest Regression`.\n",
        "\n",
        "\n"
      ],
      "metadata": {
        "id": "1DzmgLs8J6SS"
      }
    },
    {
      "cell_type": "markdown",
      "source": [
        "### __4.1 Random Forest Regression__"
      ],
      "metadata": {
        "id": "qWMX0w58LIpG"
      }
    },
    {
      "cell_type": "markdown",
      "source": [
        "Random Forrest Regression does not support null values."
      ],
      "metadata": {
        "id": "WSP4LmpqKvDZ"
      }
    },
    {
      "cell_type": "code",
      "source": [
        "# Initialize and train the model for melting point\n",
        "melting_model = RandomForestRegressor(random_state=42)\n",
        "melting_model.fit(X_train, y_melting_train)\n",
        "\n",
        "# Make predictions\n",
        "y_melting_pred = melting_model.predict(X_test)\n"
      ],
      "metadata": {
        "id": "nWc2LgTm2wdX"
      },
      "execution_count": 22,
      "outputs": []
    },
    {
      "cell_type": "code",
      "source": [
        "\n",
        "\n",
        "# Initialize and train the model for boiling point\n",
        "boiling_model = RandomForestRegressor(random_state=42)\n",
        "boiling_model.fit(X_train, y_boiling_train)\n",
        "\n",
        "# Make predictions\n",
        "y_boiling_pred = boiling_model.predict(X_test)\n"
      ],
      "metadata": {
        "id": "_24nDNlw2s6O"
      },
      "execution_count": 23,
      "outputs": []
    },
    {
      "cell_type": "markdown",
      "source": [
        "### __4.2 Model Evaluation__\n",
        "\n",
        "In this report the following evaluation metrics are used:\n",
        "\n",
        "\n",
        "\n",
        "*   `Mean Squared Error`\n",
        "*   `Root Mean Squared Error`\n",
        "*   `R-squared`"
      ],
      "metadata": {
        "id": "Ft753WSfNXKr"
      }
    },
    {
      "cell_type": "code",
      "source": [
        "# Evaluate the melting point model\n",
        "melting_mse = mean_squared_error(y_melting_test, y_melting_pred)\n",
        "melting_rmse = np.sqrt(melting_mse)\n",
        "melting_r2 = r2_score(y_melting_test, y_melting_pred)\n",
        "\n",
        "# Print the results\n",
        "print(f'Melting Point Model - MSE: {melting_mse:.3f}, RMSE: {melting_rmse:.3f}, R^2: {melting_r2:.3f}')"
      ],
      "metadata": {
        "id": "QJmrr5DZOLO3",
        "colab": {
          "base_uri": "https://localhost:8080/"
        },
        "outputId": "c3f919b3-a94d-401a-9862-caf8e9402619"
      },
      "execution_count": 24,
      "outputs": [
        {
          "output_type": "stream",
          "name": "stdout",
          "text": [
            "Melting Point Model - MSE: 1862.262, RMSE: 43.154, R^2: 0.589\n"
          ]
        }
      ]
    },
    {
      "cell_type": "code",
      "source": [
        "# Evaluate the boiiing point model\n",
        "boiling_mse = mean_squared_error(y_boiling_test, y_boiling_pred)\n",
        "boiling_rmse = np.sqrt(boiling_mse)\n",
        "boiling_r2 = r2_score(y_boiling_test, y_boiling_pred)\n",
        "\n",
        "print(f'Boiling Point Model - MSE: {boiling_mse}, RMSE: {boiling_rmse:.3f}, R^2: {boiling_r2}')"
      ],
      "metadata": {
        "id": "EVvu9rWxOCnn",
        "colab": {
          "base_uri": "https://localhost:8080/"
        },
        "outputId": "a923a63a-2fd6-4808-c586-97b8831b10fd"
      },
      "execution_count": 29,
      "outputs": [
        {
          "output_type": "stream",
          "name": "stdout",
          "text": [
            "Boiling Point Model - MSE: 149.27007479262042, RMSE: 12.218, R^2: 0.9900004035843643\n"
          ]
        }
      ]
    },
    {
      "cell_type": "code",
      "source": [
        "# Print the final results\n",
        "print(f'Boiling Point Prediction - MSE: {boiling_mse}, R^2: {boiling_r2}, RMSE: {boiling_rmse:.3f}')\n",
        "print(f'Melting Point Prediction - MSE: {melting_mse}, R^2: {melting_r2}, RMSE: {melting_rmse:.3f} ')\n"
      ],
      "metadata": {
        "id": "a51T7m8i3rJf",
        "colab": {
          "base_uri": "https://localhost:8080/"
        },
        "outputId": "fcc65b48-c163-4d3c-dace-64f68bcaa7b4"
      },
      "execution_count": 30,
      "outputs": [
        {
          "output_type": "stream",
          "name": "stdout",
          "text": [
            "Boiling Point Prediction - MSE: 149.27007479262042, R^2: 0.9900004035843643, RMSE: 12.218\n",
            "Melting Point Prediction - MSE: 1862.2615882787122, R^2: 0.5891277340566354, RMSE: 43.154 \n"
          ]
        }
      ]
    },
    {
      "cell_type": "markdown",
      "source": [
        "# __5. Visualizations__"
      ],
      "metadata": {
        "id": "H4AVWVB3Qizq"
      }
    },
    {
      "cell_type": "markdown",
      "source": [
        "### __5.1 Melting Point__"
      ],
      "metadata": {
        "id": "dPRd8UHiQpSa"
      }
    },
    {
      "cell_type": "code",
      "source": [
        "# Scatter plot for Melting Point\n",
        "plt.scatter(y_melting_test, y_melting_pred, color='green', label='Melting Point Predictions')\n",
        "plt.plot([min(y_melting_test), max(y_melting_test)], [min(y_melting_test), max(y_melting_test)], color='red', linestyle='--')\n",
        "plt.xlabel('Actual Melting Point')\n",
        "plt.ylabel('Predicted Melting Point')\n",
        "plt.title('Melting Point Prediction: Actual vs Predicted')\n",
        "plt.legend()\n",
        "plt.show()\n"
      ],
      "metadata": {
        "id": "iM0XMbCk3gU2",
        "colab": {
          "base_uri": "https://localhost:8080/",
          "height": 472
        },
        "outputId": "26580487-e4b1-4cff-97cd-42843b98c4c7"
      },
      "execution_count": 27,
      "outputs": [
        {
          "output_type": "display_data",
          "data": {
            "text/plain": [
              "<Figure size 640x480 with 1 Axes>"
            ],
            "image/png": "[encoded data removed]"
          },
          "metadata": {}
        }
      ]
    },
    {
      "cell_type": "markdown",
      "source": [
        "### __5.2 Boiling Point__"
      ],
      "metadata": {
        "id": "pFOsZSsVQ18k"
      }
    },
    {
      "cell_type": "code",
      "source": [
        "# Scatter plot for Boiling Point\n",
        "plt.scatter(y_boiling_test, y_boiling_pred, color='blue', label='Boiling Point Predictions')\n",
        "plt.plot([min(y_boiling_test), max(y_boiling_test)], [min(y_boiling_test), max(y_boiling_test)], color='red', linestyle='--')\n",
        "plt.xlabel('Actual Boiling Point')\n",
        "plt.ylabel('Predicted Boiling Point')\n",
        "plt.title('Boiling Point Prediction: Actual vs Predicted')\n",
        "plt.legend()\n",
        "plt.show()\n"
      ],
      "metadata": {
        "id": "z_FtUPA73QLz",
        "colab": {
          "base_uri": "https://localhost:8080/",
          "height": 472
        },
        "outputId": "77e928eb-a221-41ae-aac9-43f862369ac5"
      },
      "execution_count": 28,
      "outputs": [
        {
          "output_type": "display_data",
          "data": {
            "text/plain": [
              "<Figure size 640x480 with 1 Axes>"
            ],
            "image/png": "[encoded data removed]"
          },
          "metadata": {}
        }
      ]
    },
    {
      "cell_type": "markdown",
      "source": [
        "# 6. Results discussion and Conclusion\n",
        "\n",
        "### 6.1. Results Discussion and Conclusion\n",
        "\n",
        "### Results Discussion and Conclusion\n",
        "\n",
        "#### **Melting Point Model**\n",
        "- **Mean Squared Error (MSE):** 1862.262\n",
        "- **Root Mean Squared Error (RMSE):** 43.154\n",
        "- **R-squared (R^2):** 0.589\n",
        "\n",
        "The Melting Point Model has an R^2 value of 0.589, meaning it explains about 59% of the differences in melting points. This is decent but suggests the model could be better with more features or a more complex approach.\n",
        "\n",
        "The RMSE of 43.154 shows that the model's predictions are off by about 43 units on average. Depending on the melting point range in the dataset, this might be too large, indicating the need for improvement.\n",
        "\n",
        "**Scatter Plot Analysis:** The scatter plot comparing predicted and actual melting points shows some correlation, but points are spread out. This suggests that the model is accurate in some cases but less so in others. There might be specific cases where the model struggles, possibly due to missing features or outliers.\n",
        "\n",
        "#### **Boiling Point Model**\n",
        "- **Mean Squared Error (MSE):** 149.270\n",
        "- **Root Mean Squared Error (RMSE):** 12.218\n",
        "- **R-squared (R^2):** 0.990\n",
        "\n",
        "The Boiling Point Model has an R^2 value of 0.990, meaning it explains about 99% of the differences in boiling points. This is excellent, showing that the model is very good at predicting boiling points based on the given features.\n",
        "\n",
        "The RMSE of 12.218 means the model's predictions are very close to the actual values, with a small average error, showing high accuracy.\n",
        "\n",
        "**Scatter Plot Analysis:** The scatter plot for boiling points shows that the predicted values are very close to the actual values, with most points lying near the diagonal line. There are a few slight deviations, but overall, the model performs very well.\n",
        "\n",
        "### **Challenges Encountered**\n",
        "- **Limited Features:** The dataset only included molecular weight and aromatic bonds. With more features, the model might have been more accurate, especially for melting points.\n",
        "- **Possible Overfitting:** The very high R^2 value for boiling points suggests that the model might be too closely fitted to the training data, which could affect its performance on new data.\n",
        "- **Data Imbalance:** If the dataset had uneven distribution of melting and boiling points, it could affect model performance, especially for less common ranges.\n",
        "\n",
        "### **Potential Improvements**\n",
        "- **Adding Features:** Including more features, like hydrogen bond donors/acceptors or logP, could improve the models.\n",
        "- **Tuning the Model:** Adjusting the Random Forest model's settings with techniques like GridSearchCV or RandomizedSearchCV could improve performance, especially for melting points.\n",
        "- **Cross-Validation:** Using cross-validation would give a better estimate of the model’s performance and help reduce overfitting.\n",
        "- **Exploring Other Models:** Trying different models, like Support Vector Regression (SVR), Gradient Boosting, or deep learning, could provide better predictions.\n",
        "\n",
        "### **Conclusion**\n",
        "The Random Forest model did a great job predicting boiling points, with predictions very close to the actual values. The scatter plot confirms this high performance. However, the melting point model needs improvement, as the scatter plot shows more variation in predictions. By adding more features, adjusting the model, and trying other methods, we can enhance the accuracy for predicting melting points. This project shows the importance of choosing the right features, fine-tuning models, and using visualizations to evaluate and improve model performance."
      ],
      "metadata": {
        "id": "dOLNNMkBu-ys"
      }
    },
    {
      "cell_type": "code",
      "source": [],
      "metadata": {
        "id": "dNkZhdDBzcrR"
      },
      "execution_count": null,
      "outputs": []
    }
  ]
}