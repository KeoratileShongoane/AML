{
  "nbformat": 4,
  "nbformat_minor": 0,
  "metadata": {
    "colab": {
      "provenance": [],
      "authorship_tag": "ABX9TyN+T1ctJ87yim58ied5dNVh",
      "include_colab_link": true
    },
    "kernelspec": {
      "name": "python3",
      "display_name": "Python 3"
    },
    "language_info": {
      "name": "python"
    }
  },
  "cells": [
    {
      "cell_type": "markdown",
      "metadata": {
        "id": "view-in-github",
        "colab_type": "text"
      },
      "source": [
        "<a href=\"https://colab.research.google.com/github/KeoratileShongoane/AML/blob/main/Tanimoto_Score.ipynb\" target=\"_parent\"><img src=\"https://colab.research.google.com/assets/colab-badge.svg\" alt=\"Open In Colab\"/></a>"
      ]
    },
    {
      "cell_type": "markdown",
      "source": [
        "# **Table of Contents**\n",
        "\n",
        "- [1. Introduction](#1-introduction)\n",
        "- [2. Objective](#2-objective)\n",
        "- [3. Methodology](#3-methodology)\n",
        "  - [3.1 Data Collection](#31-data-collection)\n",
        "  - [3.2 Molecular Representation](#32-molecular-representation)\n",
        "  - [3.3 Fingerprint Generation](#33-fingerprint-generation)\n",
        "  - [3.4 Tanimoto Score](#34-tanimoto-score)\n",
        "- [4. Analysis](#4-analysis)\n",
        "- [5. Conclusion](#5-conclusion)\n",
        "\n",
        "\n"
      ],
      "metadata": {
        "id": "Rp4LswtqL38S"
      }
    },
    {
      "cell_type": "markdown",
      "source": [
        "# __Imports__\n"
      ],
      "metadata": {
        "id": "gruyAzTcMfMQ"
      }
    },
    {
      "cell_type": "code",
      "source": [
        "# Installation\n",
        "%pip install rdkit-pypi\n",
        "%pip install pubchempy\n",
        "\n",
        "\n",
        "# Importing libraries\n",
        "\n",
        "from rdkit import Chem\n",
        "from rdkit.Chem import AllChem\n",
        "from rdkit.Chem import DataStructs\n",
        "import pubchempy as pcp\n"
      ],
      "metadata": {
        "colab": {
          "base_uri": "https://localhost:8080/"
        },
        "id": "IBC7xdKWFDEe",
        "outputId": "b08a803f-c75f-428c-ca05-f52e55fa0c2f"
      },
      "execution_count": 1,
      "outputs": [
        {
          "output_type": "stream",
          "name": "stdout",
          "text": [
            "Collecting rdkit-pypi\n",
            "  Downloading rdkit_pypi-2022.9.5-cp310-cp310-manylinux_2_17_x86_64.manylinux2014_x86_64.whl.metadata (3.9 kB)\n",
            "Requirement already satisfied: numpy in /usr/local/lib/python3.10/dist-packages (from rdkit-pypi) (1.26.4)\n",
            "Requirement already satisfied: Pillow in /usr/local/lib/python3.10/dist-packages (from rdkit-pypi) (9.4.0)\n",
            "Downloading rdkit_pypi-2022.9.5-cp310-cp310-manylinux_2_17_x86_64.manylinux2014_x86_64.whl (29.4 MB)\n",
            "\u001b[2K   \u001b[90m━━━━━━━━━━━━━━━━━━━━━━━━━━━━━━━━━━━━━━━━\u001b[0m \u001b[32m29.4/29.4 MB\u001b[0m \u001b[31m31.6 MB/s\u001b[0m eta \u001b[36m0:00:00\u001b[0m\n",
            "\u001b[?25hInstalling collected packages: rdkit-pypi\n",
            "Successfully installed rdkit-pypi-2022.9.5\n",
            "Collecting pubchempy\n",
            "  Downloading PubChemPy-1.0.4.tar.gz (29 kB)\n",
            "  Preparing metadata (setup.py) ... \u001b[?25l\u001b[?25hdone\n",
            "Building wheels for collected packages: pubchempy\n",
            "  Building wheel for pubchempy (setup.py) ... \u001b[?25l\u001b[?25hdone\n",
            "  Created wheel for pubchempy: filename=PubChemPy-1.0.4-py3-none-any.whl size=13820 sha256=d45fdc8c2fc26ada44757005749e635dc9d256c342e66a79dade59049c249b05\n",
            "  Stored in directory: /root/.cache/pip/wheels/90/7c/45/18a0671e3c3316966ef7ed9ad2b3f3300a7e41d3421a44e799\n",
            "Successfully built pubchempy\n",
            "Installing collected packages: pubchempy\n",
            "Successfully installed pubchempy-1.0.4\n"
          ]
        }
      ]
    },
    {
      "cell_type": "markdown",
      "source": [
        "# __1. Introduction__\n",
        "\n",
        "Molecular fingerprinting is a technique used to represent molecules as binary vectors or strings, enabling efficient comparison of molecular structures. In this assignment,molecular fingerprints will be used to calculate Tanimoto similarity scores between a set of statins—Simvastatin, Pravastatin, Atorvastatin, and Fluvastatin."
      ],
      "metadata": {
        "id": "loqCjE75MrZ_"
      }
    },
    {
      "cell_type": "markdown",
      "source": [
        "# __2. Objective__\n",
        "The objective of this assignment is to calculate and analyze the pairwise Tanimoto similarity scores between the selected statins based on their molecular fingerprints. This analysis will help in understanding the structural similarity among these compounds."
      ],
      "metadata": {
        "id": "z1WA_xvoM4EY"
      }
    },
    {
      "cell_type": "markdown",
      "source": [
        "# __3. Methodology__"
      ],
      "metadata": {
        "id": "G0KuPptANIeo"
      }
    },
    {
      "cell_type": "markdown",
      "source": [
        "### __3.1 Data Collection__\n",
        "SMILES strings for the statins were fetched from the PubChem database using the PubChemPy library. These strings provide a textual representation of the molecular structures."
      ],
      "metadata": {
        "id": "Kh1BkHPRsaZs"
      }
    },
    {
      "cell_type": "code",
      "source": [
        "# List of statin names\n",
        "statins = [\"Simvastatin\", \"Pravastatin\", \"Atorvastatin\", \"Fluvastatin\"]\n",
        "\n",
        "# Fetch SMILES strings using PubChemPy\n",
        "smiles_dict = {}\n",
        "for statin in statins:\n",
        "    compound = pcp.get_compounds(statin, 'name')[0]\n",
        "    smiles_dict[statin] = compound.isomeric_smiles"
      ],
      "metadata": {
        "id": "KJwNK-M2ug1a"
      },
      "execution_count": 2,
      "outputs": []
    },
    {
      "cell_type": "markdown",
      "source": [
        "###__3.2 Molecular Representation__\n",
        "The SMILES strings are converted to molecular representations using the RDKit library. These representations are used to generate molecular fingerprints."
      ],
      "metadata": {
        "id": "7wfPfxBYuWc1"
      }
    },
    {
      "cell_type": "code",
      "source": [
        "# Convert SMILES to molecular representations using RDKit\n",
        "molecules = {name: Chem.MolFromSmiles(smiles) for name, smiles in smiles_dict.items()}"
      ],
      "metadata": {
        "id": "XEANz2T_uf3r"
      },
      "execution_count": 3,
      "outputs": []
    },
    {
      "cell_type": "markdown",
      "source": [
        "###__3.3 Fingerprint Generation__\n",
        "\n",
        "\n",
        "Molecular fingerprints are generated using the RDKit library's Morgan fingerprint algorithm. These fingerprints are binary vectors that capture structural features of the molecules."
      ],
      "metadata": {
        "id": "NlIJp4-eu0Jt"
      }
    },
    {
      "cell_type": "code",
      "source": [
        "# Create a FingerprintGenerator\n",
        "fp_generator = AllChem.GetMorganFingerprintAsBitVect\n",
        "\n",
        "# Generate fingerprints\n",
        "fingerprints = {name: fp_generator(mol, radius=2, nBits=2048) for name, mol in molecules.items()}\n"
      ],
      "metadata": {
        "id": "2FNOjioRFrBd"
      },
      "execution_count": 4,
      "outputs": []
    },
    {
      "cell_type": "markdown",
      "source": [
        "###__3.4 Tanimoto Score__\n"
      ],
      "metadata": {
        "id": "rH96OVx_vlaZ"
      }
    },
    {
      "cell_type": "code",
      "source": [
        "# Calculate Tanimoto scores between every possible pair\n",
        "tanimoto_scores = {}\n",
        "names = list(fingerprints.keys())\n",
        "\n",
        "for i in range(len(names)):\n",
        "    for j in range(i+1, len(names)):\n",
        "        name1, name2 = names[i], names[j]\n",
        "        score = DataStructs.TanimotoSimilarity(fingerprints[name1], fingerprints[name2])\n",
        "        tanimoto_scores[(name1, name2)] = score\n",
        "\n",
        "# Print the Tanimoto scores\n",
        "for pair, score in tanimoto_scores.items():\n",
        "    print(f\"Tanimoto score between {pair[0]} and {pair[1]}: {score:.4f}\")\n"
      ],
      "metadata": {
        "colab": {
          "base_uri": "https://localhost:8080/"
        },
        "id": "9luCFyxyE9wa",
        "outputId": "58a34999-68d1-4caa-8db6-7087b903345e"
      },
      "execution_count": 5,
      "outputs": [
        {
          "output_type": "stream",
          "name": "stdout",
          "text": [
            "Tanimoto score between Simvastatin and Pravastatin: 0.3855\n",
            "Tanimoto score between Simvastatin and Atorvastatin: 0.0755\n",
            "Tanimoto score between Simvastatin and Fluvastatin: 0.0800\n",
            "Tanimoto score between Pravastatin and Atorvastatin: 0.2366\n",
            "Tanimoto score between Pravastatin and Fluvastatin: 0.1978\n",
            "Tanimoto score between Atorvastatin and Fluvastatin: 0.4026\n"
          ]
        }
      ]
    },
    {
      "cell_type": "markdown",
      "source": [
        "#__4. Analysis__\n",
        "\n",
        "\n",
        "Analysis\n",
        "The Tanimoto scores provide a measure of similarity between the molecular fingerprints of different statins. A score of 1 indicates identical molecular structures, while a score closer to 0 indicates little to no similarity.\n",
        "\n",
        "Simvastatin and Pravastatin (0.3855): The score suggests that these two statins have moderate structural similarity. Although their chemical makeup is different, they share some common molecular features.\n",
        "\n",
        "Simvastatin and Atorvastatin (0.0755): The low score indicates that Simvastatin and Atorvastatin have very little structural similarity. This suggests that their molecular structures are quite different.\n",
        "\n",
        "Simvastatin and Fluvastatin (0.0800): Similar to the previous comparison, the low score indicates that Simvastatin and Fluvastatin have very little in common at the molecular level.\n",
        "\n",
        "Pravastatin and Atorvastatin (0.2366): This score is somewhat higher than the comparison between Simvastatin and Atorvastatin, indicating that Pravastatin shares more molecular features with Atorvastatin, but they are still not very similar.\n",
        "\n",
        "Pravastatin and Fluvastatin (0.1978): The score indicates a lower similarity between these two statins compared to Pravastatin and Atorvastatin, but it is still within a moderate range.\n",
        "\n",
        "Atorvastatin and Fluvastatin (0.4026): This score is the highest among all pairs, suggesting that Atorvastatin and Fluvastatin share the most structural similarity compared to other pairs in this set. This shows the similar functional groups or core molecular structures."
      ],
      "metadata": {
        "id": "tJXGXM03wpX4"
      }
    },
    {
      "cell_type": "markdown",
      "source": [
        "#__5. Conclusion__\n",
        "Based on the Tanimoto scores, Atorvastatin and Fluvastatin are the most structurally similar statins, while Simvastatin and Atorvastatin have the least similarity. This suggests that despite belonging to the same drug class (statins), these compounds exhibit considerable variation in their molecular structures, which could result in differences in their pharmacological behavior, efficacy, and side effects. Understanding these structural similarities can be important in drug discovery and development, especially when exploring potential side effects, efficacy, and interactions with biological targets."
      ],
      "metadata": {
        "id": "9NYXRC7N0vHU"
      }
    }
  ]
}