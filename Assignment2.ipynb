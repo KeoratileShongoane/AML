{
  "nbformat": 4,
  "nbformat_minor": 0,
  "metadata": {
    "colab": {
      "provenance": [],
      "authorship_tag": "ABX9TyMboyfyxhyS6c94n6kc2hVL",
      "include_colab_link": true
    },
    "kernelspec": {
      "name": "python3",
      "display_name": "Python 3"
    },
    "language_info": {
      "name": "python"
    }
  },
  "cells": [
    {
      "cell_type": "markdown",
      "metadata": {
        "id": "view-in-github",
        "colab_type": "text"
      },
      "source": [
        "<a href=\"https://colab.research.google.com/github/KeoratileShongoane/AML/blob/main/Assignment2.ipynb\" target=\"_parent\"><img src=\"https://colab.research.google.com/assets/colab-badge.svg\" alt=\"Open In Colab\"/></a>"
      ]
    },
    {
      "cell_type": "markdown",
      "source": [
        "***\n",
        "# **Applications of Machine Learning in Chemistry**: Assignment 2\n",
        "#### __Name:__ Keoratile Shongoane\n",
        "#### __Student number:__ 1389986\n",
        "\n",
        "***\n"
      ],
      "metadata": {
        "id": "5lH_8OUv1Dp9"
      }
    },
    {
      "cell_type": "markdown",
      "source": [
        "#Table of Contents\n",
        "\n",
        "- [Imports](#imports)\n",
        "- [1. Data Exploration](#1-data-exploration)\n",
        "  - [1.1 Importing Data](#11-importing-data)\n",
        "  - [1.2 Viewing the Dataset](#12-viewing-the-dataset)\n",
        "  - [1.3 Dataset Information](#13-dataset-information)\n",
        "  - [1.4 Histogram and Boxplot](#14-histogram-and-boxplot)\n",
        "  - [1.5 Removing Outliers](#15-removing-outliers)\n",
        "- [2. Molecular Descriptors Calculation](#2-molecular-descriptors-calculation)\n",
        "- [3. Data Preprocessing](#3-data-preprocessing)\n",
        "  - [3.1 Train-Test Split](#31-train-test-split)\n",
        "- [4. Model Training and Evaluation](#4-model-training-and-evaluation)\n",
        "  - [4.1 Random Forest Regression](#41-random-forest-regression)\n",
        "  - [4.2 Visualizations](#42-visualizations)\n",
        "- [5. Results Discussion and Conclusion](#5-results-discussion-and-conclusion)\n",
        "\n"
      ],
      "metadata": {
        "id": "dYefRs0Z6qdo"
      }
    },
    {
      "cell_type": "markdown",
      "source": [
        "The goal of this report is to apply machine learning techniques to predict the solubility (logS) of chemical compounds based on their chemical properties. This report examines various features and their interactions within machine learning models.\n"
      ],
      "metadata": {
        "id": "Ut1oM_oxQSOV"
      }
    },
    {
      "cell_type": "markdown",
      "source": [],
      "metadata": {
        "id": "YcgIc0Xq96uZ"
      }
    },
    {
      "cell_type": "code",
      "source": [
        "# In a Jupyter cell\n",
        "%pip install rdkit-pypi\n"
      ],
      "metadata": {
        "colab": {
          "base_uri": "https://localhost:8080/"
        },
        "id": "x4iiXDiQ94Ob",
        "outputId": "145e330c-52b6-4b07-c018-6011bebb3550"
      },
      "execution_count": 2,
      "outputs": [
        {
          "output_type": "stream",
          "name": "stdout",
          "text": [
            "Collecting rdkit-pypi\n",
            "  Downloading rdkit_pypi-2022.9.5-cp310-cp310-manylinux_2_17_x86_64.manylinux2014_x86_64.whl.metadata (3.9 kB)\n",
            "Requirement already satisfied: numpy in /usr/local/lib/python3.10/dist-packages (from rdkit-pypi) (1.26.4)\n",
            "Requirement already satisfied: Pillow in /usr/local/lib/python3.10/dist-packages (from rdkit-pypi) (9.4.0)\n",
            "Downloading rdkit_pypi-2022.9.5-cp310-cp310-manylinux_2_17_x86_64.manylinux2014_x86_64.whl (29.4 MB)\n",
            "\u001b[2K   \u001b[90m━━━━━━━━━━━━━━━━━━━━━━━━━━━━━━━━━━━━━━━━\u001b[0m \u001b[32m29.4/29.4 MB\u001b[0m \u001b[31m55.9 MB/s\u001b[0m eta \u001b[36m0:00:00\u001b[0m\n",
            "\u001b[?25hInstalling collected packages: rdkit-pypi\n",
            "Successfully installed rdkit-pypi-2022.9.5\n"
          ]
        }
      ]
    },
    {
      "cell_type": "markdown",
      "source": [
        "# __Imports__"
      ],
      "metadata": {
        "id": "yyUXVwov6VWn"
      }
    },
    {
      "cell_type": "code",
      "source": [
        "# Import the libraries\n",
        "import seaborn as sns\n",
        "import pandas as pd\n",
        "import seaborn as sns\n",
        "import matplotlib.pyplot as plt\n",
        "import numpy as np\n",
        "from sklearn.model_selection import train_test_split\n",
        "from sklearn.ensemble import RandomForestRegressor\n",
        "from sklearn.metrics import mean_squared_error, r2_score\n",
        "from rdkit.Chem import AllChem\n",
        "from rdkit import Chem\n",
        "from rdkit.Chem import Descriptors"
      ],
      "metadata": {
        "id": "a2nT32Cw8Vbw"
      },
      "execution_count": 22,
      "outputs": []
    },
    {
      "cell_type": "markdown",
      "source": [
        "# __1. Data Exploration__"
      ],
      "metadata": {
        "id": "KvcY1ns-DV3G"
      }
    },
    {
      "cell_type": "markdown",
      "source": [
        "\n",
        "\n",
        "### __1.1 Importing Data__"
      ],
      "metadata": {
        "id": "cc34Lkp3DplD"
      }
    },
    {
      "cell_type": "code",
      "source": [
        "# loading the dataset to a Pandas Dataframe\n",
        "df = pd.read_csv('/content/solubility.csv')"
      ],
      "metadata": {
        "id": "jGVfAjy65ZAn"
      },
      "execution_count": 4,
      "outputs": []
    },
    {
      "cell_type": "markdown",
      "source": [],
      "metadata": {
        "id": "98sLbdkrjM5e"
      }
    },
    {
      "cell_type": "markdown",
      "source": [
        "### __1.2 Viewing the dataset__"
      ],
      "metadata": {
        "id": "ZJoc0Qh5EnWO"
      }
    },
    {
      "cell_type": "markdown",
      "source": [
        "Veiwing the dataset allows us to spot any anormalies and allows one to understand the data that they are working with. This allows for the use of appropriate anaylsis techniques."
      ],
      "metadata": {
        "id": "bYnQoGvMkRX7"
      }
    },
    {
      "cell_type": "code",
      "source": [
        "# Viewing the first and last 5 rows of the dataset\n",
        "df.head()\n",
        "df.tail()"
      ],
      "metadata": {
        "colab": {
          "base_uri": "https://localhost:8080/",
          "height": 241
        },
        "id": "I5kiWztBU9ca",
        "outputId": "374fa86b-9412-413b-85bd-4ea51c01bfe3"
      },
      "execution_count": 5,
      "outputs": [
        {
          "output_type": "execute_result",
          "data": {
            "text/plain": [
              "  Compound ID  Minimum Degree  Molecular Weight  Number of H-Bond Donors  \\\n",
              "0   Amigdalin               1           457.432                        7   \n",
              "1    Fenfuram               1           201.225                        1   \n",
              "2      citral               1           152.237                        0   \n",
              "3      Picene               2           278.354                        0   \n",
              "4   Thiophene               2            84.143                        0   \n",
              "\n",
              "   Number of Rings  Number of Rotatable Bonds  Polar Surface Area  \\\n",
              "0                3                          7              202.32   \n",
              "1                2                          2               42.24   \n",
              "2                0                          4               17.07   \n",
              "3                5                          0                0.00   \n",
              "4                1                          0                0.00   \n",
              "\n",
              "   measured log solubility in mols per litre  \\\n",
              "0                                      -0.77   \n",
              "1                                      -3.30   \n",
              "2                                      -2.06   \n",
              "3                                      -7.87   \n",
              "4                                      -1.33   \n",
              "\n",
              "                                              smiles  \n",
              "0  OCC3OC(OCC2OC(OC(C#N)c1ccccc1)C(O)C(O)C2O)C(O)...  \n",
              "1                             Cc1occc1C(=O)Nc2ccccc2  \n",
              "2                               CC(C)=CCCC(C)=CC(=O)  \n",
              "3                 c1ccc2c(c1)ccc3c2ccc4c5ccccc5ccc43  \n",
              "4                                            c1ccsc1  "
            ],
            "text/html": [
              "\n",
              "  <div id=\"df-8ce4d57f-ad02-420a-b37a-2d85d41b412a\" class=\"colab-df-container\">\n",
              "    <div>\n",
              "<style scoped>\n",
              "    .dataframe tbody tr th:only-of-type {\n",
              "        vertical-align: middle;\n",
              "    }\n",
              "\n",
              "    .dataframe tbody tr th {\n",
              "        vertical-align: top;\n",
              "    }\n",
              "\n",
              "    .dataframe thead th {\n",
              "        text-align: right;\n",
              "    }\n",
              "</style>\n",
              "<table border=\"1\" class=\"dataframe\">\n",
              "  <thead>\n",
              "    <tr style=\"text-align: right;\">\n",
              "      <th></th>\n",
              "      <th>Compound ID</th>\n",
              "      <th>Minimum Degree</th>\n",
              "      <th>Molecular Weight</th>\n",
              "      <th>Number of H-Bond Donors</th>\n",
              "      <th>Number of Rings</th>\n",
              "      <th>Number of Rotatable Bonds</th>\n",
              "      <th>Polar Surface Area</th>\n",
              "      <th>measured log solubility in mols per litre</th>\n",
              "      <th>smiles</th>\n",
              "    </tr>\n",
              "  </thead>\n",
              "  <tbody>\n",
              "    <tr>\n",
              "      <th>0</th>\n",
              "      <td>Amigdalin</td>\n",
              "      <td>1</td>\n",
              "      <td>457.432</td>\n",
              "      <td>7</td>\n",
              "      <td>3</td>\n",
              "      <td>7</td>\n",
              "      <td>202.32</td>\n",
              "      <td>-0.77</td>\n",
              "      <td>OCC3OC(OCC2OC(OC(C#N)c1ccccc1)C(O)C(O)C2O)C(O)...</td>\n",
              "    </tr>\n",
              "    <tr>\n",
              "      <th>1</th>\n",
              "      <td>Fenfuram</td>\n",
              "      <td>1</td>\n",
              "      <td>201.225</td>\n",
              "      <td>1</td>\n",
              "      <td>2</td>\n",
              "      <td>2</td>\n",
              "      <td>42.24</td>\n",
              "      <td>-3.30</td>\n",
              "      <td>Cc1occc1C(=O)Nc2ccccc2</td>\n",
              "    </tr>\n",
              "    <tr>\n",
              "      <th>2</th>\n",
              "      <td>citral</td>\n",
              "      <td>1</td>\n",
              "      <td>152.237</td>\n",
              "      <td>0</td>\n",
              "      <td>0</td>\n",
              "      <td>4</td>\n",
              "      <td>17.07</td>\n",
              "      <td>-2.06</td>\n",
              "      <td>CC(C)=CCCC(C)=CC(=O)</td>\n",
              "    </tr>\n",
              "    <tr>\n",
              "      <th>3</th>\n",
              "      <td>Picene</td>\n",
              "      <td>2</td>\n",
              "      <td>278.354</td>\n",
              "      <td>0</td>\n",
              "      <td>5</td>\n",
              "      <td>0</td>\n",
              "      <td>0.00</td>\n",
              "      <td>-7.87</td>\n",
              "      <td>c1ccc2c(c1)ccc3c2ccc4c5ccccc5ccc43</td>\n",
              "    </tr>\n",
              "    <tr>\n",
              "      <th>4</th>\n",
              "      <td>Thiophene</td>\n",
              "      <td>2</td>\n",
              "      <td>84.143</td>\n",
              "      <td>0</td>\n",
              "      <td>1</td>\n",
              "      <td>0</td>\n",
              "      <td>0.00</td>\n",
              "      <td>-1.33</td>\n",
              "      <td>c1ccsc1</td>\n",
              "    </tr>\n",
              "  </tbody>\n",
              "</table>\n",
              "</div>\n",
              "    <div class=\"colab-df-buttons\">\n",
              "\n",
              "  <div class=\"colab-df-container\">\n",
              "    <button class=\"colab-df-convert\" onclick=\"convertToInteractive('df-8ce4d57f-ad02-420a-b37a-2d85d41b412a')\"\n",
              "            title=\"Convert this dataframe to an interactive table.\"\n",
              "            style=\"display:none;\">\n",
              "\n",
              "  <svg xmlns=\"http://www.w3.org/2000/svg\" height=\"24px\" viewBox=\"0 -960 960 960\">\n",
              "    <path d=\"M120-120v-720h720v720H120Zm60-500h600v-160H180v160Zm220 220h160v-160H400v160Zm0 220h160v-160H400v160ZM180-400h160v-160H180v160Zm440 0h160v-160H620v160ZM180-180h160v-160H180v160Zm440 0h160v-160H620v160Z\"/>\n",
              "  </svg>\n",
              "    </button>\n",
              "\n",
              "  <style>\n",
              "    .colab-df-container {\n",
              "      display:flex;\n",
              "      gap: 12px;\n",
              "    }\n",
              "\n",
              "    .colab-df-convert {\n",
              "      background-color: #E8F0FE;\n",
              "      border: none;\n",
              "      border-radius: 50%;\n",
              "      cursor: pointer;\n",
              "      display: none;\n",
              "      fill: #1967D2;\n",
              "      height: 32px;\n",
              "      padding: 0 0 0 0;\n",
              "      width: 32px;\n",
              "    }\n",
              "\n",
              "    .colab-df-convert:hover {\n",
              "      background-color: #E2EBFA;\n",
              "      box-shadow: 0px 1px 2px rgba(60, 64, 67, 0.3), 0px 1px 3px 1px rgba(60, 64, 67, 0.15);\n",
              "      fill: #174EA6;\n",
              "    }\n",
              "\n",
              "    .colab-df-buttons div {\n",
              "      margin-bottom: 4px;\n",
              "    }\n",
              "\n",
              "    [theme=dark] .colab-df-convert {\n",
              "      background-color: #3B4455;\n",
              "      fill: #D2E3FC;\n",
              "    }\n",
              "\n",
              "    [theme=dark] .colab-df-convert:hover {\n",
              "      background-color: #434B5C;\n",
              "      box-shadow: 0px 1px 3px 1px rgba(0, 0, 0, 0.15);\n",
              "      filter: drop-shadow(0px 1px 2px rgba(0, 0, 0, 0.3));\n",
              "      fill: #FFFFFF;\n",
              "    }\n",
              "  </style>\n",
              "\n",
              "    <script>\n",
              "      const buttonEl =\n",
              "        document.querySelector('#df-8ce4d57f-ad02-420a-b37a-2d85d41b412a button.colab-df-convert');\n",
              "      buttonEl.style.display =\n",
              "        google.colab.kernel.accessAllowed ? 'block' : 'none';\n",
              "\n",
              "      async function convertToInteractive(key) {\n",
              "        const element = document.querySelector('#df-8ce4d57f-ad02-420a-b37a-2d85d41b412a');\n",
              "        const dataTable =\n",
              "          await google.colab.kernel.invokeFunction('convertToInteractive',\n",
              "                                                    [key], {});\n",
              "        if (!dataTable) return;\n",
              "\n",
              "        const docLinkHtml = 'Like what you see? Visit the ' +\n",
              "          '<a target=\"_blank\" href=https://colab.research.google.com/notebooks/data_table.ipynb>data table notebook</a>'\n",
              "          + ' to learn more about interactive tables.';\n",
              "        element.innerHTML = '';\n",
              "        dataTable['output_type'] = 'display_data';\n",
              "        await google.colab.output.renderOutput(dataTable, element);\n",
              "        const docLink = document.createElement('div');\n",
              "        docLink.innerHTML = docLinkHtml;\n",
              "        element.appendChild(docLink);\n",
              "      }\n",
              "    </script>\n",
              "  </div>\n",
              "\n",
              "\n",
              "<div id=\"df-ae813298-ad61-444d-bb00-c1c2984daff4\">\n",
              "  <button class=\"colab-df-quickchart\" onclick=\"quickchart('df-ae813298-ad61-444d-bb00-c1c2984daff4')\"\n",
              "            title=\"Suggest charts\"\n",
              "            style=\"display:none;\">\n",
              "\n",
              "<svg xmlns=\"http://www.w3.org/2000/svg\" height=\"24px\"viewBox=\"0 0 24 24\"\n",
              "     width=\"24px\">\n",
              "    <g>\n",
              "        <path d=\"M19 3H5c-1.1 0-2 .9-2 2v14c0 1.1.9 2 2 2h14c1.1 0 2-.9 2-2V5c0-1.1-.9-2-2-2zM9 17H7v-7h2v7zm4 0h-2V7h2v10zm4 0h-2v-4h2v4z\"/>\n",
              "    </g>\n",
              "</svg>\n",
              "  </button>\n",
              "\n",
              "<style>\n",
              "  .colab-df-quickchart {\n",
              "      --bg-color: #E8F0FE;\n",
              "      --fill-color: #1967D2;\n",
              "      --hover-bg-color: #E2EBFA;\n",
              "      --hover-fill-color: #174EA6;\n",
              "      --disabled-fill-color: #AAA;\n",
              "      --disabled-bg-color: #DDD;\n",
              "  }\n",
              "\n",
              "  [theme=dark] .colab-df-quickchart {\n",
              "      --bg-color: #3B4455;\n",
              "      --fill-color: #D2E3FC;\n",
              "      --hover-bg-color: #434B5C;\n",
              "      --hover-fill-color: #FFFFFF;\n",
              "      --disabled-bg-color: #3B4455;\n",
              "      --disabled-fill-color: #666;\n",
              "  }\n",
              "\n",
              "  .colab-df-quickchart {\n",
              "    background-color: var(--bg-color);\n",
              "    border: none;\n",
              "    border-radius: 50%;\n",
              "    cursor: pointer;\n",
              "    display: none;\n",
              "    fill: var(--fill-color);\n",
              "    height: 32px;\n",
              "    padding: 0;\n",
              "    width: 32px;\n",
              "  }\n",
              "\n",
              "  .colab-df-quickchart:hover {\n",
              "    background-color: var(--hover-bg-color);\n",
              "    box-shadow: 0 1px 2px rgba(60, 64, 67, 0.3), 0 1px 3px 1px rgba(60, 64, 67, 0.15);\n",
              "    fill: var(--button-hover-fill-color);\n",
              "  }\n",
              "\n",
              "  .colab-df-quickchart-complete:disabled,\n",
              "  .colab-df-quickchart-complete:disabled:hover {\n",
              "    background-color: var(--disabled-bg-color);\n",
              "    fill: var(--disabled-fill-color);\n",
              "    box-shadow: none;\n",
              "  }\n",
              "\n",
              "  .colab-df-spinner {\n",
              "    border: 2px solid var(--fill-color);\n",
              "    border-color: transparent;\n",
              "    border-bottom-color: var(--fill-color);\n",
              "    animation:\n",
              "      spin 1s steps(1) infinite;\n",
              "  }\n",
              "\n",
              "  @keyframes spin {\n",
              "    0% {\n",
              "      border-color: transparent;\n",
              "      border-bottom-color: var(--fill-color);\n",
              "      border-left-color: var(--fill-color);\n",
              "    }\n",
              "    20% {\n",
              "      border-color: transparent;\n",
              "      border-left-color: var(--fill-color);\n",
              "      border-top-color: var(--fill-color);\n",
              "    }\n",
              "    30% {\n",
              "      border-color: transparent;\n",
              "      border-left-color: var(--fill-color);\n",
              "      border-top-color: var(--fill-color);\n",
              "      border-right-color: var(--fill-color);\n",
              "    }\n",
              "    40% {\n",
              "      border-color: transparent;\n",
              "      border-right-color: var(--fill-color);\n",
              "      border-top-color: var(--fill-color);\n",
              "    }\n",
              "    60% {\n",
              "      border-color: transparent;\n",
              "      border-right-color: var(--fill-color);\n",
              "    }\n",
              "    80% {\n",
              "      border-color: transparent;\n",
              "      border-right-color: var(--fill-color);\n",
              "      border-bottom-color: var(--fill-color);\n",
              "    }\n",
              "    90% {\n",
              "      border-color: transparent;\n",
              "      border-bottom-color: var(--fill-color);\n",
              "    }\n",
              "  }\n",
              "</style>\n",
              "\n",
              "  <script>\n",
              "    async function quickchart(key) {\n",
              "      const quickchartButtonEl =\n",
              "        document.querySelector('#' + key + ' button');\n",
              "      quickchartButtonEl.disabled = true;  // To prevent multiple clicks.\n",
              "      quickchartButtonEl.classList.add('colab-df-spinner');\n",
              "      try {\n",
              "        const charts = await google.colab.kernel.invokeFunction(\n",
              "            'suggestCharts', [key], {});\n",
              "      } catch (error) {\n",
              "        console.error('Error during call to suggestCharts:', error);\n",
              "      }\n",
              "      quickchartButtonEl.classList.remove('colab-df-spinner');\n",
              "      quickchartButtonEl.classList.add('colab-df-quickchart-complete');\n",
              "    }\n",
              "    (() => {\n",
              "      let quickchartButtonEl =\n",
              "        document.querySelector('#df-ae813298-ad61-444d-bb00-c1c2984daff4 button');\n",
              "      quickchartButtonEl.style.display =\n",
              "        google.colab.kernel.accessAllowed ? 'block' : 'none';\n",
              "    })();\n",
              "  </script>\n",
              "</div>\n",
              "\n",
              "    </div>\n",
              "  </div>\n"
            ],
            "application/vnd.google.colaboratory.intrinsic+json": {
              "type": "dataframe",
              "variable_name": "df",
              "summary": "{\n  \"name\": \"df\",\n  \"rows\": 1128,\n  \"fields\": [\n    {\n      \"column\": \"Compound ID\",\n      \"properties\": {\n        \"dtype\": \"string\",\n        \"num_unique_values\": 1128,\n        \"samples\": [\n          \"cis-2-Pentene\",\n          \"5-(3-Methyl-2-butenyl)-5-ethylbarbital\",\n          \"Terbacil\"\n        ],\n        \"semantic_type\": \"\",\n        \"description\": \"\"\n      }\n    },\n    {\n      \"column\": \"Minimum Degree\",\n      \"properties\": {\n        \"dtype\": \"number\",\n        \"std\": 0,\n        \"min\": 0,\n        \"max\": 2,\n        \"num_unique_values\": 3,\n        \"samples\": [\n          1,\n          2,\n          0\n        ],\n        \"semantic_type\": \"\",\n        \"description\": \"\"\n      }\n    },\n    {\n      \"column\": \"Molecular Weight\",\n      \"properties\": {\n        \"dtype\": \"number\",\n        \"std\": 102.7380772068097,\n        \"min\": 16.043,\n        \"max\": 780.949,\n        \"num_unique_values\": 741,\n        \"samples\": [\n          225.313,\n          313.747,\n          222.251\n        ],\n        \"semantic_type\": \"\",\n        \"description\": \"\"\n      }\n    },\n    {\n      \"column\": \"Number of H-Bond Donors\",\n      \"properties\": {\n        \"dtype\": \"number\",\n        \"std\": 1,\n        \"min\": 0,\n        \"max\": 11,\n        \"num_unique_values\": 10,\n        \"samples\": [\n          5,\n          1,\n          3\n        ],\n        \"semantic_type\": \"\",\n        \"description\": \"\"\n      }\n    },\n    {\n      \"column\": \"Number of Rings\",\n      \"properties\": {\n        \"dtype\": \"number\",\n        \"std\": 1,\n        \"min\": 0,\n        \"max\": 8,\n        \"num_unique_values\": 9,\n        \"samples\": [\n          7,\n          2,\n          4\n        ],\n        \"semantic_type\": \"\",\n        \"description\": \"\"\n      }\n    },\n    {\n      \"column\": \"Number of Rotatable Bonds\",\n      \"properties\": {\n        \"dtype\": \"number\",\n        \"std\": 2,\n        \"min\": 0,\n        \"max\": 23,\n        \"num_unique_values\": 19,\n        \"samples\": [\n          7,\n          3,\n          10\n        ],\n        \"semantic_type\": \"\",\n        \"description\": \"\"\n      }\n    },\n    {\n      \"column\": \"Polar Surface Area\",\n      \"properties\": {\n        \"dtype\": \"number\",\n        \"std\": 35.38359265570078,\n        \"min\": 0.0,\n        \"max\": 268.68,\n        \"num_unique_values\": 270,\n        \"samples\": [\n          53.94,\n          110.38,\n          74.43\n        ],\n        \"semantic_type\": \"\",\n        \"description\": \"\"\n      }\n    },\n    {\n      \"column\": \"measured log solubility in mols per litre\",\n      \"properties\": {\n        \"dtype\": \"number\",\n        \"std\": 2.096441210089345,\n        \"min\": -11.6,\n        \"max\": 1.58,\n        \"num_unique_values\": 734,\n        \"samples\": [\n          -2.13,\n          -1.64,\n          -0.24\n        ],\n        \"semantic_type\": \"\",\n        \"description\": \"\"\n      }\n    },\n    {\n      \"column\": \"smiles\",\n      \"properties\": {\n        \"dtype\": \"string\",\n        \"num_unique_values\": 1128,\n        \"samples\": [\n          \"CC/C=C\\\\C\",\n          \"O=C1NC(=O)NC(=O)C1(CC)CC=C(C)C\",\n          \"Cc1[nH]c(=O)n(c(=O)c1Cl)C(C)(C)C\"\n        ],\n        \"semantic_type\": \"\",\n        \"description\": \"\"\n      }\n    }\n  ]\n}"
            }
          },
          "metadata": {},
          "execution_count": 5
        }
      ]
    },
    {
      "cell_type": "markdown",
      "source": [
        "###__1.3 Dataset information__"
      ],
      "metadata": {
        "id": "VFXqmhCVlPYz"
      }
    },
    {
      "cell_type": "code",
      "source": [
        "# dataset information\n",
        "\n",
        "df.info()"
      ],
      "metadata": {
        "colab": {
          "base_uri": "https://localhost:8080/"
        },
        "id": "iBUhpLmMCCrp",
        "outputId": "5a4e52f6-da7f-4508-e55a-5f4bc61403ed"
      },
      "execution_count": 7,
      "outputs": [
        {
          "output_type": "stream",
          "name": "stdout",
          "text": [
            "<class 'pandas.core.frame.DataFrame'>\n",
            "RangeIndex: 1128 entries, 0 to 1127\n",
            "Data columns (total 9 columns):\n",
            " #   Column                                     Non-Null Count  Dtype  \n",
            "---  ------                                     --------------  -----  \n",
            " 0   Compound ID                                1128 non-null   object \n",
            " 1   Minimum Degree                             1128 non-null   int64  \n",
            " 2   Molecular Weight                           1128 non-null   float64\n",
            " 3   Number of H-Bond Donors                    1128 non-null   int64  \n",
            " 4   Number of Rings                            1128 non-null   int64  \n",
            " 5   Number of Rotatable Bonds                  1128 non-null   int64  \n",
            " 6   Polar Surface Area                         1128 non-null   float64\n",
            " 7   measured log solubility in mols per litre  1128 non-null   float64\n",
            " 8   smiles                                     1128 non-null   object \n",
            "dtypes: float64(3), int64(4), object(2)\n",
            "memory usage: 79.4+ KB\n"
          ]
        }
      ]
    },
    {
      "cell_type": "markdown",
      "source": [
        "The dataset information shows that the dataset has no null values and the features have mixed data types."
      ],
      "metadata": {
        "id": "9ewEpIqbEpSj"
      }
    },
    {
      "cell_type": "code",
      "source": [
        "# calculating descriptive statistics\n",
        "df.describe()"
      ],
      "metadata": {
        "id": "TjCAk74z_hqs",
        "colab": {
          "base_uri": "https://localhost:8080/",
          "height": 318
        },
        "outputId": "3494f631-067d-44d7-fac3-734e31dfd1c0"
      },
      "execution_count": 8,
      "outputs": [
        {
          "output_type": "execute_result",
          "data": {
            "text/plain": [
              "       Minimum Degree  Molecular Weight  Number of H-Bond Donors  \\\n",
              "count     1128.000000       1128.000000              1128.000000   \n",
              "mean         1.058511        203.937074                 0.701241   \n",
              "std          0.238560        102.738077                 1.089727   \n",
              "min          0.000000         16.043000                 0.000000   \n",
              "25%          1.000000        121.183000                 0.000000   \n",
              "50%          1.000000        182.179000                 0.000000   \n",
              "75%          1.000000        270.372000                 1.000000   \n",
              "max          2.000000        780.949000                11.000000   \n",
              "\n",
              "       Number of Rings  Number of Rotatable Bonds  Polar Surface Area  \\\n",
              "count      1128.000000                1128.000000         1128.000000   \n",
              "mean          1.390957                   2.177305           34.872881   \n",
              "std           1.318286                   2.640974           35.383593   \n",
              "min           0.000000                   0.000000            0.000000   \n",
              "25%           0.000000                   0.000000            0.000000   \n",
              "50%           1.000000                   1.000000           26.300000   \n",
              "75%           2.000000                   3.000000           55.440000   \n",
              "max           8.000000                  23.000000          268.680000   \n",
              "\n",
              "       measured log solubility in mols per litre  \n",
              "count                                1128.000000  \n",
              "mean                                   -3.050102  \n",
              "std                                     2.096441  \n",
              "min                                   -11.600000  \n",
              "25%                                    -4.317500  \n",
              "50%                                    -2.860000  \n",
              "75%                                    -1.600000  \n",
              "max                                     1.580000  "
            ],
            "text/html": [
              "\n",
              "  <div id=\"df-33b4fa86-e0d8-4bcf-87ba-5fa574cb56b8\" class=\"colab-df-container\">\n",
              "    <div>\n",
              "<style scoped>\n",
              "    .dataframe tbody tr th:only-of-type {\n",
              "        vertical-align: middle;\n",
              "    }\n",
              "\n",
              "    .dataframe tbody tr th {\n",
              "        vertical-align: top;\n",
              "    }\n",
              "\n",
              "    .dataframe thead th {\n",
              "        text-align: right;\n",
              "    }\n",
              "</style>\n",
              "<table border=\"1\" class=\"dataframe\">\n",
              "  <thead>\n",
              "    <tr style=\"text-align: right;\">\n",
              "      <th></th>\n",
              "      <th>Minimum Degree</th>\n",
              "      <th>Molecular Weight</th>\n",
              "      <th>Number of H-Bond Donors</th>\n",
              "      <th>Number of Rings</th>\n",
              "      <th>Number of Rotatable Bonds</th>\n",
              "      <th>Polar Surface Area</th>\n",
              "      <th>measured log solubility in mols per litre</th>\n",
              "    </tr>\n",
              "  </thead>\n",
              "  <tbody>\n",
              "    <tr>\n",
              "      <th>count</th>\n",
              "      <td>1128.000000</td>\n",
              "      <td>1128.000000</td>\n",
              "      <td>1128.000000</td>\n",
              "      <td>1128.000000</td>\n",
              "      <td>1128.000000</td>\n",
              "      <td>1128.000000</td>\n",
              "      <td>1128.000000</td>\n",
              "    </tr>\n",
              "    <tr>\n",
              "      <th>mean</th>\n",
              "      <td>1.058511</td>\n",
              "      <td>203.937074</td>\n",
              "      <td>0.701241</td>\n",
              "      <td>1.390957</td>\n",
              "      <td>2.177305</td>\n",
              "      <td>34.872881</td>\n",
              "      <td>-3.050102</td>\n",
              "    </tr>\n",
              "    <tr>\n",
              "      <th>std</th>\n",
              "      <td>0.238560</td>\n",
              "      <td>102.738077</td>\n",
              "      <td>1.089727</td>\n",
              "      <td>1.318286</td>\n",
              "      <td>2.640974</td>\n",
              "      <td>35.383593</td>\n",
              "      <td>2.096441</td>\n",
              "    </tr>\n",
              "    <tr>\n",
              "      <th>min</th>\n",
              "      <td>0.000000</td>\n",
              "      <td>16.043000</td>\n",
              "      <td>0.000000</td>\n",
              "      <td>0.000000</td>\n",
              "      <td>0.000000</td>\n",
              "      <td>0.000000</td>\n",
              "      <td>-11.600000</td>\n",
              "    </tr>\n",
              "    <tr>\n",
              "      <th>25%</th>\n",
              "      <td>1.000000</td>\n",
              "      <td>121.183000</td>\n",
              "      <td>0.000000</td>\n",
              "      <td>0.000000</td>\n",
              "      <td>0.000000</td>\n",
              "      <td>0.000000</td>\n",
              "      <td>-4.317500</td>\n",
              "    </tr>\n",
              "    <tr>\n",
              "      <th>50%</th>\n",
              "      <td>1.000000</td>\n",
              "      <td>182.179000</td>\n",
              "      <td>0.000000</td>\n",
              "      <td>1.000000</td>\n",
              "      <td>1.000000</td>\n",
              "      <td>26.300000</td>\n",
              "      <td>-2.860000</td>\n",
              "    </tr>\n",
              "    <tr>\n",
              "      <th>75%</th>\n",
              "      <td>1.000000</td>\n",
              "      <td>270.372000</td>\n",
              "      <td>1.000000</td>\n",
              "      <td>2.000000</td>\n",
              "      <td>3.000000</td>\n",
              "      <td>55.440000</td>\n",
              "      <td>-1.600000</td>\n",
              "    </tr>\n",
              "    <tr>\n",
              "      <th>max</th>\n",
              "      <td>2.000000</td>\n",
              "      <td>780.949000</td>\n",
              "      <td>11.000000</td>\n",
              "      <td>8.000000</td>\n",
              "      <td>23.000000</td>\n",
              "      <td>268.680000</td>\n",
              "      <td>1.580000</td>\n",
              "    </tr>\n",
              "  </tbody>\n",
              "</table>\n",
              "</div>\n",
              "    <div class=\"colab-df-buttons\">\n",
              "\n",
              "  <div class=\"colab-df-container\">\n",
              "    <button class=\"colab-df-convert\" onclick=\"convertToInteractive('df-33b4fa86-e0d8-4bcf-87ba-5fa574cb56b8')\"\n",
              "            title=\"Convert this dataframe to an interactive table.\"\n",
              "            style=\"display:none;\">\n",
              "\n",
              "  <svg xmlns=\"http://www.w3.org/2000/svg\" height=\"24px\" viewBox=\"0 -960 960 960\">\n",
              "    <path d=\"M120-120v-720h720v720H120Zm60-500h600v-160H180v160Zm220 220h160v-160H400v160Zm0 220h160v-160H400v160ZM180-400h160v-160H180v160Zm440 0h160v-160H620v160ZM180-180h160v-160H180v160Zm440 0h160v-160H620v160Z\"/>\n",
              "  </svg>\n",
              "    </button>\n",
              "\n",
              "  <style>\n",
              "    .colab-df-container {\n",
              "      display:flex;\n",
              "      gap: 12px;\n",
              "    }\n",
              "\n",
              "    .colab-df-convert {\n",
              "      background-color: #E8F0FE;\n",
              "      border: none;\n",
              "      border-radius: 50%;\n",
              "      cursor: pointer;\n",
              "      display: none;\n",
              "      fill: #1967D2;\n",
              "      height: 32px;\n",
              "      padding: 0 0 0 0;\n",
              "      width: 32px;\n",
              "    }\n",
              "\n",
              "    .colab-df-convert:hover {\n",
              "      background-color: #E2EBFA;\n",
              "      box-shadow: 0px 1px 2px rgba(60, 64, 67, 0.3), 0px 1px 3px 1px rgba(60, 64, 67, 0.15);\n",
              "      fill: #174EA6;\n",
              "    }\n",
              "\n",
              "    .colab-df-buttons div {\n",
              "      margin-bottom: 4px;\n",
              "    }\n",
              "\n",
              "    [theme=dark] .colab-df-convert {\n",
              "      background-color: #3B4455;\n",
              "      fill: #D2E3FC;\n",
              "    }\n",
              "\n",
              "    [theme=dark] .colab-df-convert:hover {\n",
              "      background-color: #434B5C;\n",
              "      box-shadow: 0px 1px 3px 1px rgba(0, 0, 0, 0.15);\n",
              "      filter: drop-shadow(0px 1px 2px rgba(0, 0, 0, 0.3));\n",
              "      fill: #FFFFFF;\n",
              "    }\n",
              "  </style>\n",
              "\n",
              "    <script>\n",
              "      const buttonEl =\n",
              "        document.querySelector('#df-33b4fa86-e0d8-4bcf-87ba-5fa574cb56b8 button.colab-df-convert');\n",
              "      buttonEl.style.display =\n",
              "        google.colab.kernel.accessAllowed ? 'block' : 'none';\n",
              "\n",
              "      async function convertToInteractive(key) {\n",
              "        const element = document.querySelector('#df-33b4fa86-e0d8-4bcf-87ba-5fa574cb56b8');\n",
              "        const dataTable =\n",
              "          await google.colab.kernel.invokeFunction('convertToInteractive',\n",
              "                                                    [key], {});\n",
              "        if (!dataTable) return;\n",
              "\n",
              "        const docLinkHtml = 'Like what you see? Visit the ' +\n",
              "          '<a target=\"_blank\" href=https://colab.research.google.com/notebooks/data_table.ipynb>data table notebook</a>'\n",
              "          + ' to learn more about interactive tables.';\n",
              "        element.innerHTML = '';\n",
              "        dataTable['output_type'] = 'display_data';\n",
              "        await google.colab.output.renderOutput(dataTable, element);\n",
              "        const docLink = document.createElement('div');\n",
              "        docLink.innerHTML = docLinkHtml;\n",
              "        element.appendChild(docLink);\n",
              "      }\n",
              "    </script>\n",
              "  </div>\n",
              "\n",
              "\n",
              "<div id=\"df-955e8b8a-0539-47fe-bf98-2278ccc18e71\">\n",
              "  <button class=\"colab-df-quickchart\" onclick=\"quickchart('df-955e8b8a-0539-47fe-bf98-2278ccc18e71')\"\n",
              "            title=\"Suggest charts\"\n",
              "            style=\"display:none;\">\n",
              "\n",
              "<svg xmlns=\"http://www.w3.org/2000/svg\" height=\"24px\"viewBox=\"0 0 24 24\"\n",
              "     width=\"24px\">\n",
              "    <g>\n",
              "        <path d=\"M19 3H5c-1.1 0-2 .9-2 2v14c0 1.1.9 2 2 2h14c1.1 0 2-.9 2-2V5c0-1.1-.9-2-2-2zM9 17H7v-7h2v7zm4 0h-2V7h2v10zm4 0h-2v-4h2v4z\"/>\n",
              "    </g>\n",
              "</svg>\n",
              "  </button>\n",
              "\n",
              "<style>\n",
              "  .colab-df-quickchart {\n",
              "      --bg-color: #E8F0FE;\n",
              "      --fill-color: #1967D2;\n",
              "      --hover-bg-color: #E2EBFA;\n",
              "      --hover-fill-color: #174EA6;\n",
              "      --disabled-fill-color: #AAA;\n",
              "      --disabled-bg-color: #DDD;\n",
              "  }\n",
              "\n",
              "  [theme=dark] .colab-df-quickchart {\n",
              "      --bg-color: #3B4455;\n",
              "      --fill-color: #D2E3FC;\n",
              "      --hover-bg-color: #434B5C;\n",
              "      --hover-fill-color: #FFFFFF;\n",
              "      --disabled-bg-color: #3B4455;\n",
              "      --disabled-fill-color: #666;\n",
              "  }\n",
              "\n",
              "  .colab-df-quickchart {\n",
              "    background-color: var(--bg-color);\n",
              "    border: none;\n",
              "    border-radius: 50%;\n",
              "    cursor: pointer;\n",
              "    display: none;\n",
              "    fill: var(--fill-color);\n",
              "    height: 32px;\n",
              "    padding: 0;\n",
              "    width: 32px;\n",
              "  }\n",
              "\n",
              "  .colab-df-quickchart:hover {\n",
              "    background-color: var(--hover-bg-color);\n",
              "    box-shadow: 0 1px 2px rgba(60, 64, 67, 0.3), 0 1px 3px 1px rgba(60, 64, 67, 0.15);\n",
              "    fill: var(--button-hover-fill-color);\n",
              "  }\n",
              "\n",
              "  .colab-df-quickchart-complete:disabled,\n",
              "  .colab-df-quickchart-complete:disabled:hover {\n",
              "    background-color: var(--disabled-bg-color);\n",
              "    fill: var(--disabled-fill-color);\n",
              "    box-shadow: none;\n",
              "  }\n",
              "\n",
              "  .colab-df-spinner {\n",
              "    border: 2px solid var(--fill-color);\n",
              "    border-color: transparent;\n",
              "    border-bottom-color: var(--fill-color);\n",
              "    animation:\n",
              "      spin 1s steps(1) infinite;\n",
              "  }\n",
              "\n",
              "  @keyframes spin {\n",
              "    0% {\n",
              "      border-color: transparent;\n",
              "      border-bottom-color: var(--fill-color);\n",
              "      border-left-color: var(--fill-color);\n",
              "    }\n",
              "    20% {\n",
              "      border-color: transparent;\n",
              "      border-left-color: var(--fill-color);\n",
              "      border-top-color: var(--fill-color);\n",
              "    }\n",
              "    30% {\n",
              "      border-color: transparent;\n",
              "      border-left-color: var(--fill-color);\n",
              "      border-top-color: var(--fill-color);\n",
              "      border-right-color: var(--fill-color);\n",
              "    }\n",
              "    40% {\n",
              "      border-color: transparent;\n",
              "      border-right-color: var(--fill-color);\n",
              "      border-top-color: var(--fill-color);\n",
              "    }\n",
              "    60% {\n",
              "      border-color: transparent;\n",
              "      border-right-color: var(--fill-color);\n",
              "    }\n",
              "    80% {\n",
              "      border-color: transparent;\n",
              "      border-right-color: var(--fill-color);\n",
              "      border-bottom-color: var(--fill-color);\n",
              "    }\n",
              "    90% {\n",
              "      border-color: transparent;\n",
              "      border-bottom-color: var(--fill-color);\n",
              "    }\n",
              "  }\n",
              "</style>\n",
              "\n",
              "  <script>\n",
              "    async function quickchart(key) {\n",
              "      const quickchartButtonEl =\n",
              "        document.querySelector('#' + key + ' button');\n",
              "      quickchartButtonEl.disabled = true;  // To prevent multiple clicks.\n",
              "      quickchartButtonEl.classList.add('colab-df-spinner');\n",
              "      try {\n",
              "        const charts = await google.colab.kernel.invokeFunction(\n",
              "            'suggestCharts', [key], {});\n",
              "      } catch (error) {\n",
              "        console.error('Error during call to suggestCharts:', error);\n",
              "      }\n",
              "      quickchartButtonEl.classList.remove('colab-df-spinner');\n",
              "      quickchartButtonEl.classList.add('colab-df-quickchart-complete');\n",
              "    }\n",
              "    (() => {\n",
              "      let quickchartButtonEl =\n",
              "        document.querySelector('#df-955e8b8a-0539-47fe-bf98-2278ccc18e71 button');\n",
              "      quickchartButtonEl.style.display =\n",
              "        google.colab.kernel.accessAllowed ? 'block' : 'none';\n",
              "    })();\n",
              "  </script>\n",
              "</div>\n",
              "\n",
              "    </div>\n",
              "  </div>\n"
            ],
            "application/vnd.google.colaboratory.intrinsic+json": {
              "type": "dataframe",
              "summary": "{\n  \"name\": \"df\",\n  \"rows\": 8,\n  \"fields\": [\n    {\n      \"column\": \"Minimum Degree\",\n      \"properties\": {\n        \"dtype\": \"number\",\n        \"std\": 398.490624900198,\n        \"min\": 0.0,\n        \"max\": 1128.0,\n        \"num_unique_values\": 6,\n        \"samples\": [\n          1128.0,\n          1.0585106382978724,\n          2.0\n        ],\n        \"semantic_type\": \"\",\n        \"description\": \"\"\n      }\n    },\n    {\n      \"column\": \"Molecular Weight\",\n      \"properties\": {\n        \"dtype\": \"number\",\n        \"std\": 391.3090182757284,\n        \"min\": 16.043,\n        \"max\": 1128.0,\n        \"num_unique_values\": 8,\n        \"samples\": [\n          203.9370744680851,\n          182.179,\n          1128.0\n        ],\n        \"semantic_type\": \"\",\n        \"description\": \"\"\n      }\n    },\n    {\n      \"column\": \"Number of H-Bond Donors\",\n      \"properties\": {\n        \"dtype\": \"number\",\n        \"std\": 398.1289906472522,\n        \"min\": 0.0,\n        \"max\": 1128.0,\n        \"num_unique_values\": 6,\n        \"samples\": [\n          1128.0,\n          0.7012411347517731,\n          11.0\n        ],\n        \"semantic_type\": \"\",\n        \"description\": \"\"\n      }\n    },\n    {\n      \"column\": \"Number of Rings\",\n      \"properties\": {\n        \"dtype\": \"number\",\n        \"std\": 398.12402467019524,\n        \"min\": 0.0,\n        \"max\": 1128.0,\n        \"num_unique_values\": 7,\n        \"samples\": [\n          1128.0,\n          1.3909574468085106,\n          2.0\n        ],\n        \"semantic_type\": \"\",\n        \"description\": \"\"\n      }\n    },\n    {\n      \"column\": \"Number of Rotatable Bonds\",\n      \"properties\": {\n        \"dtype\": \"number\",\n        \"std\": 397.274178484676,\n        \"min\": 0.0,\n        \"max\": 1128.0,\n        \"num_unique_values\": 7,\n        \"samples\": [\n          1128.0,\n          2.1773049645390072,\n          3.0\n        ],\n        \"semantic_type\": \"\",\n        \"description\": \"\"\n      }\n    },\n    {\n      \"column\": \"Polar Surface Area\",\n      \"properties\": {\n        \"dtype\": \"number\",\n        \"std\": 387.4839148525757,\n        \"min\": 0.0,\n        \"max\": 1128.0,\n        \"num_unique_values\": 7,\n        \"samples\": [\n          1128.0,\n          34.87288120567376,\n          55.44\n        ],\n        \"semantic_type\": \"\",\n        \"description\": \"\"\n      }\n    },\n    {\n      \"column\": \"measured log solubility in mols per litre\",\n      \"properties\": {\n        \"dtype\": \"number\",\n        \"std\": 399.8280342452304,\n        \"min\": -11.6,\n        \"max\": 1128.0,\n        \"num_unique_values\": 8,\n        \"samples\": [\n          -3.05010195035461,\n          -2.86,\n          1128.0\n        ],\n        \"semantic_type\": \"\",\n        \"description\": \"\"\n      }\n    }\n  ]\n}"
            }
          },
          "metadata": {},
          "execution_count": 8
        }
      ]
    },
    {
      "cell_type": "markdown",
      "source": [
        "### __1.4 Histogram and Boxplot__"
      ],
      "metadata": {
        "id": "q2_LqKx3wPHp"
      }
    },
    {
      "cell_type": "code",
      "source": [
        "# Visualize the distribution of the target variable (logS)\n",
        "sns.histplot(df['measured log solubility in mols per litre'], kde=True)\n",
        "plt.title('Distribution of LogS')\n",
        "plt.xlabel('LogS')\n",
        "plt.ylabel('Frequency')\n",
        "plt.show()\n",
        "\n",
        "sns.boxplot(x='measured log solubility in mols per litre', data=df)\n",
        "plt.title('Distribution of LogS')\n",
        "plt.show()"
      ],
      "metadata": {
        "id": "gBDXQsx2bts5",
        "colab": {
          "base_uri": "https://localhost:8080/",
          "height": 927
        },
        "outputId": "7e805377-ce9b-47df-ecbe-0b2e298b5079"
      },
      "execution_count": 31,
      "outputs": [
        {
          "output_type": "display_data",
          "data": {
            "text/plain": [
              "<Figure size 640x480 with 1 Axes>"
            ],
            "image/png": "[encoded data removed]"
          },
          "metadata": {}
        },
        {
          "output_type": "display_data",
          "data": {
            "text/plain": [
              "<Figure size 640x480 with 1 Axes>"
            ],
            "image/png": "[encoded data removed]"
          },
          "metadata": {}
        }
      ]
    },
    {
      "cell_type": "markdown",
      "source": [
        "Outliers were identified in the dtatset using histograms and boxplots, which showed values that deviated from the majority of the data. The Interquartile Range (IQR) method was used\n",
        " to define bounds for outliers:\n",
        "\n",
        "- **Lower Bound:** Calculated as Q1 - 1.5 * IQR.\n",
        "- **Upper Bound:** Calculated as Q3 + 1.5 * IQR.\n",
        "\n",
        "Removing outliers is important because they can skew the result of the machine learning models, causing to inaccurate predictions and reducing the models performance. By removing the outliers, it will altemately improve the reliability of the model's predictions."
      ],
      "metadata": {
        "id": "JGRQ_Cuo0BJk"
      }
    },
    {
      "cell_type": "markdown",
      "source": [
        "### __1.5 Removing Outliers__"
      ],
      "metadata": {
        "id": "_nlbwWblwdm1"
      }
    },
    {
      "cell_type": "code",
      "source": [
        "# Calculate the IQR for the 'measured log solubility in mols per litre' column\n",
        "Q1 = df['measured log solubility in mols per litre'].quantile(0.25)\n",
        "Q3 = df['measured log solubility in mols per litre'].quantile(0.75)\n",
        "IQR = Q3 - Q1\n",
        "\n",
        "# Define bounds for outliers\n",
        "lower_bound = Q1 - 1.5 * IQR\n",
        "upper_bound = Q3 + 1.5 * IQR\n",
        "\n",
        "# Filter the DataFrame to remove outliers\n",
        "df_no_outliers = df[\n",
        "    (df['measured log solubility in mols per litre'] >= lower_bound) &\n",
        "    (df['measured log solubility in mols per litre'] <= upper_bound)\n",
        "]\n",
        "\n",
        "# Visualize the distribution after removing outliers\n",
        "sns.histplot(df_no_outliers['measured log solubility in mols per litre'], kde=True)\n",
        "plt.title('Distribution of LogS After Removing Outliers')\n",
        "plt.show()\n",
        "\n",
        "sns.boxplot(x='measured log solubility in mols per litre', data=df_no_outliers)\n",
        "plt.title('Distribution of LogS After Removing Outliers')\n",
        "plt.show()\n"
      ],
      "metadata": {
        "colab": {
          "base_uri": "https://localhost:8080/",
          "height": 927
        },
        "id": "B_LErx9Dcxel",
        "outputId": "c658a271-58a9-4e53-e02e-5b806ee0516e"
      },
      "execution_count": 16,
      "outputs": [
        {
          "output_type": "display_data",
          "data": {
            "text/plain": [
              "<Figure size 640x480 with 1 Axes>"
            ],
            "image/png": "[encoded data removed]"
          },
          "metadata": {}
        },
        {
          "output_type": "display_data",
          "data": {
            "text/plain": [
              "<Figure size 640x480 with 1 Axes>"
            ],
            "image/png": "[encoded data removed]"
          },
          "metadata": {}
        }
      ]
    },
    {
      "cell_type": "markdown",
      "source": [
        "# __2. Molecular Descriptors Calculation__"
      ],
      "metadata": {
        "id": "xikG9RW5gw3d"
      }
    },
    {
      "cell_type": "markdown",
      "source": [
        "\n",
        "The \"fromsmiles\" function accepts a SMILES string or list of SMILES strings as an argument, and returns a Python dictionary with descriptor/fingerprint names/values as keys/values respectively - if multiple SMILES strings are supplied, \"from_smiles\" returns a list of dictionaries."
      ],
      "metadata": {
        "id": "iDEJ_86YfWOP"
      }
    },
    {
      "cell_type": "code",
      "source": [
        "# Function to generate descriptors as a pandas Series\n",
        "def generate_descriptors(smiles):\n",
        "    mol = Chem.MolFromSmiles(smiles)\n",
        "    if mol:\n",
        "        descriptors = {\n",
        "            'MolWt': Descriptors.MolWt(mol),         # Molecular Weight\n",
        "            'MolLogP': Descriptors.MolLogP(mol),     # LogP (octanol-water partition coefficient)\n",
        "            'NumHDonors': Descriptors.NumHDonors(mol), # Number of Hydrogen Bond Donors\n",
        "            'NumHAcceptors': Descriptors.NumHAcceptors(mol), # Number of Hydrogen Bond Acceptors\n",
        "            'TPSA': Descriptors.TPSA(mol)            # Topological Polar Surface Area\n",
        "        }\n",
        "        return pd.Series(descriptors)\n",
        "    else:\n",
        "        return pd.Series({'MolWt': None, 'MolLogP': None, 'NumHDonors': None, 'NumHAcceptors': None, 'TPSA': None})\n",
        "\n",
        "# Apply the generate_descriptors function to the SMILES column of df_no_outliers\n",
        "descriptor_df_no_outliers = df_no_outliers['smiles'].apply(generate_descriptors)\n",
        "\n",
        "# Concatenate the original DataFrame with the new descriptors DataFrame\n",
        "data = pd.concat([df_no_outliers, descriptor_df_no_outliers], axis=1).dropna()\n",
        "\n",
        "# Display the first few rows of the resulting DataFrame\n",
        "print(data.head())\n",
        "\n"
      ],
      "metadata": {
        "colab": {
          "base_uri": "https://localhost:8080/"
        },
        "id": "xiXNAy3sAdrq",
        "outputId": "ed57467d-68d3-4b45-a5b8-cfea98b9b0c8"
      },
      "execution_count": 21,
      "outputs": [
        {
          "output_type": "stream",
          "name": "stdout",
          "text": [
            "  Compound ID  Minimum Degree  Molecular Weight  Number of H-Bond Donors  \\\n",
            "0   Amigdalin               1           457.432                        7   \n",
            "1    Fenfuram               1           201.225                        1   \n",
            "2      citral               1           152.237                        0   \n",
            "3      Picene               2           278.354                        0   \n",
            "4   Thiophene               2            84.143                        0   \n",
            "\n",
            "   Number of Rings  Number of Rotatable Bonds  Polar Surface Area  \\\n",
            "0                3                          7              202.32   \n",
            "1                2                          2               42.24   \n",
            "2                0                          4               17.07   \n",
            "3                5                          0                0.00   \n",
            "4                1                          0                0.00   \n",
            "\n",
            "   measured log solubility in mols per litre  \\\n",
            "0                                      -0.77   \n",
            "1                                      -3.30   \n",
            "2                                      -2.06   \n",
            "3                                      -7.87   \n",
            "4                                      -1.33   \n",
            "\n",
            "                                              smiles    MolWt  MolLogP  \\\n",
            "0  OCC3OC(OCC2OC(OC(C#N)c1ccccc1)C(O)C(O)C2O)C(O)...  457.432 -3.10802   \n",
            "1                             Cc1occc1C(=O)Nc2ccccc2  201.225  2.84032   \n",
            "2                               CC(C)=CCCC(C)=CC(=O)  152.237  2.87800   \n",
            "3                 c1ccc2c(c1)ccc3c2ccc4c5ccccc5ccc43  278.354  6.29940   \n",
            "4                                            c1ccsc1   84.143  1.74810   \n",
            "\n",
            "   NumHDonors  NumHAcceptors    TPSA  \n",
            "0         7.0           12.0  202.32  \n",
            "1         1.0            2.0   42.24  \n",
            "2         0.0            1.0   17.07  \n",
            "3         0.0            0.0    0.00  \n",
            "4         0.0            1.0    0.00  \n"
          ]
        }
      ]
    },
    {
      "cell_type": "markdown",
      "source": [
        "# __3. Data Preprocessing__"
      ],
      "metadata": {
        "id": "CTnxXxIf0hTc"
      }
    },
    {
      "cell_type": "markdown",
      "source": [
        "### __3.1 Train-Test Split__"
      ],
      "metadata": {
        "id": "atvpDntBr2kW"
      }
    },
    {
      "cell_type": "code",
      "source": [
        "from sklearn.model_selection import train_test_split\n",
        "\n",
        "# Defining features (X) and target variable (y)\n",
        "X = data[['Molecular Weight', 'Number of H-Bond Donors', 'Number of Rings',\n",
        "          'Number of Rotatable Bonds', 'Polar Surface Area',\n",
        "          'MolWt', 'MolLogP', 'NumHDonors', 'NumHAcceptors', 'TPSA']]\n",
        "y = data['measured log solubility in mols per litre']  # Target column\n",
        "\n",
        "# Splitting the dataset into training and testing sets\n",
        "X_train, X_test, y_train, y_test = train_test_split(X, y, test_size=0.2, random_state=42)\n",
        "\n",
        "# Displaying the shape of the resulting splits\n",
        "print(f\"Training set shape: {X_train.shape}, {y_train.shape}\")\n",
        "print(f\"Testing set shape: {X_test.shape}, {y_test.shape}\")\n"
      ],
      "metadata": {
        "id": "00FS6-wrezLQ",
        "colab": {
          "base_uri": "https://localhost:8080/"
        },
        "outputId": "7395f8f8-15d8-4739-9e32-9d0fcf60042c"
      },
      "execution_count": 23,
      "outputs": [
        {
          "output_type": "stream",
          "name": "stdout",
          "text": [
            "Training set shape: (888, 10), (888,)\n",
            "Testing set shape: (223, 10), (223,)\n"
          ]
        }
      ]
    },
    {
      "cell_type": "markdown",
      "source": [
        "# __4. Model Training and Evaluation__\n",
        "\n",
        "#### Here, I trained 1 model, namely: `Random Forest Regression`."
      ],
      "metadata": {
        "id": "CS-ZbQ7AtoSB"
      }
    },
    {
      "cell_type": "markdown",
      "source": [
        "The Random Forest Regression model was chosen for its ability to capture complex, non-linear relationships between molecular descriptors and solubility, making it highly effective for predicting chemical properties without extensive preprocessing.\n",
        "\n",
        "\n"
      ],
      "metadata": {
        "id": "a2FTu1LDlo9b"
      }
    },
    {
      "cell_type": "markdown",
      "source": [
        "### __4.1 Random Forest Regression__\n"
      ],
      "metadata": {
        "id": "slIklK6ZVshU"
      }
    },
    {
      "cell_type": "code",
      "source": [
        "# initialize and train the random tree regression\n",
        "rf_model = RandomForestRegressor(random_state=42)\n",
        "rf_model.fit(X_train, y_train)\n",
        "\n"
      ],
      "metadata": {
        "id": "_Ftsun6iLcNp",
        "colab": {
          "base_uri": "https://localhost:8080/",
          "height": 75
        },
        "outputId": "264e0f80-3bdb-4b8e-e6da-a7458844264b"
      },
      "execution_count": 25,
      "outputs": [
        {
          "output_type": "execute_result",
          "data": {
            "text/plain": [
              "RandomForestRegressor(random_state=42)"
            ],
            "text/html": [
              "<style>#sk-container-id-2 {color: black;}#sk-container-id-2 pre{padding: 0;}#sk-container-id-2 div.sk-toggleable {background-color: white;}#sk-container-id-2 label.sk-toggleable__label {cursor: pointer;display: block;width: 100%;margin-bottom: 0;padding: 0.3em;box-sizing: border-box;text-align: center;}#sk-container-id-2 label.sk-toggleable__label-arrow:before {content: \"▸\";float: left;margin-right: 0.25em;color: #696969;}#sk-container-id-2 label.sk-toggleable__label-arrow:hover:before {color: black;}#sk-container-id-2 div.sk-estimator:hover label.sk-toggleable__label-arrow:before {color: black;}#sk-container-id-2 div.sk-toggleable__content {max-height: 0;max-width: 0;overflow: hidden;text-align: left;background-color: #f0f8ff;}#sk-container-id-2 div.sk-toggleable__content pre {margin: 0.2em;color: black;border-radius: 0.25em;background-color: #f0f8ff;}#sk-container-id-2 input.sk-toggleable__control:checked~div.sk-toggleable__content {max-height: 200px;max-width: 100%;overflow: auto;}#sk-container-id-2 input.sk-toggleable__control:checked~label.sk-toggleable__label-arrow:before {content: \"▾\";}#sk-container-id-2 div.sk-estimator input.sk-toggleable__control:checked~label.sk-toggleable__label {background-color: #d4ebff;}#sk-container-id-2 div.sk-label input.sk-toggleable__control:checked~label.sk-toggleable__label {background-color: #d4ebff;}#sk-container-id-2 input.sk-hidden--visually {border: 0;clip: rect(1px 1px 1px 1px);clip: rect(1px, 1px, 1px, 1px);height: 1px;margin: -1px;overflow: hidden;padding: 0;position: absolute;width: 1px;}#sk-container-id-2 div.sk-estimator {font-family: monospace;background-color: #f0f8ff;border: 1px dotted black;border-radius: 0.25em;box-sizing: border-box;margin-bottom: 0.5em;}#sk-container-id-2 div.sk-estimator:hover {background-color: #d4ebff;}#sk-container-id-2 div.sk-parallel-item::after {content: \"\";width: 100%;border-bottom: 1px solid gray;flex-grow: 1;}#sk-container-id-2 div.sk-label:hover label.sk-toggleable__label {background-color: #d4ebff;}#sk-container-id-2 div.sk-serial::before {content: \"\";position: absolute;border-left: 1px solid gray;box-sizing: border-box;top: 0;bottom: 0;left: 50%;z-index: 0;}#sk-container-id-2 div.sk-serial {display: flex;flex-direction: column;align-items: center;background-color: white;padding-right: 0.2em;padding-left: 0.2em;position: relative;}#sk-container-id-2 div.sk-item {position: relative;z-index: 1;}#sk-container-id-2 div.sk-parallel {display: flex;align-items: stretch;justify-content: center;background-color: white;position: relative;}#sk-container-id-2 div.sk-item::before, #sk-container-id-2 div.sk-parallel-item::before {content: \"\";position: absolute;border-left: 1px solid gray;box-sizing: border-box;top: 0;bottom: 0;left: 50%;z-index: -1;}#sk-container-id-2 div.sk-parallel-item {display: flex;flex-direction: column;z-index: 1;position: relative;background-color: white;}#sk-container-id-2 div.sk-parallel-item:first-child::after {align-self: flex-end;width: 50%;}#sk-container-id-2 div.sk-parallel-item:last-child::after {align-self: flex-start;width: 50%;}#sk-container-id-2 div.sk-parallel-item:only-child::after {width: 0;}#sk-container-id-2 div.sk-dashed-wrapped {border: 1px dashed gray;margin: 0 0.4em 0.5em 0.4em;box-sizing: border-box;padding-bottom: 0.4em;background-color: white;}#sk-container-id-2 div.sk-label label {font-family: monospace;font-weight: bold;display: inline-block;line-height: 1.2em;}#sk-container-id-2 div.sk-label-container {text-align: center;}#sk-container-id-2 div.sk-container {/* jupyter's `normalize.less` sets `[hidden] { display: none; }` but bootstrap.min.css set `[hidden] { display: none !important; }` so we also need the `!important` here to be able to override the default hidden behavior on the sphinx rendered scikit-learn.org. See: https://github.com/scikit-learn/scikit-learn/issues/21755 */display: inline-block !important;position: relative;}#sk-container-id-2 div.sk-text-repr-fallback {display: none;}</style><div id=\"sk-container-id-2\" class=\"sk-top-container\"><div class=\"sk-text-repr-fallback\"><pre>RandomForestRegressor(random_state=42)</pre><b>In a Jupyter environment, please rerun this cell to show the HTML representation or trust the notebook. <br />On GitHub, the HTML representation is unable to render, please try loading this page with nbviewer.org.</b></div><div class=\"sk-container\" hidden><div class=\"sk-item\"><div class=\"sk-estimator sk-toggleable\"><input class=\"sk-toggleable__control sk-hidden--visually\" id=\"sk-estimator-id-2\" type=\"checkbox\" checked><label for=\"sk-estimator-id-2\" class=\"sk-toggleable__label sk-toggleable__label-arrow\">RandomForestRegressor</label><div class=\"sk-toggleable__content\"><pre>RandomForestRegressor(random_state=42)</pre></div></div></div></div></div>"
            ]
          },
          "metadata": {},
          "execution_count": 25
        }
      ]
    },
    {
      "cell_type": "code",
      "source": [
        "# prediction\n",
        "y_pred_rf = rf_model.predict(X_test)"
      ],
      "metadata": {
        "id": "8aJj2QPIRniJ"
      },
      "execution_count": 28,
      "outputs": []
    },
    {
      "cell_type": "markdown",
      "source": [
        "`Model Evaluation`\n",
        "\n",
        "In this report the following evaluation metrics are used:\n",
        "\n",
        "\n",
        "\n",
        "*   `Mean Squared Error`\n",
        "*   `Root Mean Square Error`\n",
        "*   `R-squared`"
      ],
      "metadata": {
        "id": "KmjEE5gIvMCZ"
      }
    },
    {
      "cell_type": "code",
      "source": [
        "mse_rf = mean_squared_error(y_test, y_pred_rf)\n",
        "rmse_rf = np.sqrt(mse_rf)\n",
        "r2_rf = r2_score(y_test, y_pred_rf)\n",
        "\n",
        "print(f'Random Forest Regression - MSE: {mse_rf}, RMSE: {rmse_rf}, R^2: {r2_rf}')\n"
      ],
      "metadata": {
        "colab": {
          "base_uri": "https://localhost:8080/"
        },
        "id": "QI_tqum-Zb9w",
        "outputId": "51e80ffb-0221-4602-b766-27eac8667064"
      },
      "execution_count": 29,
      "outputs": [
        {
          "output_type": "stream",
          "name": "stdout",
          "text": [
            "Random Forest Regression - MSE: 0.392174431217322, RMSE: 0.6262383182282301, R^2: 0.8923017893339006\n"
          ]
        }
      ]
    },
    {
      "cell_type": "markdown",
      "source": [
        "### __4.2 Visualizations__"
      ],
      "metadata": {
        "id": "ckgL2nF9pt-5"
      }
    },
    {
      "cell_type": "code",
      "source": [
        "# Scatter plot of actual vs predicted logS\n",
        "plt.scatter(y_test, y_pred_rf, color='green', label='Random Forest Regression')\n",
        "plt.plot([min(y_test), max(y_test)], [min(y_test), max(y_test)], color='red')\n",
        "plt.xlabel('Actual logS')\n",
        "plt.ylabel('Predicted logS')\n",
        "plt.title('Random Forest Regression: Actual vs Predicted logS')\n",
        "plt.legend()\n",
        "plt.show()\n"
      ],
      "metadata": {
        "colab": {
          "base_uri": "https://localhost:8080/",
          "height": 472
        },
        "id": "3ISnx3X0pl6I",
        "outputId": "01413287-df6e-475a-fe6a-3099b8a4df0a"
      },
      "execution_count": 30,
      "outputs": [
        {
          "output_type": "display_data",
          "data": {
            "text/plain": [
              "<Figure size 640x480 with 1 Axes>"
            ],
            "image/png": "[encoded data removed]"
          },
          "metadata": {}
        }
      ]
    },
    {
      "cell_type": "markdown",
      "source": [
        "\n",
        "# Results discussion and Conclusion\n",
        "\n",
        "### Results Discussion and Conclusion\n",
        "\n",
        "The Random Forest Regression model shows strong performance in predicting solubility, with a low Mean Squared Error (MSE) of 0.392, a Root Mean Squared Error (RMSE) of 0.626, and an R² value of 0.892, indicating that the model explains about 89% of the variability in solubility values.\n",
        "\n",
        "**Discussion:**\n",
        "- The model is effective in predicting solubility, as reflected by the high R² value and low error metrics.\n",
        "- Before training the model, outliers in the solubility data were identified and removed. Removing these outliers helped improve the model's accuracy by ensuring that extreme values did not skew the predictions.\n",
        "- The scatter plot comparing predicted and actual solubility values confirms that the model’s predictions are close to the actual values, suggesting that the removal of outliers contributed to this accuracy.\n",
        "\n",
        "**Key chemical features**\n",
        "\n",
        " Molecular Weight, MolLogP, and Polar Surface Area, have a significant impact on the model’s predictions. These features are directly related to how a molecule interacts with its environment, which in turn affects its solubility. The model's ability to accurately reflect these relationships further shows its effectiveness.\n",
        "\n",
        " The model performs well overall, there may still be limitations due to the complexity of solubility as a property and the potential for interactions between features that are not fully captured by the model.\n",
        "\n",
        "**Limitations:**\n",
        "- Although the model performs well, it might be overly fitted to the cleaned dataset, which could affect its generalizability to new data.\n",
        "- The process of removing outliers is important for model accuracy, but might have also removed valid data points, potentially limiting the model's ability to capture the full range of solubility behaviors.\n",
        "\n",
        "**Conclusion**\n",
        "\n",
        "The Random Forest model effectively predicts solubility, with the removal of outliers playing a crucial role in enhancing accuracy. However, the potential for overfitting and the careful balance of outlier removal should be considered when applying the model to new datasets."
      ],
      "metadata": {
        "id": "KlAh6RtJxSyV"
      }
    },
    {
      "cell_type": "code",
      "source": [],
      "metadata": {
        "id": "MVE4RaIWsk1f"
      },
      "execution_count": null,
      "outputs": []
    }
  ]
}