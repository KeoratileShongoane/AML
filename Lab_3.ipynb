{
  "cells": [
    {
      "cell_type": "markdown",
      "metadata": {
        "id": "view-in-github",
        "colab_type": "text"
      },
      "source": [
        "<a href=\"https://colab.research.google.com/github/KeoratileShongoane/AML/blob/main/Lab_3.ipynb\" target=\"_parent\"><img src=\"https://colab.research.google.com/assets/colab-badge.svg\" alt=\"Open In Colab\"/></a>"
      ]
    },
    {
      "cell_type": "markdown",
      "metadata": {
        "id": "16FKBN4dcwkI"
      },
      "source": [
        "# __1. Imports__"
      ]
    },
    {
      "cell_type": "code",
      "execution_count": null,
      "metadata": {
        "colab": {
          "background_save": true,
          "base_uri": "https://localhost:8080/"
        },
        "id": "eFpqMQtslIpo",
        "outputId": "9125cdc0-0edc-4b4b-d355-82acdc4959dd"
      },
      "outputs": [
        {
          "name": "stdout",
          "output_type": "stream",
          "text": [
            "Collecting ucimlrepo\n",
            "  Downloading ucimlrepo-0.0.7-py3-none-any.whl (8.0 kB)\n",
            "Requirement already satisfied: pandas>=1.0.0 in /usr/local/lib/python3.10/dist-packages (from ucimlrepo) (2.0.3)\n",
            "Requirement already satisfied: certifi>=2020.12.5 in /usr/local/lib/python3.10/dist-packages (from ucimlrepo) (2024.6.2)\n",
            "Requirement already satisfied: python-dateutil>=2.8.2 in /usr/local/lib/python3.10/dist-packages (from pandas>=1.0.0->ucimlrepo) (2.8.2)\n",
            "Requirement already satisfied: pytz>=2020.1 in /usr/local/lib/python3.10/dist-packages (from pandas>=1.0.0->ucimlrepo) (2023.4)\n",
            "Requirement already satisfied: tzdata>=2022.1 in /usr/local/lib/python3.10/dist-packages (from pandas>=1.0.0->ucimlrepo) (2024.1)\n",
            "Requirement already satisfied: numpy>=1.21.0 in /usr/local/lib/python3.10/dist-packages (from pandas>=1.0.0->ucimlrepo) (1.25.2)\n",
            "Requirement already satisfied: six>=1.5 in /usr/local/lib/python3.10/dist-packages (from python-dateutil>=2.8.2->pandas>=1.0.0->ucimlrepo) (1.16.0)\n",
            "Installing collected packages: ucimlrepo\n",
            "Successfully installed ucimlrepo-0.0.7\n"
          ]
        }
      ],
      "source": [
        "!pip install ucimlrepo"
      ]
    },
    {
      "cell_type": "code",
      "execution_count": null,
      "metadata": {
        "colab": {
          "background_save": true
        },
        "id": "kXQ76unrZogp"
      },
      "outputs": [],
      "source": [
        "# importing libraries for Sklearn\n",
        "import numpy as np\n",
        "import pandas as pd\n",
        "from sklearn.datasets import fetch_openml\n",
        "from ucimlrepo import fetch_ucirepo\n",
        "from sklearn.model_selection import train_test_split\n",
        "from sklearn.preprocessing import MinMaxScaler, OneHotEncoder\n",
        "from sklearn.ensemble import RandomForestClassifier\n",
        "from sklearn.metrics import accuracy_score, recall_score, precision_score, confusion_matrix, f1_score\n",
        "\n"
      ]
    },
    {
      "cell_type": "markdown",
      "metadata": {
        "id": "ol0yB3Qld-T2"
      },
      "source": [
        "# __2. Preprocessing__\n"
      ]
    },
    {
      "cell_type": "markdown",
      "metadata": {
        "id": "D1FduSa8jmSA"
      },
      "source": [
        "### __2.1 Loading of the data__"
      ]
    },
    {
      "cell_type": "code",
      "execution_count": null,
      "metadata": {
        "colab": {
          "background_save": true,
          "base_uri": "https://localhost:8080/"
        },
        "id": "YCWvE6HYeNZe",
        "outputId": "2d54753e-1675-439b-8c47-37f9ee7d5e72"
      },
      "outputs": [
        {
          "name": "stdout",
          "output_type": "stream",
          "text": [
            "{'uci_id': 545, 'name': 'Rice (Cammeo and Osmancik)', 'repository_url': 'https://archive.ics.uci.edu/dataset/545/rice+cammeo+and+osmancik', 'data_url': 'https://archive.ics.uci.edu/static/public/545/data.csv', 'abstract': \"A total of 3810 rice grain's images were taken for the two species, processed and feature inferences were made. 7 morphological features were obtained for each grain of rice.\", 'area': 'Biology', 'tasks': ['Classification'], 'characteristics': ['Multivariate'], 'num_instances': 3810, 'num_features': 7, 'feature_types': ['Real'], 'demographics': [], 'target_col': ['Class'], 'index_col': None, 'has_missing_values': 'no', 'missing_values_symbol': None, 'year_of_dataset_creation': 2019, 'last_updated': 'Fri Nov 03 2023', 'dataset_doi': '10.24432/C5MW4Z', 'creators': [], 'intro_paper': {'title': 'Classification of Rice Varieties Using Artificial Intelligence Methods', 'authors': 'Ilkay Cinar, M. Koklu', 'published_in': 'International Journal of Intelligent Systems and Applications in Engineering', 'year': 2019, 'url': 'https://www.semanticscholar.org/paper/4e508bb906c8fdc04ead6f20bd8918fcb3605d1c', 'doi': '10.18201/ijisae.2019355381'}, 'additional_info': {'summary': \"Among  the certified rice grown in TURKEY,  the  Osmancik species, which has a large planting area since 1997 and the Cammeo species grown since 2014 have been selected for the study.  When  looking  at  the  general  characteristics  of  Osmancik species, they have a wide, long, glassy and dull appearance.  When looking at the general characteristics of the Cammeo species, they have wide and long, glassy and dull in appearance.  A total of 3810 rice grain's images were taken for the two species, processed and feature inferences were made. 7 morphological features were obtained for each grain of rice. \", 'purpose': None, 'funded_by': None, 'instances_represent': None, 'recommended_data_splits': None, 'sensitive_data': None, 'preprocessing_description': None, 'variable_info': '1.) Area: Returns  the  number  of  pixels  within  the boundaries of the rice grain.\\r\\n2.) Perimeter: Calculates the circumference by calculating  the  distance  between  pixels around the boundaries of the rice grain.\\r\\n3.) Major Axis Length: The longest line that can be drawn on the rice  grain,  i.e.  the  main  axis  distance, gives.\\r\\n4.) Minor Axis Length: The shortest line that can be drawn on the rice  grain,  i.e.  the  small  axis  distance, gives.\\r\\n5.) Eccentricity: It measures how round the ellipse, which has  the  same  moments  as  the  rice  grain, is.\\r\\n6.) Convex Area: Returns  the  pixel  count  of  the  smallest convex shell of the region formed by the rice grain.\\r\\n7.) Extent: Returns the ratio of the regionformed by the rice grain to the bounding box pixels.\\r\\n8.) Class: Cammeo and Osmancik rices', 'citation': None}}\n",
            "                name     role        type demographic  \\\n",
            "0               Area  Feature     Integer        None   \n",
            "1          Perimeter  Feature  Continuous        None   \n",
            "2  Major_Axis_Length  Feature  Continuous        None   \n",
            "3  Minor_Axis_Length  Feature  Continuous        None   \n",
            "4       Eccentricity  Feature  Continuous        None   \n",
            "5        Convex_Area  Feature     Integer        None   \n",
            "6             Extent  Feature  Continuous        None   \n",
            "7              Class   Target      Binary        None   \n",
            "\n",
            "                                         description units missing_values  \n",
            "0  Returns the number of pixels within the bounda...    px             no  \n",
            "1  Calculates the circumference by calculating th...    px             no  \n",
            "2  The longest line that can be drawn on the rice...  None             no  \n",
            "3  The shortest line that can be drawn on the ric...  None             no  \n",
            "4  It measures how round the ellipse, which has t...  None             no  \n",
            "5  Returns the pixel count of the smallest convex...  None             no  \n",
            "6  Returns the ratio of the region formed by the ...  None             no  \n",
            "7                                Cammeo and Osmancik  None             no  \n"
          ]
        }
      ],
      "source": [
        " # fetch dataset\n",
        "rice_cammeo_and_osmancik = fetch_ucirepo(id=545)\n",
        "\n",
        "# data (as pandas dataframes)\n",
        "X = rice_cammeo_and_osmancik.data.features\n",
        "y = rice_cammeo_and_osmancik.data.targets\n",
        "\n",
        "# metadata\n",
        "print(rice_cammeo_and_osmancik.metadata)\n",
        "\n",
        "# variable information\n",
        "print(rice_cammeo_and_osmancik.variables)\n"
      ]
    },
    {
      "cell_type": "code",
      "execution_count": null,
      "metadata": {
        "colab": {
          "background_save": true,
          "base_uri": "https://localhost:8080/",
          "height": 844
        },
        "id": "zql0PZc3iiUY",
        "outputId": "318a5747-e01f-46ae-b334-727b79c4f2f1"
      },
      "outputs": [
        {
          "data": {
            "application/vnd.google.colaboratory.intrinsic+json": {
              "summary": "{\n  \"name\": \"df\",\n  \"rows\": 25,\n  \"fields\": [\n    {\n      \"column\": \"Area\",\n      \"properties\": {\n        \"dtype\": \"number\",\n        \"std\": 1038,\n        \"min\": 9405,\n        \"max\": 13537,\n        \"num_unique_values\": 25,\n        \"samples\": [\n          11661,\n          10604,\n          10185\n        ],\n        \"semantic_type\": \"\",\n        \"description\": \"\"\n      }\n    },\n    {\n      \"column\": \"Perimeter\",\n      \"properties\": {\n        \"dtype\": \"number\",\n        \"std\": 20.417779434381625,\n        \"min\": 389.2940063,\n        \"max\": 467.5870056,\n        \"num_unique_values\": 25,\n        \"samples\": [\n          418.0150146,\n          409.5109863,\n          397.980011\n        ],\n        \"semantic_type\": \"\",\n        \"description\": \"\"\n      }\n    },\n    {\n      \"column\": \"Major_Axis_Length\",\n      \"properties\": {\n        \"dtype\": \"number\",\n        \"std\": 9.233577325553327,\n        \"min\": 161.0792694,\n        \"max\": 199.5731506,\n        \"num_unique_values\": 25,\n        \"samples\": [\n          168.9551392,\n          172.3027039,\n          163.8427277\n        ],\n        \"semantic_type\": \"\",\n        \"description\": \"\"\n      }\n    },\n    {\n      \"column\": \"Minor_Axis_Length\",\n      \"properties\": {\n        \"dtype\": \"number\",\n        \"std\": 5.362222203136662,\n        \"min\": 74.4376297,\n        \"max\": 93.46143341,\n        \"num_unique_values\": 25,\n        \"samples\": [\n          88.93134308,\n          78.91883087,\n          79.58455658\n        ],\n        \"semantic_type\": \"\",\n        \"description\": \"\"\n      }\n    },\n    {\n      \"column\": \"Eccentricity\",\n      \"properties\": {\n        \"dtype\": \"number\",\n        \"std\": 0.01881682501059824,\n        \"min\": 0.825692177,\n        \"max\": 0.90605104,\n        \"num_unique_values\": 25,\n        \"samples\": [\n          0.85026139,\n          0.888939679,\n          0.874104738\n        ],\n        \"semantic_type\": \"\",\n        \"description\": \"\"\n      }\n    },\n    {\n      \"column\": \"Convex_Area\",\n      \"properties\": {\n        \"dtype\": \"number\",\n        \"std\": 1065,\n        \"min\": 9594,\n        \"max\": 13745,\n        \"num_unique_values\": 25,\n        \"samples\": [\n          11819,\n          10755,\n          10335\n        ],\n        \"semantic_type\": \"\",\n        \"description\": \"\"\n      }\n    },\n    {\n      \"column\": \"Extent\",\n      \"properties\": {\n        \"dtype\": \"number\",\n        \"std\": 0.06424591079272929,\n        \"min\": 0.58618021,\n        \"max\": 0.808000028,\n        \"num_unique_values\": 25,\n        \"samples\": [\n          0.789291978,\n          0.58618021,\n          0.631510437\n        ],\n        \"semantic_type\": \"\",\n        \"description\": \"\"\n      }\n    },\n    {\n      \"column\": \"Class\",\n      \"properties\": {\n        \"dtype\": \"category\",\n        \"num_unique_values\": 1,\n        \"samples\": [\n          \"Osmancik\"\n        ],\n        \"semantic_type\": \"\",\n        \"description\": \"\"\n      }\n    }\n  ]\n}",
              "type": "dataframe"
            },
            "text/html": [
              "\n",
              "  <div id=\"df-f2ce849b-6bd4-4510-a3ff-fc7e103c0e28\" class=\"colab-df-container\">\n",
              "    <div>\n",
              "<style scoped>\n",
              "    .dataframe tbody tr th:only-of-type {\n",
              "        vertical-align: middle;\n",
              "    }\n",
              "\n",
              "    .dataframe tbody tr th {\n",
              "        vertical-align: top;\n",
              "    }\n",
              "\n",
              "    .dataframe thead th {\n",
              "        text-align: right;\n",
              "    }\n",
              "</style>\n",
              "<table border=\"1\" class=\"dataframe\">\n",
              "  <thead>\n",
              "    <tr style=\"text-align: right;\">\n",
              "      <th></th>\n",
              "      <th>Area</th>\n",
              "      <th>Perimeter</th>\n",
              "      <th>Major_Axis_Length</th>\n",
              "      <th>Minor_Axis_Length</th>\n",
              "      <th>Eccentricity</th>\n",
              "      <th>Convex_Area</th>\n",
              "      <th>Extent</th>\n",
              "      <th>Class</th>\n",
              "    </tr>\n",
              "  </thead>\n",
              "  <tbody>\n",
              "    <tr>\n",
              "      <th>3785</th>\n",
              "      <td>10185</td>\n",
              "      <td>397.980011</td>\n",
              "      <td>163.842728</td>\n",
              "      <td>79.584557</td>\n",
              "      <td>0.874105</td>\n",
              "      <td>10335</td>\n",
              "      <td>0.631510</td>\n",
              "      <td>Osmancik</td>\n",
              "    </tr>\n",
              "    <tr>\n",
              "      <th>3786</th>\n",
              "      <td>12159</td>\n",
              "      <td>437.822998</td>\n",
              "      <td>177.584534</td>\n",
              "      <td>88.580299</td>\n",
              "      <td>0.866713</td>\n",
              "      <td>12377</td>\n",
              "      <td>0.670139</td>\n",
              "      <td>Osmancik</td>\n",
              "    </tr>\n",
              "    <tr>\n",
              "      <th>3787</th>\n",
              "      <td>9884</td>\n",
              "      <td>389.294006</td>\n",
              "      <td>164.070633</td>\n",
              "      <td>76.870232</td>\n",
              "      <td>0.883453</td>\n",
              "      <td>10021</td>\n",
              "      <td>0.735964</td>\n",
              "      <td>Osmancik</td>\n",
              "    </tr>\n",
              "    <tr>\n",
              "      <th>3788</th>\n",
              "      <td>12726</td>\n",
              "      <td>434.772003</td>\n",
              "      <td>175.731751</td>\n",
              "      <td>93.308510</td>\n",
              "      <td>0.847390</td>\n",
              "      <td>12896</td>\n",
              "      <td>0.808000</td>\n",
              "      <td>Osmancik</td>\n",
              "    </tr>\n",
              "    <tr>\n",
              "      <th>3789</th>\n",
              "      <td>12269</td>\n",
              "      <td>436.011993</td>\n",
              "      <td>177.884750</td>\n",
              "      <td>88.848114</td>\n",
              "      <td>0.866331</td>\n",
              "      <td>12466</td>\n",
              "      <td>0.745836</td>\n",
              "      <td>Osmancik</td>\n",
              "    </tr>\n",
              "    <tr>\n",
              "      <th>3790</th>\n",
              "      <td>11140</td>\n",
              "      <td>414.364990</td>\n",
              "      <td>170.649811</td>\n",
              "      <td>83.778770</td>\n",
              "      <td>0.871194</td>\n",
              "      <td>11280</td>\n",
              "      <td>0.607747</td>\n",
              "      <td>Osmancik</td>\n",
              "    </tr>\n",
              "    <tr>\n",
              "      <th>3791</th>\n",
              "      <td>10480</td>\n",
              "      <td>414.808990</td>\n",
              "      <td>177.856125</td>\n",
              "      <td>75.263107</td>\n",
              "      <td>0.906051</td>\n",
              "      <td>10657</td>\n",
              "      <td>0.630338</td>\n",
              "      <td>Osmancik</td>\n",
              "    </tr>\n",
              "    <tr>\n",
              "      <th>3792</th>\n",
              "      <td>13121</td>\n",
              "      <td>456.772003</td>\n",
              "      <td>181.998077</td>\n",
              "      <td>93.461433</td>\n",
              "      <td>0.858072</td>\n",
              "      <td>13490</td>\n",
              "      <td>0.627319</td>\n",
              "      <td>Osmancik</td>\n",
              "    </tr>\n",
              "    <tr>\n",
              "      <th>3793</th>\n",
              "      <td>11661</td>\n",
              "      <td>418.015015</td>\n",
              "      <td>168.955139</td>\n",
              "      <td>88.931343</td>\n",
              "      <td>0.850261</td>\n",
              "      <td>11819</td>\n",
              "      <td>0.789292</td>\n",
              "      <td>Osmancik</td>\n",
              "    </tr>\n",
              "    <tr>\n",
              "      <th>3794</th>\n",
              "      <td>11957</td>\n",
              "      <td>437.446991</td>\n",
              "      <td>176.082489</td>\n",
              "      <td>87.908638</td>\n",
              "      <td>0.866460</td>\n",
              "      <td>12314</td>\n",
              "      <td>0.604438</td>\n",
              "      <td>Osmancik</td>\n",
              "    </tr>\n",
              "    <tr>\n",
              "      <th>3795</th>\n",
              "      <td>12174</td>\n",
              "      <td>435.368012</td>\n",
              "      <td>174.200012</td>\n",
              "      <td>90.661591</td>\n",
              "      <td>0.853895</td>\n",
              "      <td>12471</td>\n",
              "      <td>0.663867</td>\n",
              "      <td>Osmancik</td>\n",
              "    </tr>\n",
              "    <tr>\n",
              "      <th>3796</th>\n",
              "      <td>9405</td>\n",
              "      <td>389.774994</td>\n",
              "      <td>162.368225</td>\n",
              "      <td>74.437630</td>\n",
              "      <td>0.888720</td>\n",
              "      <td>9594</td>\n",
              "      <td>0.607637</td>\n",
              "      <td>Osmancik</td>\n",
              "    </tr>\n",
              "    <tr>\n",
              "      <th>3797</th>\n",
              "      <td>11545</td>\n",
              "      <td>429.097992</td>\n",
              "      <td>176.999298</td>\n",
              "      <td>84.105339</td>\n",
              "      <td>0.879892</td>\n",
              "      <td>11816</td>\n",
              "      <td>0.705857</td>\n",
              "      <td>Osmancik</td>\n",
              "    </tr>\n",
              "    <tr>\n",
              "      <th>3798</th>\n",
              "      <td>13537</td>\n",
              "      <td>467.587006</td>\n",
              "      <td>199.573151</td>\n",
              "      <td>86.729828</td>\n",
              "      <td>0.900635</td>\n",
              "      <td>13745</td>\n",
              "      <td>0.730624</td>\n",
              "      <td>Osmancik</td>\n",
              "    </tr>\n",
              "    <tr>\n",
              "      <th>3799</th>\n",
              "      <td>11795</td>\n",
              "      <td>428.750000</td>\n",
              "      <td>175.960007</td>\n",
              "      <td>86.420631</td>\n",
              "      <td>0.871082</td>\n",
              "      <td>12016</td>\n",
              "      <td>0.738110</td>\n",
              "      <td>Osmancik</td>\n",
              "    </tr>\n",
              "    <tr>\n",
              "      <th>3800</th>\n",
              "      <td>11611</td>\n",
              "      <td>431.273010</td>\n",
              "      <td>178.513947</td>\n",
              "      <td>84.112518</td>\n",
              "      <td>0.882036</td>\n",
              "      <td>11775</td>\n",
              "      <td>0.691913</td>\n",
              "      <td>Osmancik</td>\n",
              "    </tr>\n",
              "    <tr>\n",
              "      <th>3801</th>\n",
              "      <td>10604</td>\n",
              "      <td>409.510986</td>\n",
              "      <td>172.302704</td>\n",
              "      <td>78.918831</td>\n",
              "      <td>0.888940</td>\n",
              "      <td>10755</td>\n",
              "      <td>0.586180</td>\n",
              "      <td>Osmancik</td>\n",
              "    </tr>\n",
              "    <tr>\n",
              "      <th>3802</th>\n",
              "      <td>12349</td>\n",
              "      <td>434.138000</td>\n",
              "      <td>180.241928</td>\n",
              "      <td>88.264580</td>\n",
              "      <td>0.871891</td>\n",
              "      <td>12526</td>\n",
              "      <td>0.627490</td>\n",
              "      <td>Osmancik</td>\n",
              "    </tr>\n",
              "    <tr>\n",
              "      <th>3803</th>\n",
              "      <td>11538</td>\n",
              "      <td>418.661011</td>\n",
              "      <td>170.850906</td>\n",
              "      <td>86.498398</td>\n",
              "      <td>0.862369</td>\n",
              "      <td>11741</td>\n",
              "      <td>0.713544</td>\n",
              "      <td>Osmancik</td>\n",
              "    </tr>\n",
              "    <tr>\n",
              "      <th>3804</th>\n",
              "      <td>12501</td>\n",
              "      <td>451.799011</td>\n",
              "      <td>192.738800</td>\n",
              "      <td>83.195061</td>\n",
              "      <td>0.902043</td>\n",
              "      <td>12687</td>\n",
              "      <td>0.718820</td>\n",
              "      <td>Osmancik</td>\n",
              "    </tr>\n",
              "    <tr>\n",
              "      <th>3805</th>\n",
              "      <td>11441</td>\n",
              "      <td>415.858002</td>\n",
              "      <td>170.486771</td>\n",
              "      <td>85.756592</td>\n",
              "      <td>0.864280</td>\n",
              "      <td>11628</td>\n",
              "      <td>0.681012</td>\n",
              "      <td>Osmancik</td>\n",
              "    </tr>\n",
              "    <tr>\n",
              "      <th>3806</th>\n",
              "      <td>11625</td>\n",
              "      <td>421.390015</td>\n",
              "      <td>167.714798</td>\n",
              "      <td>89.462570</td>\n",
              "      <td>0.845850</td>\n",
              "      <td>11904</td>\n",
              "      <td>0.694279</td>\n",
              "      <td>Osmancik</td>\n",
              "    </tr>\n",
              "    <tr>\n",
              "      <th>3807</th>\n",
              "      <td>12437</td>\n",
              "      <td>442.498993</td>\n",
              "      <td>183.572922</td>\n",
              "      <td>86.801979</td>\n",
              "      <td>0.881144</td>\n",
              "      <td>12645</td>\n",
              "      <td>0.626739</td>\n",
              "      <td>Osmancik</td>\n",
              "    </tr>\n",
              "    <tr>\n",
              "      <th>3808</th>\n",
              "      <td>9882</td>\n",
              "      <td>392.296997</td>\n",
              "      <td>161.193985</td>\n",
              "      <td>78.210480</td>\n",
              "      <td>0.874406</td>\n",
              "      <td>10097</td>\n",
              "      <td>0.659064</td>\n",
              "      <td>Osmancik</td>\n",
              "    </tr>\n",
              "    <tr>\n",
              "      <th>3809</th>\n",
              "      <td>11434</td>\n",
              "      <td>404.709992</td>\n",
              "      <td>161.079269</td>\n",
              "      <td>90.868195</td>\n",
              "      <td>0.825692</td>\n",
              "      <td>11591</td>\n",
              "      <td>0.802949</td>\n",
              "      <td>Osmancik</td>\n",
              "    </tr>\n",
              "  </tbody>\n",
              "</table>\n",
              "</div>\n",
              "    <div class=\"colab-df-buttons\">\n",
              "\n",
              "  <div class=\"colab-df-container\">\n",
              "    <button class=\"colab-df-convert\" onclick=\"convertToInteractive('df-f2ce849b-6bd4-4510-a3ff-fc7e103c0e28')\"\n",
              "            title=\"Convert this dataframe to an interactive table.\"\n",
              "            style=\"display:none;\">\n",
              "\n",
              "  <svg xmlns=\"http://www.w3.org/2000/svg\" height=\"24px\" viewBox=\"0 -960 960 960\">\n",
              "    <path d=\"M120-120v-720h720v720H120Zm60-500h600v-160H180v160Zm220 220h160v-160H400v160Zm0 220h160v-160H400v160ZM180-400h160v-160H180v160Zm440 0h160v-160H620v160ZM180-180h160v-160H180v160Zm440 0h160v-160H620v160Z\"/>\n",
              "  </svg>\n",
              "    </button>\n",
              "\n",
              "  <style>\n",
              "    .colab-df-container {\n",
              "      display:flex;\n",
              "      gap: 12px;\n",
              "    }\n",
              "\n",
              "    .colab-df-convert {\n",
              "      background-color: #E8F0FE;\n",
              "      border: none;\n",
              "      border-radius: 50%;\n",
              "      cursor: pointer;\n",
              "      display: none;\n",
              "      fill: #1967D2;\n",
              "      height: 32px;\n",
              "      padding: 0 0 0 0;\n",
              "      width: 32px;\n",
              "    }\n",
              "\n",
              "    .colab-df-convert:hover {\n",
              "      background-color: #E2EBFA;\n",
              "      box-shadow: 0px 1px 2px rgba(60, 64, 67, 0.3), 0px 1px 3px 1px rgba(60, 64, 67, 0.15);\n",
              "      fill: #174EA6;\n",
              "    }\n",
              "\n",
              "    .colab-df-buttons div {\n",
              "      margin-bottom: 4px;\n",
              "    }\n",
              "\n",
              "    [theme=dark] .colab-df-convert {\n",
              "      background-color: #3B4455;\n",
              "      fill: #D2E3FC;\n",
              "    }\n",
              "\n",
              "    [theme=dark] .colab-df-convert:hover {\n",
              "      background-color: #434B5C;\n",
              "      box-shadow: 0px 1px 3px 1px rgba(0, 0, 0, 0.15);\n",
              "      filter: drop-shadow(0px 1px 2px rgba(0, 0, 0, 0.3));\n",
              "      fill: #FFFFFF;\n",
              "    }\n",
              "  </style>\n",
              "\n",
              "    <script>\n",
              "      const buttonEl =\n",
              "        document.querySelector('#df-f2ce849b-6bd4-4510-a3ff-fc7e103c0e28 button.colab-df-convert');\n",
              "      buttonEl.style.display =\n",
              "        google.colab.kernel.accessAllowed ? 'block' : 'none';\n",
              "\n",
              "      async function convertToInteractive(key) {\n",
              "        const element = document.querySelector('#df-f2ce849b-6bd4-4510-a3ff-fc7e103c0e28');\n",
              "        const dataTable =\n",
              "          await google.colab.kernel.invokeFunction('convertToInteractive',\n",
              "                                                    [key], {});\n",
              "        if (!dataTable) return;\n",
              "\n",
              "        const docLinkHtml = 'Like what you see? Visit the ' +\n",
              "          '<a target=\"_blank\" href=https://colab.research.google.com/notebooks/data_table.ipynb>data table notebook</a>'\n",
              "          + ' to learn more about interactive tables.';\n",
              "        element.innerHTML = '';\n",
              "        dataTable['output_type'] = 'display_data';\n",
              "        await google.colab.output.renderOutput(dataTable, element);\n",
              "        const docLink = document.createElement('div');\n",
              "        docLink.innerHTML = docLinkHtml;\n",
              "        element.appendChild(docLink);\n",
              "      }\n",
              "    </script>\n",
              "  </div>\n",
              "\n",
              "\n",
              "<div id=\"df-5be69f97-af6a-4bc3-9f0d-fae6843aef94\">\n",
              "  <button class=\"colab-df-quickchart\" onclick=\"quickchart('df-5be69f97-af6a-4bc3-9f0d-fae6843aef94')\"\n",
              "            title=\"Suggest charts\"\n",
              "            style=\"display:none;\">\n",
              "\n",
              "<svg xmlns=\"http://www.w3.org/2000/svg\" height=\"24px\"viewBox=\"0 0 24 24\"\n",
              "     width=\"24px\">\n",
              "    <g>\n",
              "        <path d=\"M19 3H5c-1.1 0-2 .9-2 2v14c0 1.1.9 2 2 2h14c1.1 0 2-.9 2-2V5c0-1.1-.9-2-2-2zM9 17H7v-7h2v7zm4 0h-2V7h2v10zm4 0h-2v-4h2v4z\"/>\n",
              "    </g>\n",
              "</svg>\n",
              "  </button>\n",
              "\n",
              "<style>\n",
              "  .colab-df-quickchart {\n",
              "      --bg-color: #E8F0FE;\n",
              "      --fill-color: #1967D2;\n",
              "      --hover-bg-color: #E2EBFA;\n",
              "      --hover-fill-color: #174EA6;\n",
              "      --disabled-fill-color: #AAA;\n",
              "      --disabled-bg-color: #DDD;\n",
              "  }\n",
              "\n",
              "  [theme=dark] .colab-df-quickchart {\n",
              "      --bg-color: #3B4455;\n",
              "      --fill-color: #D2E3FC;\n",
              "      --hover-bg-color: #434B5C;\n",
              "      --hover-fill-color: #FFFFFF;\n",
              "      --disabled-bg-color: #3B4455;\n",
              "      --disabled-fill-color: #666;\n",
              "  }\n",
              "\n",
              "  .colab-df-quickchart {\n",
              "    background-color: var(--bg-color);\n",
              "    border: none;\n",
              "    border-radius: 50%;\n",
              "    cursor: pointer;\n",
              "    display: none;\n",
              "    fill: var(--fill-color);\n",
              "    height: 32px;\n",
              "    padding: 0;\n",
              "    width: 32px;\n",
              "  }\n",
              "\n",
              "  .colab-df-quickchart:hover {\n",
              "    background-color: var(--hover-bg-color);\n",
              "    box-shadow: 0 1px 2px rgba(60, 64, 67, 0.3), 0 1px 3px 1px rgba(60, 64, 67, 0.15);\n",
              "    fill: var(--button-hover-fill-color);\n",
              "  }\n",
              "\n",
              "  .colab-df-quickchart-complete:disabled,\n",
              "  .colab-df-quickchart-complete:disabled:hover {\n",
              "    background-color: var(--disabled-bg-color);\n",
              "    fill: var(--disabled-fill-color);\n",
              "    box-shadow: none;\n",
              "  }\n",
              "\n",
              "  .colab-df-spinner {\n",
              "    border: 2px solid var(--fill-color);\n",
              "    border-color: transparent;\n",
              "    border-bottom-color: var(--fill-color);\n",
              "    animation:\n",
              "      spin 1s steps(1) infinite;\n",
              "  }\n",
              "\n",
              "  @keyframes spin {\n",
              "    0% {\n",
              "      border-color: transparent;\n",
              "      border-bottom-color: var(--fill-color);\n",
              "      border-left-color: var(--fill-color);\n",
              "    }\n",
              "    20% {\n",
              "      border-color: transparent;\n",
              "      border-left-color: var(--fill-color);\n",
              "      border-top-color: var(--fill-color);\n",
              "    }\n",
              "    30% {\n",
              "      border-color: transparent;\n",
              "      border-left-color: var(--fill-color);\n",
              "      border-top-color: var(--fill-color);\n",
              "      border-right-color: var(--fill-color);\n",
              "    }\n",
              "    40% {\n",
              "      border-color: transparent;\n",
              "      border-right-color: var(--fill-color);\n",
              "      border-top-color: var(--fill-color);\n",
              "    }\n",
              "    60% {\n",
              "      border-color: transparent;\n",
              "      border-right-color: var(--fill-color);\n",
              "    }\n",
              "    80% {\n",
              "      border-color: transparent;\n",
              "      border-right-color: var(--fill-color);\n",
              "      border-bottom-color: var(--fill-color);\n",
              "    }\n",
              "    90% {\n",
              "      border-color: transparent;\n",
              "      border-bottom-color: var(--fill-color);\n",
              "    }\n",
              "  }\n",
              "</style>\n",
              "\n",
              "  <script>\n",
              "    async function quickchart(key) {\n",
              "      const quickchartButtonEl =\n",
              "        document.querySelector('#' + key + ' button');\n",
              "      quickchartButtonEl.disabled = true;  // To prevent multiple clicks.\n",
              "      quickchartButtonEl.classList.add('colab-df-spinner');\n",
              "      try {\n",
              "        const charts = await google.colab.kernel.invokeFunction(\n",
              "            'suggestCharts', [key], {});\n",
              "      } catch (error) {\n",
              "        console.error('Error during call to suggestCharts:', error);\n",
              "      }\n",
              "      quickchartButtonEl.classList.remove('colab-df-spinner');\n",
              "      quickchartButtonEl.classList.add('colab-df-quickchart-complete');\n",
              "    }\n",
              "    (() => {\n",
              "      let quickchartButtonEl =\n",
              "        document.querySelector('#df-5be69f97-af6a-4bc3-9f0d-fae6843aef94 button');\n",
              "      quickchartButtonEl.style.display =\n",
              "        google.colab.kernel.accessAllowed ? 'block' : 'none';\n",
              "    })();\n",
              "  </script>\n",
              "</div>\n",
              "\n",
              "    </div>\n",
              "  </div>\n"
            ],
            "text/plain": [
              "       Area   Perimeter  Major_Axis_Length  Minor_Axis_Length  Eccentricity  \\\n",
              "3785  10185  397.980011         163.842728          79.584557      0.874105   \n",
              "3786  12159  437.822998         177.584534          88.580299      0.866713   \n",
              "3787   9884  389.294006         164.070633          76.870232      0.883453   \n",
              "3788  12726  434.772003         175.731751          93.308510      0.847390   \n",
              "3789  12269  436.011993         177.884750          88.848114      0.866331   \n",
              "3790  11140  414.364990         170.649811          83.778770      0.871194   \n",
              "3791  10480  414.808990         177.856125          75.263107      0.906051   \n",
              "3792  13121  456.772003         181.998077          93.461433      0.858072   \n",
              "3793  11661  418.015015         168.955139          88.931343      0.850261   \n",
              "3794  11957  437.446991         176.082489          87.908638      0.866460   \n",
              "3795  12174  435.368012         174.200012          90.661591      0.853895   \n",
              "3796   9405  389.774994         162.368225          74.437630      0.888720   \n",
              "3797  11545  429.097992         176.999298          84.105339      0.879892   \n",
              "3798  13537  467.587006         199.573151          86.729828      0.900635   \n",
              "3799  11795  428.750000         175.960007          86.420631      0.871082   \n",
              "3800  11611  431.273010         178.513947          84.112518      0.882036   \n",
              "3801  10604  409.510986         172.302704          78.918831      0.888940   \n",
              "3802  12349  434.138000         180.241928          88.264580      0.871891   \n",
              "3803  11538  418.661011         170.850906          86.498398      0.862369   \n",
              "3804  12501  451.799011         192.738800          83.195061      0.902043   \n",
              "3805  11441  415.858002         170.486771          85.756592      0.864280   \n",
              "3806  11625  421.390015         167.714798          89.462570      0.845850   \n",
              "3807  12437  442.498993         183.572922          86.801979      0.881144   \n",
              "3808   9882  392.296997         161.193985          78.210480      0.874406   \n",
              "3809  11434  404.709992         161.079269          90.868195      0.825692   \n",
              "\n",
              "      Convex_Area    Extent     Class  \n",
              "3785        10335  0.631510  Osmancik  \n",
              "3786        12377  0.670139  Osmancik  \n",
              "3787        10021  0.735964  Osmancik  \n",
              "3788        12896  0.808000  Osmancik  \n",
              "3789        12466  0.745836  Osmancik  \n",
              "3790        11280  0.607747  Osmancik  \n",
              "3791        10657  0.630338  Osmancik  \n",
              "3792        13490  0.627319  Osmancik  \n",
              "3793        11819  0.789292  Osmancik  \n",
              "3794        12314  0.604438  Osmancik  \n",
              "3795        12471  0.663867  Osmancik  \n",
              "3796         9594  0.607637  Osmancik  \n",
              "3797        11816  0.705857  Osmancik  \n",
              "3798        13745  0.730624  Osmancik  \n",
              "3799        12016  0.738110  Osmancik  \n",
              "3800        11775  0.691913  Osmancik  \n",
              "3801        10755  0.586180  Osmancik  \n",
              "3802        12526  0.627490  Osmancik  \n",
              "3803        11741  0.713544  Osmancik  \n",
              "3804        12687  0.718820  Osmancik  \n",
              "3805        11628  0.681012  Osmancik  \n",
              "3806        11904  0.694279  Osmancik  \n",
              "3807        12645  0.626739  Osmancik  \n",
              "3808        10097  0.659064  Osmancik  \n",
              "3809        11591  0.802949  Osmancik  "
            ]
          },
          "execution_count": 4,
          "metadata": {},
          "output_type": "execute_result"
        }
      ],
      "source": [
        "# Reading file as dataframe\n",
        "df = pd.concat([pd.DataFrame(X), pd.DataFrame(y)], axis=1)\n",
        "df.tail(25)"
      ]
    },
    {
      "cell_type": "markdown",
      "metadata": {
        "id": "ZgJLtOdcufz5"
      },
      "source": [
        "### __2.3 Normalization__\n"
      ]
    },
    {
      "cell_type": "code",
      "execution_count": null,
      "metadata": {
        "colab": {
          "background_save": true
        },
        "id": "YePbdUJ-dQHx"
      },
      "outputs": [],
      "source": [
        "# Normalize the input values\n",
        "scaler = MinMaxScaler()\n",
        "X_normalized = scaler.fit_transform(X)"
      ]
    },
    {
      "cell_type": "markdown",
      "metadata": {
        "id": "m5056nnTuxks"
      },
      "source": [
        "### __2.4 Onehot encoding__"
      ]
    },
    {
      "cell_type": "code",
      "execution_count": null,
      "metadata": {
        "colab": {
          "background_save": true
        },
        "id": "B_Ri_JIUs0dl"
      },
      "outputs": [],
      "source": [
        "# One-hot encode the target values\n",
        "encoder = OneHotEncoder(sparse_output=False)\n",
        "y_one_hot = encoder.fit_transform(y)"
      ]
    },
    {
      "cell_type": "markdown",
      "metadata": {
        "id": "kQ8xcwNLvmUD"
      },
      "source": [
        "### __2.5 Train-Test split__"
      ]
    },
    {
      "cell_type": "code",
      "execution_count": null,
      "metadata": {
        "colab": {
          "background_save": true
        },
        "id": "z-iSCS9ys7Xr"
      },
      "outputs": [],
      "source": [
        "# Split the dataset into training, validation, and test sets\n",
        "X_train, X_test, y_train, y_test = train_test_split(X, y, test_size=0.4,random_state=42)\n"
      ]
    },
    {
      "cell_type": "markdown",
      "metadata": {
        "id": "ypaKHvsQwrzv"
      },
      "source": [
        "\n",
        "\n",
        "# __3. Model Training__"
      ]
    },
    {
      "cell_type": "markdown",
      "metadata": {
        "id": "raei3Kw0KbBZ"
      },
      "source": [
        "### __3.1 Random Forest Classifier__"
      ]
    },
    {
      "cell_type": "code",
      "execution_count": null,
      "metadata": {
        "colab": {
          "background_save": true
        },
        "id": "EV9qMs8WwXBE"
      },
      "outputs": [],
      "source": [
        "# Training the model\n",
        "clm = RandomForestClassifier(n_estimators=100, random_state=42)"
      ]
    },
    {
      "cell_type": "code",
      "execution_count": null,
      "metadata": {
        "colab": {
          "background_save": true,
          "base_uri": "https://localhost:8080/"
        },
        "id": "bCvH_DzCAO2H",
        "outputId": "6c9fe865-919e-4be2-bed4-b9cafab54c70"
      },
      "outputs": [
        {
          "name": "stderr",
          "output_type": "stream",
          "text": [
            "<ipython-input-9-23a9d09df08e>:1: DataConversionWarning: A column-vector y was passed when a 1d array was expected. Please change the shape of y to (n_samples,), for example using ravel().\n",
            "  model = clm.fit(X_train, y_train)\n"
          ]
        }
      ],
      "source": [
        "model = clm.fit(X_train, y_train)\n"
      ]
    },
    {
      "cell_type": "code",
      "execution_count": null,
      "metadata": {
        "colab": {
          "background_save": true,
          "base_uri": "https://localhost:8080/"
        },
        "id": "VrV5tiSsMoyH",
        "outputId": "85e00cef-ab9b-4040-9a9b-7a666af2dc05"
      },
      "outputs": [
        {
          "name": "stdout",
          "output_type": "stream",
          "text": [
            "['Osmancik' 'Osmancik' 'Osmancik' ... 'Cammeo' 'Cammeo' 'Osmancik']\n"
          ]
        }
      ],
      "source": [
        "# Make predictions\n",
        "y_pred = clm.predict(X_test)\n",
        "print(y_pred)"
      ]
    },
    {
      "cell_type": "markdown",
      "metadata": {
        "id": "N_Jwzm_TKtFb"
      },
      "source": [
        "### __3.2 Model Evaluation__"
      ]
    },
    {
      "cell_type": "code",
      "execution_count": null,
      "metadata": {
        "colab": {
          "background_save": true,
          "base_uri": "https://localhost:8080/"
        },
        "id": "li-XDUjW06nI",
        "outputId": "1015cb47-e8f4-4175-dabc-5c9997adcb68"
      },
      "outputs": [
        {
          "name": "stdout",
          "output_type": "stream",
          "text": [
            "Accuracy: 0.9232283464566929\n",
            "Precision: 0.9234541850933017\n",
            "Recall: 0.9232283464566929\n",
            "F1 Score: 0.9230457838732891\n"
          ]
        }
      ],
      "source": [
        "# Initialize the evaluators for RandomForestClassifier\n",
        "accuracy_rf = accuracy_score(y_test, y_pred)\n",
        "pre_rf = precision_score(y_test, y_pred, average='weighted')\n",
        "rec_rf = recall_score(y_test, y_pred, average='weighted')\n",
        "f1_rf = f1_score(y_test, y_pred, average='weighted')\n",
        "\n",
        "# Evaluate metrics\n",
        "print(\"Accuracy:\", accuracy_rf)\n",
        "print(\"Precision:\", pre_rf)\n",
        "print(\"Recall:\", rec_rf)\n",
        "print(\"F1 Score:\", f1_rf)"
      ]
    },
    {
      "cell_type": "code",
      "execution_count": null,
      "metadata": {
        "colab": {
          "background_save": true,
          "base_uri": "https://localhost:8080/"
        },
        "id": "XWTxKTIB5sRL",
        "outputId": "118c2dd3-382f-48bb-90ce-f5277d8ed26b"
      },
      "outputs": [
        {
          "name": "stdout",
          "output_type": "stream",
          "text": [
            "Confusion Matrix:\n",
            " [[603  72]\n",
            " [ 45 804]]\n"
          ]
        }
      ],
      "source": [
        "# Confusion Matrix\n",
        "cm_rf = confusion_matrix(y_test, y_pred)\n",
        "print(\"Confusion Matrix:\\n\", cm_rf)"
      ]
    },
    {
      "cell_type": "code",
      "execution_count": null,
      "metadata": {
        "colab": {
          "background_save": true
        },
        "id": "jgb4Kn4e8zLy"
      },
      "outputs": [],
      "source": []
    }
  ],
  "metadata": {
    "colab": {
      "provenance": [],
      "authorship_tag": "ABX9TyOMlozB8BiRXT88epa/N7UF",
      "include_colab_link": true
    },
    "kernelspec": {
      "display_name": "Python 3",
      "name": "python3"
    },
    "language_info": {
      "name": "python"
    }
  },
  "nbformat": 4,
  "nbformat_minor": 0
}