{
  "cells": [
    {
      "cell_type": "markdown",
      "metadata": {
        "id": "view-in-github",
        "colab_type": "text"
      },
      "source": [
        "<a href=\"https://colab.research.google.com/github/KeoratileShongoane/AML/blob/main/Spark_(1)_(2).ipynb\" target=\"_parent\"><img src=\"https://colab.research.google.com/assets/colab-badge.svg\" alt=\"Open In Colab\"/></a>"
      ]
    },
    {
      "cell_type": "markdown",
      "metadata": {
        "id": "y1fx3FedRrga"
      },
      "source": [
        "***\n",
        "# **Data Science in Practise**: Assignment 2\n",
        "#### __Name:__ Keoratile Shongoane\n",
        "#### __Student number:__ 1389986\n",
        "\n",
        "***\n"
      ]
    },
    {
      "cell_type": "markdown",
      "metadata": {
        "id": "SC5vMHMOYTli"
      },
      "source": [
        "# __Imports__"
      ]
    },
    {
      "cell_type": "code",
      "execution_count": 1,
      "metadata": {
        "colab": {
          "base_uri": "https://localhost:8080/"
        },
        "id": "qKidvvFCH-SA",
        "outputId": "2ae04c04-db96-4636-d753-3738393904d0"
      },
      "outputs": [
        {
          "output_type": "stream",
          "name": "stdout",
          "text": [
            "Collecting pyspark\n",
            "  Downloading pyspark-3.5.1.tar.gz (317.0 MB)\n",
            "\u001b[2K     \u001b[90m━━━━━━━━━━━━━━━━━━━━━━━━━━━━━━━━━━━━━━━━\u001b[0m \u001b[32m317.0/317.0 MB\u001b[0m \u001b[31m5.1 MB/s\u001b[0m eta \u001b[36m0:00:00\u001b[0m\n",
            "\u001b[?25h  Preparing metadata (setup.py) ... \u001b[?25l\u001b[?25hdone\n",
            "Requirement already satisfied: py4j==0.10.9.7 in /usr/local/lib/python3.10/dist-packages (from pyspark) (0.10.9.7)\n",
            "Building wheels for collected packages: pyspark\n",
            "  Building wheel for pyspark (setup.py) ... \u001b[?25l\u001b[?25hdone\n",
            "  Created wheel for pyspark: filename=pyspark-3.5.1-py2.py3-none-any.whl size=317488490 sha256=1e0b759ed8a5f6bf04aa22b9f5cfae24b9b0a28aecd7f62e792669e5957f9ce2\n",
            "  Stored in directory: /root/.cache/pip/wheels/80/1d/60/2c256ed38dddce2fdd93be545214a63e02fbd8d74fb0b7f3a6\n",
            "Successfully built pyspark\n",
            "Installing collected packages: pyspark\n",
            "Successfully installed pyspark-3.5.1\n"
          ]
        }
      ],
      "source": [
        "!pip install pyspark"
      ]
    },
    {
      "cell_type": "markdown",
      "metadata": {
        "id": "XrlhuA42R8Jx"
      },
      "source": [
        "The cell below imports spark, starts a spark session, and then prints out the details of the running spark instance."
      ]
    },
    {
      "cell_type": "code",
      "execution_count": 2,
      "metadata": {
        "id": "X2BCHGQ4IWP-"
      },
      "outputs": [],
      "source": [
        "# Import SparkSession\n",
        "from pyspark.sql import SparkSession, column\n",
        "from pyspark.ml.classification import DecisionTreeClassifier\n",
        "from pyspark.ml.feature import StringIndexer\n",
        "from pyspark.ml.feature import VectorAssembler\n",
        "from pyspark.ml.classification import RandomForestClassifier\n",
        "from pyspark.ml.evaluation import MulticlassClassificationEvaluator\n",
        "from pyspark.mllib.evaluation import MulticlassMetrics\n",
        "from pyspark.sql.types import FloatType\n",
        "import pyspark.sql.functions as F\n",
        "import numpy as np\n",
        "import pandas as pd\n",
        "\n"
      ]
    },
    {
      "cell_type": "markdown",
      "metadata": {
        "id": "aH8HmzElYTlk"
      },
      "source": [
        "# __1. Starting Spark Session__"
      ]
    },
    {
      "cell_type": "code",
      "execution_count": 3,
      "metadata": {
        "id": "ogZkw43Rs-Me"
      },
      "outputs": [],
      "source": [
        "# Create a Spark Session\n",
        "spark = SparkSession.builder.appName('ml-income').getOrCreate()"
      ]
    },
    {
      "cell_type": "markdown",
      "metadata": {
        "id": "V2wYqn58YTlk"
      },
      "source": [
        "# __2. Proprocessing__"
      ]
    },
    {
      "cell_type": "markdown",
      "metadata": {
        "id": "cttPFmJ3YTlk"
      },
      "source": [
        "### __2.1 Importing Data__"
      ]
    },
    {
      "cell_type": "code",
      "execution_count": 23,
      "metadata": {
        "id": "aUhx6fnsHmR8"
      },
      "outputs": [],
      "source": [
        "df = spark.read.csv('/content/income.csv', header=True, nullValue='?',ignoreLeadingWhiteSpace=True, ignoreTrailingWhiteSpace=True, inferSchema=True)\n",
        "\n"
      ]
    },
    {
      "cell_type": "markdown",
      "metadata": {
        "id": "sgPheINtYTll"
      },
      "source": [
        "### __2.2 Viewing data types__"
      ]
    },
    {
      "cell_type": "code",
      "execution_count": 5,
      "metadata": {
        "id": "VKpeyjEhCplc",
        "colab": {
          "base_uri": "https://localhost:8080/"
        },
        "outputId": "f2671b34-a067-4d03-8e53-1950ae8f8230"
      },
      "outputs": [
        {
          "output_type": "stream",
          "name": "stdout",
          "text": [
            "root\n",
            " |-- age: integer (nullable = true)\n",
            " |-- workclass: string (nullable = true)\n",
            " |-- weight: integer (nullable = true)\n",
            " |-- education: string (nullable = true)\n",
            " |-- education_years: integer (nullable = true)\n",
            " |-- marital_status: string (nullable = true)\n",
            " |-- occupation: string (nullable = true)\n",
            " |-- relationship: string (nullable = true)\n",
            " |-- race: string (nullable = true)\n",
            " |-- sex: string (nullable = true)\n",
            " |-- capital_gain: integer (nullable = true)\n",
            " |-- capital_loss: integer (nullable = true)\n",
            " |-- hours_per_week: integer (nullable = true)\n",
            " |-- citizenship: string (nullable = true)\n",
            " |-- income_class: string (nullable = true)\n",
            "\n"
          ]
        }
      ],
      "source": [
        "df.printSchema()"
      ]
    },
    {
      "cell_type": "markdown",
      "metadata": {
        "id": "lYAKr32VYTll"
      },
      "source": [
        "### __2.3 Dropping missing values__"
      ]
    },
    {
      "cell_type": "code",
      "execution_count": 6,
      "metadata": {
        "id": "AQEh25j8RLGd",
        "colab": {
          "base_uri": "https://localhost:8080/"
        },
        "outputId": "d86f40d3-ea0d-4c07-85f0-481fb081c5af"
      },
      "outputs": [
        {
          "output_type": "stream",
          "name": "stdout",
          "text": [
            "+---+----------------+------+------------+---------------+--------------------+-----------------+-------------+------------------+------+------------+------------+--------------+-------------+------------+\n",
            "|age|       workclass|weight|   education|education_years|      marital_status|       occupation| relationship|              race|   sex|capital_gain|capital_loss|hours_per_week|  citizenship|income_class|\n",
            "+---+----------------+------+------------+---------------+--------------------+-----------------+-------------+------------------+------+------------+------------+--------------+-------------+------------+\n",
            "| 39|       State-gov| 77516|   Bachelors|             13|       Never-married|     Adm-clerical|Not-in-family|             White|  Male|        2174|           0|            40|United-States|       <=50K|\n",
            "| 50|Self-emp-not-inc| 83311|   Bachelors|             13|  Married-civ-spouse|  Exec-managerial|      Husband|             White|  Male|           0|           0|            13|United-States|       <=50K|\n",
            "| 38|         Private|215646|     HS-grad|              9|            Divorced|Handlers-cleaners|Not-in-family|             White|  Male|           0|           0|            40|United-States|       <=50K|\n",
            "| 53|         Private|234721|        11th|              7|  Married-civ-spouse|Handlers-cleaners|      Husband|             Black|  Male|           0|           0|            40|United-States|       <=50K|\n",
            "| 28|         Private|338409|   Bachelors|             13|  Married-civ-spouse|   Prof-specialty|         Wife|             Black|Female|           0|           0|            40|         Cuba|       <=50K|\n",
            "| 37|         Private|284582|     Masters|             14|  Married-civ-spouse|  Exec-managerial|         Wife|             White|Female|           0|           0|            40|United-States|       <=50K|\n",
            "| 49|         Private|160187|         9th|              5|Married-spouse-ab...|    Other-service|Not-in-family|             Black|Female|           0|           0|            16|      Jamaica|       <=50K|\n",
            "| 52|Self-emp-not-inc|209642|     HS-grad|              9|  Married-civ-spouse|  Exec-managerial|      Husband|             White|  Male|           0|           0|            45|United-States|        >50K|\n",
            "| 31|         Private| 45781|     Masters|             14|       Never-married|   Prof-specialty|Not-in-family|             White|Female|       14084|           0|            50|United-States|        >50K|\n",
            "| 42|         Private|159449|   Bachelors|             13|  Married-civ-spouse|  Exec-managerial|      Husband|             White|  Male|        5178|           0|            40|United-States|        >50K|\n",
            "| 37|         Private|280464|Some-college|             10|  Married-civ-spouse|  Exec-managerial|      Husband|             Black|  Male|           0|           0|            80|United-States|        >50K|\n",
            "| 30|       State-gov|141297|   Bachelors|             13|  Married-civ-spouse|   Prof-specialty|      Husband|Asian-Pac-Islander|  Male|           0|           0|            40|        India|        >50K|\n",
            "| 23|         Private|122272|   Bachelors|             13|       Never-married|     Adm-clerical|    Own-child|             White|Female|           0|           0|            30|United-States|       <=50K|\n",
            "| 32|         Private|205019|  Assoc-acdm|             12|       Never-married|            Sales|Not-in-family|             Black|  Male|           0|           0|            50|United-States|       <=50K|\n",
            "| 34|         Private|245487|     7th-8th|              4|  Married-civ-spouse| Transport-moving|      Husband|Amer-Indian-Eskimo|  Male|           0|           0|            45|       Mexico|       <=50K|\n",
            "| 25|Self-emp-not-inc|176756|     HS-grad|              9|       Never-married|  Farming-fishing|    Own-child|             White|  Male|           0|           0|            35|United-States|       <=50K|\n",
            "| 32|         Private|186824|     HS-grad|              9|       Never-married|Machine-op-inspct|    Unmarried|             White|  Male|           0|           0|            40|United-States|       <=50K|\n",
            "| 38|         Private| 28887|        11th|              7|  Married-civ-spouse|            Sales|      Husband|             White|  Male|           0|           0|            50|United-States|       <=50K|\n",
            "| 43|Self-emp-not-inc|292175|     Masters|             14|            Divorced|  Exec-managerial|    Unmarried|             White|Female|           0|           0|            45|United-States|        >50K|\n",
            "| 40|         Private|193524|   Doctorate|             16|  Married-civ-spouse|   Prof-specialty|      Husband|             White|  Male|           0|           0|            60|United-States|        >50K|\n",
            "+---+----------------+------+------------+---------------+--------------------+-----------------+-------------+------------------+------+------------+------------+--------------+-------------+------------+\n",
            "only showing top 20 rows\n",
            "\n"
          ]
        }
      ],
      "source": [
        "df = df.na.drop()\n",
        "df.show()"
      ]
    },
    {
      "cell_type": "markdown",
      "metadata": {
        "id": "jTSlSMdpYTll"
      },
      "source": [
        "### __2.4 Transposing Data__"
      ]
    },
    {
      "cell_type": "code",
      "execution_count": 7,
      "metadata": {
        "id": "QN9NJtUSTShn",
        "colab": {
          "base_uri": "https://localhost:8080/",
          "height": 520
        },
        "outputId": "5a41d011-0a63-4342-a308-1e31ddc32501"
      },
      "outputs": [
        {
          "output_type": "execute_result",
          "data": {
            "text/plain": [
              "                             0                   1                  2  \\\n",
              "age                         39                  50                 38   \n",
              "workclass            State-gov    Self-emp-not-inc            Private   \n",
              "weight                   77516               83311             215646   \n",
              "education            Bachelors           Bachelors            HS-grad   \n",
              "education_years             13                  13                  9   \n",
              "marital_status   Never-married  Married-civ-spouse           Divorced   \n",
              "occupation        Adm-clerical     Exec-managerial  Handlers-cleaners   \n",
              "relationship     Not-in-family             Husband      Not-in-family   \n",
              "race                     White               White              White   \n",
              "sex                       Male                Male               Male   \n",
              "capital_gain              2174                   0                  0   \n",
              "capital_loss                 0                   0                  0   \n",
              "hours_per_week              40                  13                 40   \n",
              "citizenship      United-States       United-States      United-States   \n",
              "income_class             <=50K               <=50K              <=50K   \n",
              "\n",
              "                                  3                   4  \n",
              "age                              53                  28  \n",
              "workclass                   Private             Private  \n",
              "weight                       234721              338409  \n",
              "education                      11th           Bachelors  \n",
              "education_years                   7                  13  \n",
              "marital_status   Married-civ-spouse  Married-civ-spouse  \n",
              "occupation        Handlers-cleaners      Prof-specialty  \n",
              "relationship                Husband                Wife  \n",
              "race                          Black               Black  \n",
              "sex                            Male              Female  \n",
              "capital_gain                      0                   0  \n",
              "capital_loss                      0                   0  \n",
              "hours_per_week                   40                  40  \n",
              "citizenship           United-States                Cuba  \n",
              "income_class                  <=50K               <=50K  "
            ],
            "text/html": [
              "\n",
              "  <div id=\"df-bb4a608f-b8bf-4d08-ab8a-231694914bda\" class=\"colab-df-container\">\n",
              "    <div>\n",
              "<style scoped>\n",
              "    .dataframe tbody tr th:only-of-type {\n",
              "        vertical-align: middle;\n",
              "    }\n",
              "\n",
              "    .dataframe tbody tr th {\n",
              "        vertical-align: top;\n",
              "    }\n",
              "\n",
              "    .dataframe thead th {\n",
              "        text-align: right;\n",
              "    }\n",
              "</style>\n",
              "<table border=\"1\" class=\"dataframe\">\n",
              "  <thead>\n",
              "    <tr style=\"text-align: right;\">\n",
              "      <th></th>\n",
              "      <th>0</th>\n",
              "      <th>1</th>\n",
              "      <th>2</th>\n",
              "      <th>3</th>\n",
              "      <th>4</th>\n",
              "    </tr>\n",
              "  </thead>\n",
              "  <tbody>\n",
              "    <tr>\n",
              "      <th>age</th>\n",
              "      <td>39</td>\n",
              "      <td>50</td>\n",
              "      <td>38</td>\n",
              "      <td>53</td>\n",
              "      <td>28</td>\n",
              "    </tr>\n",
              "    <tr>\n",
              "      <th>workclass</th>\n",
              "      <td>State-gov</td>\n",
              "      <td>Self-emp-not-inc</td>\n",
              "      <td>Private</td>\n",
              "      <td>Private</td>\n",
              "      <td>Private</td>\n",
              "    </tr>\n",
              "    <tr>\n",
              "      <th>weight</th>\n",
              "      <td>77516</td>\n",
              "      <td>83311</td>\n",
              "      <td>215646</td>\n",
              "      <td>234721</td>\n",
              "      <td>338409</td>\n",
              "    </tr>\n",
              "    <tr>\n",
              "      <th>education</th>\n",
              "      <td>Bachelors</td>\n",
              "      <td>Bachelors</td>\n",
              "      <td>HS-grad</td>\n",
              "      <td>11th</td>\n",
              "      <td>Bachelors</td>\n",
              "    </tr>\n",
              "    <tr>\n",
              "      <th>education_years</th>\n",
              "      <td>13</td>\n",
              "      <td>13</td>\n",
              "      <td>9</td>\n",
              "      <td>7</td>\n",
              "      <td>13</td>\n",
              "    </tr>\n",
              "    <tr>\n",
              "      <th>marital_status</th>\n",
              "      <td>Never-married</td>\n",
              "      <td>Married-civ-spouse</td>\n",
              "      <td>Divorced</td>\n",
              "      <td>Married-civ-spouse</td>\n",
              "      <td>Married-civ-spouse</td>\n",
              "    </tr>\n",
              "    <tr>\n",
              "      <th>occupation</th>\n",
              "      <td>Adm-clerical</td>\n",
              "      <td>Exec-managerial</td>\n",
              "      <td>Handlers-cleaners</td>\n",
              "      <td>Handlers-cleaners</td>\n",
              "      <td>Prof-specialty</td>\n",
              "    </tr>\n",
              "    <tr>\n",
              "      <th>relationship</th>\n",
              "      <td>Not-in-family</td>\n",
              "      <td>Husband</td>\n",
              "      <td>Not-in-family</td>\n",
              "      <td>Husband</td>\n",
              "      <td>Wife</td>\n",
              "    </tr>\n",
              "    <tr>\n",
              "      <th>race</th>\n",
              "      <td>White</td>\n",
              "      <td>White</td>\n",
              "      <td>White</td>\n",
              "      <td>Black</td>\n",
              "      <td>Black</td>\n",
              "    </tr>\n",
              "    <tr>\n",
              "      <th>sex</th>\n",
              "      <td>Male</td>\n",
              "      <td>Male</td>\n",
              "      <td>Male</td>\n",
              "      <td>Male</td>\n",
              "      <td>Female</td>\n",
              "    </tr>\n",
              "    <tr>\n",
              "      <th>capital_gain</th>\n",
              "      <td>2174</td>\n",
              "      <td>0</td>\n",
              "      <td>0</td>\n",
              "      <td>0</td>\n",
              "      <td>0</td>\n",
              "    </tr>\n",
              "    <tr>\n",
              "      <th>capital_loss</th>\n",
              "      <td>0</td>\n",
              "      <td>0</td>\n",
              "      <td>0</td>\n",
              "      <td>0</td>\n",
              "      <td>0</td>\n",
              "    </tr>\n",
              "    <tr>\n",
              "      <th>hours_per_week</th>\n",
              "      <td>40</td>\n",
              "      <td>13</td>\n",
              "      <td>40</td>\n",
              "      <td>40</td>\n",
              "      <td>40</td>\n",
              "    </tr>\n",
              "    <tr>\n",
              "      <th>citizenship</th>\n",
              "      <td>United-States</td>\n",
              "      <td>United-States</td>\n",
              "      <td>United-States</td>\n",
              "      <td>United-States</td>\n",
              "      <td>Cuba</td>\n",
              "    </tr>\n",
              "    <tr>\n",
              "      <th>income_class</th>\n",
              "      <td>&lt;=50K</td>\n",
              "      <td>&lt;=50K</td>\n",
              "      <td>&lt;=50K</td>\n",
              "      <td>&lt;=50K</td>\n",
              "      <td>&lt;=50K</td>\n",
              "    </tr>\n",
              "  </tbody>\n",
              "</table>\n",
              "</div>\n",
              "    <div class=\"colab-df-buttons\">\n",
              "\n",
              "  <div class=\"colab-df-container\">\n",
              "    <button class=\"colab-df-convert\" onclick=\"convertToInteractive('df-bb4a608f-b8bf-4d08-ab8a-231694914bda')\"\n",
              "            title=\"Convert this dataframe to an interactive table.\"\n",
              "            style=\"display:none;\">\n",
              "\n",
              "  <svg xmlns=\"http://www.w3.org/2000/svg\" height=\"24px\" viewBox=\"0 -960 960 960\">\n",
              "    <path d=\"M120-120v-720h720v720H120Zm60-500h600v-160H180v160Zm220 220h160v-160H400v160Zm0 220h160v-160H400v160ZM180-400h160v-160H180v160Zm440 0h160v-160H620v160ZM180-180h160v-160H180v160Zm440 0h160v-160H620v160Z\"/>\n",
              "  </svg>\n",
              "    </button>\n",
              "\n",
              "  <style>\n",
              "    .colab-df-container {\n",
              "      display:flex;\n",
              "      gap: 12px;\n",
              "    }\n",
              "\n",
              "    .colab-df-convert {\n",
              "      background-color: #E8F0FE;\n",
              "      border: none;\n",
              "      border-radius: 50%;\n",
              "      cursor: pointer;\n",
              "      display: none;\n",
              "      fill: #1967D2;\n",
              "      height: 32px;\n",
              "      padding: 0 0 0 0;\n",
              "      width: 32px;\n",
              "    }\n",
              "\n",
              "    .colab-df-convert:hover {\n",
              "      background-color: #E2EBFA;\n",
              "      box-shadow: 0px 1px 2px rgba(60, 64, 67, 0.3), 0px 1px 3px 1px rgba(60, 64, 67, 0.15);\n",
              "      fill: #174EA6;\n",
              "    }\n",
              "\n",
              "    .colab-df-buttons div {\n",
              "      margin-bottom: 4px;\n",
              "    }\n",
              "\n",
              "    [theme=dark] .colab-df-convert {\n",
              "      background-color: #3B4455;\n",
              "      fill: #D2E3FC;\n",
              "    }\n",
              "\n",
              "    [theme=dark] .colab-df-convert:hover {\n",
              "      background-color: #434B5C;\n",
              "      box-shadow: 0px 1px 3px 1px rgba(0, 0, 0, 0.15);\n",
              "      filter: drop-shadow(0px 1px 2px rgba(0, 0, 0, 0.3));\n",
              "      fill: #FFFFFF;\n",
              "    }\n",
              "  </style>\n",
              "\n",
              "    <script>\n",
              "      const buttonEl =\n",
              "        document.querySelector('#df-bb4a608f-b8bf-4d08-ab8a-231694914bda button.colab-df-convert');\n",
              "      buttonEl.style.display =\n",
              "        google.colab.kernel.accessAllowed ? 'block' : 'none';\n",
              "\n",
              "      async function convertToInteractive(key) {\n",
              "        const element = document.querySelector('#df-bb4a608f-b8bf-4d08-ab8a-231694914bda');\n",
              "        const dataTable =\n",
              "          await google.colab.kernel.invokeFunction('convertToInteractive',\n",
              "                                                    [key], {});\n",
              "        if (!dataTable) return;\n",
              "\n",
              "        const docLinkHtml = 'Like what you see? Visit the ' +\n",
              "          '<a target=\"_blank\" href=https://colab.research.google.com/notebooks/data_table.ipynb>data table notebook</a>'\n",
              "          + ' to learn more about interactive tables.';\n",
              "        element.innerHTML = '';\n",
              "        dataTable['output_type'] = 'display_data';\n",
              "        await google.colab.output.renderOutput(dataTable, element);\n",
              "        const docLink = document.createElement('div');\n",
              "        docLink.innerHTML = docLinkHtml;\n",
              "        element.appendChild(docLink);\n",
              "      }\n",
              "    </script>\n",
              "  </div>\n",
              "\n",
              "\n",
              "<div id=\"df-45a7db27-33b1-46a9-85d6-fed478d25e8b\">\n",
              "  <button class=\"colab-df-quickchart\" onclick=\"quickchart('df-45a7db27-33b1-46a9-85d6-fed478d25e8b')\"\n",
              "            title=\"Suggest charts\"\n",
              "            style=\"display:none;\">\n",
              "\n",
              "<svg xmlns=\"http://www.w3.org/2000/svg\" height=\"24px\"viewBox=\"0 0 24 24\"\n",
              "     width=\"24px\">\n",
              "    <g>\n",
              "        <path d=\"M19 3H5c-1.1 0-2 .9-2 2v14c0 1.1.9 2 2 2h14c1.1 0 2-.9 2-2V5c0-1.1-.9-2-2-2zM9 17H7v-7h2v7zm4 0h-2V7h2v10zm4 0h-2v-4h2v4z\"/>\n",
              "    </g>\n",
              "</svg>\n",
              "  </button>\n",
              "\n",
              "<style>\n",
              "  .colab-df-quickchart {\n",
              "      --bg-color: #E8F0FE;\n",
              "      --fill-color: #1967D2;\n",
              "      --hover-bg-color: #E2EBFA;\n",
              "      --hover-fill-color: #174EA6;\n",
              "      --disabled-fill-color: #AAA;\n",
              "      --disabled-bg-color: #DDD;\n",
              "  }\n",
              "\n",
              "  [theme=dark] .colab-df-quickchart {\n",
              "      --bg-color: #3B4455;\n",
              "      --fill-color: #D2E3FC;\n",
              "      --hover-bg-color: #434B5C;\n",
              "      --hover-fill-color: #FFFFFF;\n",
              "      --disabled-bg-color: #3B4455;\n",
              "      --disabled-fill-color: #666;\n",
              "  }\n",
              "\n",
              "  .colab-df-quickchart {\n",
              "    background-color: var(--bg-color);\n",
              "    border: none;\n",
              "    border-radius: 50%;\n",
              "    cursor: pointer;\n",
              "    display: none;\n",
              "    fill: var(--fill-color);\n",
              "    height: 32px;\n",
              "    padding: 0;\n",
              "    width: 32px;\n",
              "  }\n",
              "\n",
              "  .colab-df-quickchart:hover {\n",
              "    background-color: var(--hover-bg-color);\n",
              "    box-shadow: 0 1px 2px rgba(60, 64, 67, 0.3), 0 1px 3px 1px rgba(60, 64, 67, 0.15);\n",
              "    fill: var(--button-hover-fill-color);\n",
              "  }\n",
              "\n",
              "  .colab-df-quickchart-complete:disabled,\n",
              "  .colab-df-quickchart-complete:disabled:hover {\n",
              "    background-color: var(--disabled-bg-color);\n",
              "    fill: var(--disabled-fill-color);\n",
              "    box-shadow: none;\n",
              "  }\n",
              "\n",
              "  .colab-df-spinner {\n",
              "    border: 2px solid var(--fill-color);\n",
              "    border-color: transparent;\n",
              "    border-bottom-color: var(--fill-color);\n",
              "    animation:\n",
              "      spin 1s steps(1) infinite;\n",
              "  }\n",
              "\n",
              "  @keyframes spin {\n",
              "    0% {\n",
              "      border-color: transparent;\n",
              "      border-bottom-color: var(--fill-color);\n",
              "      border-left-color: var(--fill-color);\n",
              "    }\n",
              "    20% {\n",
              "      border-color: transparent;\n",
              "      border-left-color: var(--fill-color);\n",
              "      border-top-color: var(--fill-color);\n",
              "    }\n",
              "    30% {\n",
              "      border-color: transparent;\n",
              "      border-left-color: var(--fill-color);\n",
              "      border-top-color: var(--fill-color);\n",
              "      border-right-color: var(--fill-color);\n",
              "    }\n",
              "    40% {\n",
              "      border-color: transparent;\n",
              "      border-right-color: var(--fill-color);\n",
              "      border-top-color: var(--fill-color);\n",
              "    }\n",
              "    60% {\n",
              "      border-color: transparent;\n",
              "      border-right-color: var(--fill-color);\n",
              "    }\n",
              "    80% {\n",
              "      border-color: transparent;\n",
              "      border-right-color: var(--fill-color);\n",
              "      border-bottom-color: var(--fill-color);\n",
              "    }\n",
              "    90% {\n",
              "      border-color: transparent;\n",
              "      border-bottom-color: var(--fill-color);\n",
              "    }\n",
              "  }\n",
              "</style>\n",
              "\n",
              "  <script>\n",
              "    async function quickchart(key) {\n",
              "      const quickchartButtonEl =\n",
              "        document.querySelector('#' + key + ' button');\n",
              "      quickchartButtonEl.disabled = true;  // To prevent multiple clicks.\n",
              "      quickchartButtonEl.classList.add('colab-df-spinner');\n",
              "      try {\n",
              "        const charts = await google.colab.kernel.invokeFunction(\n",
              "            'suggestCharts', [key], {});\n",
              "      } catch (error) {\n",
              "        console.error('Error during call to suggestCharts:', error);\n",
              "      }\n",
              "      quickchartButtonEl.classList.remove('colab-df-spinner');\n",
              "      quickchartButtonEl.classList.add('colab-df-quickchart-complete');\n",
              "    }\n",
              "    (() => {\n",
              "      let quickchartButtonEl =\n",
              "        document.querySelector('#df-45a7db27-33b1-46a9-85d6-fed478d25e8b button');\n",
              "      quickchartButtonEl.style.display =\n",
              "        google.colab.kernel.accessAllowed ? 'block' : 'none';\n",
              "    })();\n",
              "  </script>\n",
              "</div>\n",
              "\n",
              "    </div>\n",
              "  </div>\n"
            ],
            "application/vnd.google.colaboratory.intrinsic+json": {
              "type": "dataframe",
              "summary": "{\n  \"name\": \"pd\",\n  \"rows\": 15,\n  \"fields\": [\n    {\n      \"column\": 0,\n      \"properties\": {\n        \"dtype\": \"string\",\n        \"num_unique_values\": 15,\n        \"samples\": [\n          \"Male\",\n          0,\n          39\n        ],\n        \"semantic_type\": \"\",\n        \"description\": \"\"\n      }\n    },\n    {\n      \"column\": 1,\n      \"properties\": {\n        \"dtype\": \"string\",\n        \"num_unique_values\": 13,\n        \"samples\": [\n          \"United-States\",\n          \"Male\",\n          50\n        ],\n        \"semantic_type\": \"\",\n        \"description\": \"\"\n      }\n    },\n    {\n      \"column\": 2,\n      \"properties\": {\n        \"dtype\": \"string\",\n        \"num_unique_values\": 14,\n        \"samples\": [\n          \"Male\",\n          40,\n          38\n        ],\n        \"semantic_type\": \"\",\n        \"description\": \"\"\n      }\n    },\n    {\n      \"column\": 3,\n      \"properties\": {\n        \"dtype\": \"string\",\n        \"num_unique_values\": 14,\n        \"samples\": [\n          \"Male\",\n          40,\n          53\n        ],\n        \"semantic_type\": \"\",\n        \"description\": \"\"\n      }\n    },\n    {\n      \"column\": 4,\n      \"properties\": {\n        \"dtype\": \"string\",\n        \"num_unique_values\": 14,\n        \"samples\": [\n          \"Female\",\n          40,\n          28\n        ],\n        \"semantic_type\": \"\",\n        \"description\": \"\"\n      }\n    }\n  ]\n}"
            }
          },
          "metadata": {},
          "execution_count": 7
        }
      ],
      "source": [
        "\n",
        "pd.DataFrame(df.take(5),columns=df.columns).transpose()"
      ]
    },
    {
      "cell_type": "markdown",
      "metadata": {
        "id": "iGOR99jSd33A"
      },
      "source": [
        "### __2.5 Calculating Descriptive statistics__"
      ]
    },
    {
      "cell_type": "code",
      "execution_count": 8,
      "metadata": {
        "id": "5v3cAHd2T24o",
        "colab": {
          "base_uri": "https://localhost:8080/",
          "height": 269
        },
        "outputId": "989ed509-f93b-4693-d72b-130b64fedaae"
      },
      "outputs": [
        {
          "output_type": "execute_result",
          "data": {
            "text/plain": [
              "                     0                   1                   2      3        4\n",
              "summary          count                mean              stddev    min      max\n",
              "age              30162  38.437901995888865  13.134664776856017     17       90\n",
              "weight           30162  189793.83393011073  105652.97152851892  13769  1484705\n",
              "education_years  30162   10.12131158411246  2.5499949188567355      1       16\n",
              "capital_gain     30162  1092.0078575691268   7406.346496683523      0    99999\n",
              "capital_loss     30162   88.37248856176646   404.2983704863746      0     4356\n",
              "hours_per_week   30162   40.93123798156621   11.97998422927489      1       99"
            ],
            "text/html": [
              "\n",
              "  <div id=\"df-62bbbfa1-eb94-4081-a42b-cb047101b105\" class=\"colab-df-container\">\n",
              "    <div>\n",
              "<style scoped>\n",
              "    .dataframe tbody tr th:only-of-type {\n",
              "        vertical-align: middle;\n",
              "    }\n",
              "\n",
              "    .dataframe tbody tr th {\n",
              "        vertical-align: top;\n",
              "    }\n",
              "\n",
              "    .dataframe thead th {\n",
              "        text-align: right;\n",
              "    }\n",
              "</style>\n",
              "<table border=\"1\" class=\"dataframe\">\n",
              "  <thead>\n",
              "    <tr style=\"text-align: right;\">\n",
              "      <th></th>\n",
              "      <th>0</th>\n",
              "      <th>1</th>\n",
              "      <th>2</th>\n",
              "      <th>3</th>\n",
              "      <th>4</th>\n",
              "    </tr>\n",
              "  </thead>\n",
              "  <tbody>\n",
              "    <tr>\n",
              "      <th>summary</th>\n",
              "      <td>count</td>\n",
              "      <td>mean</td>\n",
              "      <td>stddev</td>\n",
              "      <td>min</td>\n",
              "      <td>max</td>\n",
              "    </tr>\n",
              "    <tr>\n",
              "      <th>age</th>\n",
              "      <td>30162</td>\n",
              "      <td>38.437901995888865</td>\n",
              "      <td>13.134664776856017</td>\n",
              "      <td>17</td>\n",
              "      <td>90</td>\n",
              "    </tr>\n",
              "    <tr>\n",
              "      <th>weight</th>\n",
              "      <td>30162</td>\n",
              "      <td>189793.83393011073</td>\n",
              "      <td>105652.97152851892</td>\n",
              "      <td>13769</td>\n",
              "      <td>1484705</td>\n",
              "    </tr>\n",
              "    <tr>\n",
              "      <th>education_years</th>\n",
              "      <td>30162</td>\n",
              "      <td>10.12131158411246</td>\n",
              "      <td>2.5499949188567355</td>\n",
              "      <td>1</td>\n",
              "      <td>16</td>\n",
              "    </tr>\n",
              "    <tr>\n",
              "      <th>capital_gain</th>\n",
              "      <td>30162</td>\n",
              "      <td>1092.0078575691268</td>\n",
              "      <td>7406.346496683523</td>\n",
              "      <td>0</td>\n",
              "      <td>99999</td>\n",
              "    </tr>\n",
              "    <tr>\n",
              "      <th>capital_loss</th>\n",
              "      <td>30162</td>\n",
              "      <td>88.37248856176646</td>\n",
              "      <td>404.2983704863746</td>\n",
              "      <td>0</td>\n",
              "      <td>4356</td>\n",
              "    </tr>\n",
              "    <tr>\n",
              "      <th>hours_per_week</th>\n",
              "      <td>30162</td>\n",
              "      <td>40.93123798156621</td>\n",
              "      <td>11.97998422927489</td>\n",
              "      <td>1</td>\n",
              "      <td>99</td>\n",
              "    </tr>\n",
              "  </tbody>\n",
              "</table>\n",
              "</div>\n",
              "    <div class=\"colab-df-buttons\">\n",
              "\n",
              "  <div class=\"colab-df-container\">\n",
              "    <button class=\"colab-df-convert\" onclick=\"convertToInteractive('df-62bbbfa1-eb94-4081-a42b-cb047101b105')\"\n",
              "            title=\"Convert this dataframe to an interactive table.\"\n",
              "            style=\"display:none;\">\n",
              "\n",
              "  <svg xmlns=\"http://www.w3.org/2000/svg\" height=\"24px\" viewBox=\"0 -960 960 960\">\n",
              "    <path d=\"M120-120v-720h720v720H120Zm60-500h600v-160H180v160Zm220 220h160v-160H400v160Zm0 220h160v-160H400v160ZM180-400h160v-160H180v160Zm440 0h160v-160H620v160ZM180-180h160v-160H180v160Zm440 0h160v-160H620v160Z\"/>\n",
              "  </svg>\n",
              "    </button>\n",
              "\n",
              "  <style>\n",
              "    .colab-df-container {\n",
              "      display:flex;\n",
              "      gap: 12px;\n",
              "    }\n",
              "\n",
              "    .colab-df-convert {\n",
              "      background-color: #E8F0FE;\n",
              "      border: none;\n",
              "      border-radius: 50%;\n",
              "      cursor: pointer;\n",
              "      display: none;\n",
              "      fill: #1967D2;\n",
              "      height: 32px;\n",
              "      padding: 0 0 0 0;\n",
              "      width: 32px;\n",
              "    }\n",
              "\n",
              "    .colab-df-convert:hover {\n",
              "      background-color: #E2EBFA;\n",
              "      box-shadow: 0px 1px 2px rgba(60, 64, 67, 0.3), 0px 1px 3px 1px rgba(60, 64, 67, 0.15);\n",
              "      fill: #174EA6;\n",
              "    }\n",
              "\n",
              "    .colab-df-buttons div {\n",
              "      margin-bottom: 4px;\n",
              "    }\n",
              "\n",
              "    [theme=dark] .colab-df-convert {\n",
              "      background-color: #3B4455;\n",
              "      fill: #D2E3FC;\n",
              "    }\n",
              "\n",
              "    [theme=dark] .colab-df-convert:hover {\n",
              "      background-color: #434B5C;\n",
              "      box-shadow: 0px 1px 3px 1px rgba(0, 0, 0, 0.15);\n",
              "      filter: drop-shadow(0px 1px 2px rgba(0, 0, 0, 0.3));\n",
              "      fill: #FFFFFF;\n",
              "    }\n",
              "  </style>\n",
              "\n",
              "    <script>\n",
              "      const buttonEl =\n",
              "        document.querySelector('#df-62bbbfa1-eb94-4081-a42b-cb047101b105 button.colab-df-convert');\n",
              "      buttonEl.style.display =\n",
              "        google.colab.kernel.accessAllowed ? 'block' : 'none';\n",
              "\n",
              "      async function convertToInteractive(key) {\n",
              "        const element = document.querySelector('#df-62bbbfa1-eb94-4081-a42b-cb047101b105');\n",
              "        const dataTable =\n",
              "          await google.colab.kernel.invokeFunction('convertToInteractive',\n",
              "                                                    [key], {});\n",
              "        if (!dataTable) return;\n",
              "\n",
              "        const docLinkHtml = 'Like what you see? Visit the ' +\n",
              "          '<a target=\"_blank\" href=https://colab.research.google.com/notebooks/data_table.ipynb>data table notebook</a>'\n",
              "          + ' to learn more about interactive tables.';\n",
              "        element.innerHTML = '';\n",
              "        dataTable['output_type'] = 'display_data';\n",
              "        await google.colab.output.renderOutput(dataTable, element);\n",
              "        const docLink = document.createElement('div');\n",
              "        docLink.innerHTML = docLinkHtml;\n",
              "        element.appendChild(docLink);\n",
              "      }\n",
              "    </script>\n",
              "  </div>\n",
              "\n",
              "\n",
              "<div id=\"df-baff5425-e8e7-4326-b073-acf861050f73\">\n",
              "  <button class=\"colab-df-quickchart\" onclick=\"quickchart('df-baff5425-e8e7-4326-b073-acf861050f73')\"\n",
              "            title=\"Suggest charts\"\n",
              "            style=\"display:none;\">\n",
              "\n",
              "<svg xmlns=\"http://www.w3.org/2000/svg\" height=\"24px\"viewBox=\"0 0 24 24\"\n",
              "     width=\"24px\">\n",
              "    <g>\n",
              "        <path d=\"M19 3H5c-1.1 0-2 .9-2 2v14c0 1.1.9 2 2 2h14c1.1 0 2-.9 2-2V5c0-1.1-.9-2-2-2zM9 17H7v-7h2v7zm4 0h-2V7h2v10zm4 0h-2v-4h2v4z\"/>\n",
              "    </g>\n",
              "</svg>\n",
              "  </button>\n",
              "\n",
              "<style>\n",
              "  .colab-df-quickchart {\n",
              "      --bg-color: #E8F0FE;\n",
              "      --fill-color: #1967D2;\n",
              "      --hover-bg-color: #E2EBFA;\n",
              "      --hover-fill-color: #174EA6;\n",
              "      --disabled-fill-color: #AAA;\n",
              "      --disabled-bg-color: #DDD;\n",
              "  }\n",
              "\n",
              "  [theme=dark] .colab-df-quickchart {\n",
              "      --bg-color: #3B4455;\n",
              "      --fill-color: #D2E3FC;\n",
              "      --hover-bg-color: #434B5C;\n",
              "      --hover-fill-color: #FFFFFF;\n",
              "      --disabled-bg-color: #3B4455;\n",
              "      --disabled-fill-color: #666;\n",
              "  }\n",
              "\n",
              "  .colab-df-quickchart {\n",
              "    background-color: var(--bg-color);\n",
              "    border: none;\n",
              "    border-radius: 50%;\n",
              "    cursor: pointer;\n",
              "    display: none;\n",
              "    fill: var(--fill-color);\n",
              "    height: 32px;\n",
              "    padding: 0;\n",
              "    width: 32px;\n",
              "  }\n",
              "\n",
              "  .colab-df-quickchart:hover {\n",
              "    background-color: var(--hover-bg-color);\n",
              "    box-shadow: 0 1px 2px rgba(60, 64, 67, 0.3), 0 1px 3px 1px rgba(60, 64, 67, 0.15);\n",
              "    fill: var(--button-hover-fill-color);\n",
              "  }\n",
              "\n",
              "  .colab-df-quickchart-complete:disabled,\n",
              "  .colab-df-quickchart-complete:disabled:hover {\n",
              "    background-color: var(--disabled-bg-color);\n",
              "    fill: var(--disabled-fill-color);\n",
              "    box-shadow: none;\n",
              "  }\n",
              "\n",
              "  .colab-df-spinner {\n",
              "    border: 2px solid var(--fill-color);\n",
              "    border-color: transparent;\n",
              "    border-bottom-color: var(--fill-color);\n",
              "    animation:\n",
              "      spin 1s steps(1) infinite;\n",
              "  }\n",
              "\n",
              "  @keyframes spin {\n",
              "    0% {\n",
              "      border-color: transparent;\n",
              "      border-bottom-color: var(--fill-color);\n",
              "      border-left-color: var(--fill-color);\n",
              "    }\n",
              "    20% {\n",
              "      border-color: transparent;\n",
              "      border-left-color: var(--fill-color);\n",
              "      border-top-color: var(--fill-color);\n",
              "    }\n",
              "    30% {\n",
              "      border-color: transparent;\n",
              "      border-left-color: var(--fill-color);\n",
              "      border-top-color: var(--fill-color);\n",
              "      border-right-color: var(--fill-color);\n",
              "    }\n",
              "    40% {\n",
              "      border-color: transparent;\n",
              "      border-right-color: var(--fill-color);\n",
              "      border-top-color: var(--fill-color);\n",
              "    }\n",
              "    60% {\n",
              "      border-color: transparent;\n",
              "      border-right-color: var(--fill-color);\n",
              "    }\n",
              "    80% {\n",
              "      border-color: transparent;\n",
              "      border-right-color: var(--fill-color);\n",
              "      border-bottom-color: var(--fill-color);\n",
              "    }\n",
              "    90% {\n",
              "      border-color: transparent;\n",
              "      border-bottom-color: var(--fill-color);\n",
              "    }\n",
              "  }\n",
              "</style>\n",
              "\n",
              "  <script>\n",
              "    async function quickchart(key) {\n",
              "      const quickchartButtonEl =\n",
              "        document.querySelector('#' + key + ' button');\n",
              "      quickchartButtonEl.disabled = true;  // To prevent multiple clicks.\n",
              "      quickchartButtonEl.classList.add('colab-df-spinner');\n",
              "      try {\n",
              "        const charts = await google.colab.kernel.invokeFunction(\n",
              "            'suggestCharts', [key], {});\n",
              "      } catch (error) {\n",
              "        console.error('Error during call to suggestCharts:', error);\n",
              "      }\n",
              "      quickchartButtonEl.classList.remove('colab-df-spinner');\n",
              "      quickchartButtonEl.classList.add('colab-df-quickchart-complete');\n",
              "    }\n",
              "    (() => {\n",
              "      let quickchartButtonEl =\n",
              "        document.querySelector('#df-baff5425-e8e7-4326-b073-acf861050f73 button');\n",
              "      quickchartButtonEl.style.display =\n",
              "        google.colab.kernel.accessAllowed ? 'block' : 'none';\n",
              "    })();\n",
              "  </script>\n",
              "</div>\n",
              "\n",
              "    </div>\n",
              "  </div>\n"
            ],
            "application/vnd.google.colaboratory.intrinsic+json": {
              "type": "dataframe",
              "summary": "{\n  \"name\": \"df\",\n  \"rows\": 7,\n  \"fields\": [\n    {\n      \"column\": 0,\n      \"properties\": {\n        \"dtype\": \"category\",\n        \"num_unique_values\": 2,\n        \"samples\": [\n          \"30162\",\n          \"count\"\n        ],\n        \"semantic_type\": \"\",\n        \"description\": \"\"\n      }\n    },\n    {\n      \"column\": 1,\n      \"properties\": {\n        \"dtype\": \"string\",\n        \"num_unique_values\": 7,\n        \"samples\": [\n          \"mean\",\n          \"38.437901995888865\"\n        ],\n        \"semantic_type\": \"\",\n        \"description\": \"\"\n      }\n    },\n    {\n      \"column\": 2,\n      \"properties\": {\n        \"dtype\": \"string\",\n        \"num_unique_values\": 7,\n        \"samples\": [\n          \"stddev\",\n          \"13.134664776856017\"\n        ],\n        \"semantic_type\": \"\",\n        \"description\": \"\"\n      }\n    },\n    {\n      \"column\": 3,\n      \"properties\": {\n        \"dtype\": \"string\",\n        \"num_unique_values\": 5,\n        \"samples\": [\n          \"17\",\n          \"0\"\n        ],\n        \"semantic_type\": \"\",\n        \"description\": \"\"\n      }\n    },\n    {\n      \"column\": 4,\n      \"properties\": {\n        \"dtype\": \"string\",\n        \"num_unique_values\": 7,\n        \"samples\": [\n          \"max\",\n          \"90\"\n        ],\n        \"semantic_type\": \"\",\n        \"description\": \"\"\n      }\n    }\n  ]\n}"
            }
          },
          "metadata": {},
          "execution_count": 8
        }
      ],
      "source": [
        "numeric_features = [t[0] for t in df.dtypes if t[1] == 'int']\n",
        "df.select(numeric_features).describe().toPandas().transpose()"
      ]
    },
    {
      "cell_type": "markdown",
      "metadata": {
        "id": "ppeFP1Awjdor"
      },
      "source": [
        " ### __2.6 Encoding__"
      ]
    },
    {
      "cell_type": "code",
      "execution_count": 9,
      "metadata": {
        "id": "n0t16r4AZooa",
        "colab": {
          "base_uri": "https://localhost:8080/"
        },
        "outputId": "909d7c3f-ddba-4e86-997c-a1000f9c8735"
      },
      "outputs": [
        {
          "output_type": "stream",
          "name": "stdout",
          "text": [
            "+---+----------------+------+------------+---------------+--------------------+-----------------+-------------+------------------+------+------------+------------+--------------+-------------+------------+---------------+---------------+--------------------+----------------+------------------+----------+---------+-----------------+\n",
            "|age|       workclass|weight|   education|education_years|      marital_status|       occupation| relationship|              race|   sex|capital_gain|capital_loss|hours_per_week|  citizenship|income_class|label_workclass|label_education|label_marital_status|label_occupation|label_relationship|label_race|label_sex|label_citizenship|\n",
            "+---+----------------+------+------------+---------------+--------------------+-----------------+-------------+------------------+------+------------+------------+--------------+-------------+------------+---------------+---------------+--------------------+----------------+------------------+----------+---------+-----------------+\n",
            "| 39|       State-gov| 77516|   Bachelors|             13|       Never-married|     Adm-clerical|Not-in-family|             White|  Male|        2174|           0|            40|United-States|       <=50K|            3.0|            2.0|                 1.0|             3.0|               1.0|       0.0|      0.0|              0.0|\n",
            "| 50|Self-emp-not-inc| 83311|   Bachelors|             13|  Married-civ-spouse|  Exec-managerial|      Husband|             White|  Male|           0|           0|            13|United-States|       <=50K|            1.0|            2.0|                 0.0|             2.0|               0.0|       0.0|      0.0|              0.0|\n",
            "| 38|         Private|215646|     HS-grad|              9|            Divorced|Handlers-cleaners|Not-in-family|             White|  Male|           0|           0|            40|United-States|       <=50K|            0.0|            0.0|                 2.0|             8.0|               1.0|       0.0|      0.0|              0.0|\n",
            "| 53|         Private|234721|        11th|              7|  Married-civ-spouse|Handlers-cleaners|      Husband|             Black|  Male|           0|           0|            40|United-States|       <=50K|            0.0|            5.0|                 0.0|             8.0|               0.0|       1.0|      0.0|              0.0|\n",
            "| 28|         Private|338409|   Bachelors|             13|  Married-civ-spouse|   Prof-specialty|         Wife|             Black|Female|           0|           0|            40|         Cuba|       <=50K|            0.0|            2.0|                 0.0|             0.0|               4.0|       1.0|      1.0|              8.0|\n",
            "| 37|         Private|284582|     Masters|             14|  Married-civ-spouse|  Exec-managerial|         Wife|             White|Female|           0|           0|            40|United-States|       <=50K|            0.0|            3.0|                 0.0|             2.0|               4.0|       0.0|      1.0|              0.0|\n",
            "| 49|         Private|160187|         9th|              5|Married-spouse-ab...|    Other-service|Not-in-family|             Black|Female|           0|           0|            16|      Jamaica|       <=50K|            0.0|           10.0|                 5.0|             5.0|               1.0|       1.0|      1.0|             10.0|\n",
            "| 52|Self-emp-not-inc|209642|     HS-grad|              9|  Married-civ-spouse|  Exec-managerial|      Husband|             White|  Male|           0|           0|            45|United-States|        >50K|            1.0|            0.0|                 0.0|             2.0|               0.0|       0.0|      0.0|              0.0|\n",
            "| 31|         Private| 45781|     Masters|             14|       Never-married|   Prof-specialty|Not-in-family|             White|Female|       14084|           0|            50|United-States|        >50K|            0.0|            3.0|                 1.0|             0.0|               1.0|       0.0|      1.0|              0.0|\n",
            "| 42|         Private|159449|   Bachelors|             13|  Married-civ-spouse|  Exec-managerial|      Husband|             White|  Male|        5178|           0|            40|United-States|        >50K|            0.0|            2.0|                 0.0|             2.0|               0.0|       0.0|      0.0|              0.0|\n",
            "| 37|         Private|280464|Some-college|             10|  Married-civ-spouse|  Exec-managerial|      Husband|             Black|  Male|           0|           0|            80|United-States|        >50K|            0.0|            1.0|                 0.0|             2.0|               0.0|       1.0|      0.0|              0.0|\n",
            "| 30|       State-gov|141297|   Bachelors|             13|  Married-civ-spouse|   Prof-specialty|      Husband|Asian-Pac-Islander|  Male|           0|           0|            40|        India|        >50K|            3.0|            2.0|                 0.0|             0.0|               0.0|       2.0|      0.0|              7.0|\n",
            "| 23|         Private|122272|   Bachelors|             13|       Never-married|     Adm-clerical|    Own-child|             White|Female|           0|           0|            30|United-States|       <=50K|            0.0|            2.0|                 1.0|             3.0|               2.0|       0.0|      1.0|              0.0|\n",
            "| 32|         Private|205019|  Assoc-acdm|             12|       Never-married|            Sales|Not-in-family|             Black|  Male|           0|           0|            50|United-States|       <=50K|            0.0|            6.0|                 1.0|             4.0|               1.0|       1.0|      0.0|              0.0|\n",
            "| 34|         Private|245487|     7th-8th|              4|  Married-civ-spouse| Transport-moving|      Husband|Amer-Indian-Eskimo|  Male|           0|           0|            45|       Mexico|       <=50K|            0.0|            8.0|                 0.0|             7.0|               0.0|       3.0|      0.0|              1.0|\n",
            "| 25|Self-emp-not-inc|176756|     HS-grad|              9|       Never-married|  Farming-fishing|    Own-child|             White|  Male|           0|           0|            35|United-States|       <=50K|            1.0|            0.0|                 1.0|             9.0|               2.0|       0.0|      0.0|              0.0|\n",
            "| 32|         Private|186824|     HS-grad|              9|       Never-married|Machine-op-inspct|    Unmarried|             White|  Male|           0|           0|            40|United-States|       <=50K|            0.0|            0.0|                 1.0|             6.0|               3.0|       0.0|      0.0|              0.0|\n",
            "| 38|         Private| 28887|        11th|              7|  Married-civ-spouse|            Sales|      Husband|             White|  Male|           0|           0|            50|United-States|       <=50K|            0.0|            5.0|                 0.0|             4.0|               0.0|       0.0|      0.0|              0.0|\n",
            "| 43|Self-emp-not-inc|292175|     Masters|             14|            Divorced|  Exec-managerial|    Unmarried|             White|Female|           0|           0|            45|United-States|        >50K|            1.0|            3.0|                 2.0|             2.0|               3.0|       0.0|      1.0|              0.0|\n",
            "| 40|         Private|193524|   Doctorate|             16|  Married-civ-spouse|   Prof-specialty|      Husband|             White|  Male|           0|           0|            60|United-States|        >50K|            0.0|           12.0|                 0.0|             0.0|               0.0|       0.0|      0.0|              0.0|\n",
            "+---+----------------+------+------------+---------------+--------------------+-----------------+-------------+------------------+------+------------+------------+--------------+-------------+------------+---------------+---------------+--------------------+----------------+------------------+----------+---------+-----------------+\n",
            "only showing top 20 rows\n",
            "\n"
          ]
        }
      ],
      "source": [
        "label_stringIdx= StringIndexer(inputCols=[\"workclass\", \"education\", \"marital_status\",\"occupation\", \"relationship\", \"race\",\"sex\",\"citizenship\"], outputCols=[\"label_workclass\", \"label_education\", \"label_marital_status\", \"label_occupation\", \"label_relationship\",\"label_race\", \"label_sex\", \"label_citizenship\"])\n",
        "df = label_stringIdx.fit(df).transform(df)\n",
        "df.show()"
      ]
    },
    {
      "cell_type": "markdown",
      "metadata": {
        "id": "WbhzFfOdj_fO"
      },
      "source": [
        "### __2.7 Transforming Features__"
      ]
    },
    {
      "cell_type": "code",
      "execution_count": 10,
      "metadata": {
        "id": "7KFl70kJWa4B",
        "colab": {
          "base_uri": "https://localhost:8080/"
        },
        "outputId": "df574b58-d6e6-47a6-f548-97a9051f6938"
      },
      "outputs": [
        {
          "output_type": "stream",
          "name": "stdout",
          "text": [
            "+---+----------------+------+------------+---------------+--------------------+-----------------+-------------+------------------+------+------------+------------+--------------+-------------+------------+---------------+---------------+--------------------+----------------+------------------+----------+---------+-----------------+--------------------+\n",
            "|age|       workclass|weight|   education|education_years|      marital_status|       occupation| relationship|              race|   sex|capital_gain|capital_loss|hours_per_week|  citizenship|income_class|label_workclass|label_education|label_marital_status|label_occupation|label_relationship|label_race|label_sex|label_citizenship|            features|\n",
            "+---+----------------+------+------------+---------------+--------------------+-----------------+-------------+------------------+------+------------+------------+--------------+-------------+------------+---------------+---------------+--------------------+----------------+------------------+----------+---------+-----------------+--------------------+\n",
            "| 39|       State-gov| 77516|   Bachelors|             13|       Never-married|     Adm-clerical|Not-in-family|             White|  Male|        2174|           0|            40|United-States|       <=50K|            3.0|            2.0|                 1.0|             3.0|               1.0|       0.0|      0.0|              0.0|[3.0,2.0,1.0,3.0,...|\n",
            "| 50|Self-emp-not-inc| 83311|   Bachelors|             13|  Married-civ-spouse|  Exec-managerial|      Husband|             White|  Male|           0|           0|            13|United-States|       <=50K|            1.0|            2.0|                 0.0|             2.0|               0.0|       0.0|      0.0|              0.0|(8,[0,1,3],[1.0,2...|\n",
            "| 38|         Private|215646|     HS-grad|              9|            Divorced|Handlers-cleaners|Not-in-family|             White|  Male|           0|           0|            40|United-States|       <=50K|            0.0|            0.0|                 2.0|             8.0|               1.0|       0.0|      0.0|              0.0|(8,[2,3,4],[2.0,8...|\n",
            "| 53|         Private|234721|        11th|              7|  Married-civ-spouse|Handlers-cleaners|      Husband|             Black|  Male|           0|           0|            40|United-States|       <=50K|            0.0|            5.0|                 0.0|             8.0|               0.0|       1.0|      0.0|              0.0|(8,[1,3,5],[5.0,8...|\n",
            "| 28|         Private|338409|   Bachelors|             13|  Married-civ-spouse|   Prof-specialty|         Wife|             Black|Female|           0|           0|            40|         Cuba|       <=50K|            0.0|            2.0|                 0.0|             0.0|               4.0|       1.0|      1.0|              8.0|[0.0,2.0,0.0,0.0,...|\n",
            "| 37|         Private|284582|     Masters|             14|  Married-civ-spouse|  Exec-managerial|         Wife|             White|Female|           0|           0|            40|United-States|       <=50K|            0.0|            3.0|                 0.0|             2.0|               4.0|       0.0|      1.0|              0.0|(8,[1,3,4,6],[3.0...|\n",
            "| 49|         Private|160187|         9th|              5|Married-spouse-ab...|    Other-service|Not-in-family|             Black|Female|           0|           0|            16|      Jamaica|       <=50K|            0.0|           10.0|                 5.0|             5.0|               1.0|       1.0|      1.0|             10.0|[0.0,10.0,5.0,5.0...|\n",
            "| 52|Self-emp-not-inc|209642|     HS-grad|              9|  Married-civ-spouse|  Exec-managerial|      Husband|             White|  Male|           0|           0|            45|United-States|        >50K|            1.0|            0.0|                 0.0|             2.0|               0.0|       0.0|      0.0|              0.0| (8,[0,3],[1.0,2.0])|\n",
            "| 31|         Private| 45781|     Masters|             14|       Never-married|   Prof-specialty|Not-in-family|             White|Female|       14084|           0|            50|United-States|        >50K|            0.0|            3.0|                 1.0|             0.0|               1.0|       0.0|      1.0|              0.0|(8,[1,2,4,6],[3.0...|\n",
            "| 42|         Private|159449|   Bachelors|             13|  Married-civ-spouse|  Exec-managerial|      Husband|             White|  Male|        5178|           0|            40|United-States|        >50K|            0.0|            2.0|                 0.0|             2.0|               0.0|       0.0|      0.0|              0.0| (8,[1,3],[2.0,2.0])|\n",
            "| 37|         Private|280464|Some-college|             10|  Married-civ-spouse|  Exec-managerial|      Husband|             Black|  Male|           0|           0|            80|United-States|        >50K|            0.0|            1.0|                 0.0|             2.0|               0.0|       1.0|      0.0|              0.0|(8,[1,3,5],[1.0,2...|\n",
            "| 30|       State-gov|141297|   Bachelors|             13|  Married-civ-spouse|   Prof-specialty|      Husband|Asian-Pac-Islander|  Male|           0|           0|            40|        India|        >50K|            3.0|            2.0|                 0.0|             0.0|               0.0|       2.0|      0.0|              7.0|(8,[0,1,5,7],[3.0...|\n",
            "| 23|         Private|122272|   Bachelors|             13|       Never-married|     Adm-clerical|    Own-child|             White|Female|           0|           0|            30|United-States|       <=50K|            0.0|            2.0|                 1.0|             3.0|               2.0|       0.0|      1.0|              0.0|[0.0,2.0,1.0,3.0,...|\n",
            "| 32|         Private|205019|  Assoc-acdm|             12|       Never-married|            Sales|Not-in-family|             Black|  Male|           0|           0|            50|United-States|       <=50K|            0.0|            6.0|                 1.0|             4.0|               1.0|       1.0|      0.0|              0.0|[0.0,6.0,1.0,4.0,...|\n",
            "| 34|         Private|245487|     7th-8th|              4|  Married-civ-spouse| Transport-moving|      Husband|Amer-Indian-Eskimo|  Male|           0|           0|            45|       Mexico|       <=50K|            0.0|            8.0|                 0.0|             7.0|               0.0|       3.0|      0.0|              1.0|(8,[1,3,5,7],[8.0...|\n",
            "| 25|Self-emp-not-inc|176756|     HS-grad|              9|       Never-married|  Farming-fishing|    Own-child|             White|  Male|           0|           0|            35|United-States|       <=50K|            1.0|            0.0|                 1.0|             9.0|               2.0|       0.0|      0.0|              0.0|(8,[0,2,3,4],[1.0...|\n",
            "| 32|         Private|186824|     HS-grad|              9|       Never-married|Machine-op-inspct|    Unmarried|             White|  Male|           0|           0|            40|United-States|       <=50K|            0.0|            0.0|                 1.0|             6.0|               3.0|       0.0|      0.0|              0.0|(8,[2,3,4],[1.0,6...|\n",
            "| 38|         Private| 28887|        11th|              7|  Married-civ-spouse|            Sales|      Husband|             White|  Male|           0|           0|            50|United-States|       <=50K|            0.0|            5.0|                 0.0|             4.0|               0.0|       0.0|      0.0|              0.0| (8,[1,3],[5.0,4.0])|\n",
            "| 43|Self-emp-not-inc|292175|     Masters|             14|            Divorced|  Exec-managerial|    Unmarried|             White|Female|           0|           0|            45|United-States|        >50K|            1.0|            3.0|                 2.0|             2.0|               3.0|       0.0|      1.0|              0.0|[1.0,3.0,2.0,2.0,...|\n",
            "| 40|         Private|193524|   Doctorate|             16|  Married-civ-spouse|   Prof-specialty|      Husband|             White|  Male|           0|           0|            60|United-States|        >50K|            0.0|           12.0|                 0.0|             0.0|               0.0|       0.0|      0.0|              0.0|      (8,[1],[12.0])|\n",
            "+---+----------------+------+------------+---------------+--------------------+-----------------+-------------+------------------+------+------------+------------+--------------+-------------+------------+---------------+---------------+--------------------+----------------+------------------+----------+---------+-----------------+--------------------+\n",
            "only showing top 20 rows\n",
            "\n"
          ]
        }
      ],
      "source": [
        "#using the vector assember to feature transform\n",
        "\n",
        "numericCols =[\"label_workclass\", \"label_education\", \"label_marital_status\", \"label_occupation\", \"label_relationship\",\"label_race\", \"label_sex\", \"label_citizenship\"]\n",
        "assembler = VectorAssembler(inputCols=numericCols, outputCol=\"features\")\n",
        "df = assembler.transform(df)\n",
        "df.show()"
      ]
    },
    {
      "cell_type": "markdown",
      "metadata": {
        "id": "eS-eOuA_k1P9"
      },
      "source": [
        "### __2.8 Encoding Target Column__"
      ]
    },
    {
      "cell_type": "code",
      "execution_count": 11,
      "metadata": {
        "id": "gsums0t_buev",
        "colab": {
          "base_uri": "https://localhost:8080/"
        },
        "outputId": "4a19fcba-974f-4217-fa26-b8253cd030ab"
      },
      "outputs": [
        {
          "output_type": "stream",
          "name": "stdout",
          "text": [
            "+---+----------------+------+------------+---------------+--------------------+-----------------+-------------+------------------+------+------------+------------+--------------+-------------+------------+---------------+---------------+--------------------+----------------+------------------+----------+---------+-----------------+--------------------+-----+\n",
            "|age|       workclass|weight|   education|education_years|      marital_status|       occupation| relationship|              race|   sex|capital_gain|capital_loss|hours_per_week|  citizenship|income_class|label_workclass|label_education|label_marital_status|label_occupation|label_relationship|label_race|label_sex|label_citizenship|            features|label|\n",
            "+---+----------------+------+------------+---------------+--------------------+-----------------+-------------+------------------+------+------------+------------+--------------+-------------+------------+---------------+---------------+--------------------+----------------+------------------+----------+---------+-----------------+--------------------+-----+\n",
            "| 39|       State-gov| 77516|   Bachelors|             13|       Never-married|     Adm-clerical|Not-in-family|             White|  Male|        2174|           0|            40|United-States|       <=50K|            3.0|            2.0|                 1.0|             3.0|               1.0|       0.0|      0.0|              0.0|[3.0,2.0,1.0,3.0,...|  0.0|\n",
            "| 50|Self-emp-not-inc| 83311|   Bachelors|             13|  Married-civ-spouse|  Exec-managerial|      Husband|             White|  Male|           0|           0|            13|United-States|       <=50K|            1.0|            2.0|                 0.0|             2.0|               0.0|       0.0|      0.0|              0.0|(8,[0,1,3],[1.0,2...|  0.0|\n",
            "| 38|         Private|215646|     HS-grad|              9|            Divorced|Handlers-cleaners|Not-in-family|             White|  Male|           0|           0|            40|United-States|       <=50K|            0.0|            0.0|                 2.0|             8.0|               1.0|       0.0|      0.0|              0.0|(8,[2,3,4],[2.0,8...|  0.0|\n",
            "| 53|         Private|234721|        11th|              7|  Married-civ-spouse|Handlers-cleaners|      Husband|             Black|  Male|           0|           0|            40|United-States|       <=50K|            0.0|            5.0|                 0.0|             8.0|               0.0|       1.0|      0.0|              0.0|(8,[1,3,5],[5.0,8...|  0.0|\n",
            "| 28|         Private|338409|   Bachelors|             13|  Married-civ-spouse|   Prof-specialty|         Wife|             Black|Female|           0|           0|            40|         Cuba|       <=50K|            0.0|            2.0|                 0.0|             0.0|               4.0|       1.0|      1.0|              8.0|[0.0,2.0,0.0,0.0,...|  0.0|\n",
            "| 37|         Private|284582|     Masters|             14|  Married-civ-spouse|  Exec-managerial|         Wife|             White|Female|           0|           0|            40|United-States|       <=50K|            0.0|            3.0|                 0.0|             2.0|               4.0|       0.0|      1.0|              0.0|(8,[1,3,4,6],[3.0...|  0.0|\n",
            "| 49|         Private|160187|         9th|              5|Married-spouse-ab...|    Other-service|Not-in-family|             Black|Female|           0|           0|            16|      Jamaica|       <=50K|            0.0|           10.0|                 5.0|             5.0|               1.0|       1.0|      1.0|             10.0|[0.0,10.0,5.0,5.0...|  0.0|\n",
            "| 52|Self-emp-not-inc|209642|     HS-grad|              9|  Married-civ-spouse|  Exec-managerial|      Husband|             White|  Male|           0|           0|            45|United-States|        >50K|            1.0|            0.0|                 0.0|             2.0|               0.0|       0.0|      0.0|              0.0| (8,[0,3],[1.0,2.0])|  1.0|\n",
            "| 31|         Private| 45781|     Masters|             14|       Never-married|   Prof-specialty|Not-in-family|             White|Female|       14084|           0|            50|United-States|        >50K|            0.0|            3.0|                 1.0|             0.0|               1.0|       0.0|      1.0|              0.0|(8,[1,2,4,6],[3.0...|  1.0|\n",
            "| 42|         Private|159449|   Bachelors|             13|  Married-civ-spouse|  Exec-managerial|      Husband|             White|  Male|        5178|           0|            40|United-States|        >50K|            0.0|            2.0|                 0.0|             2.0|               0.0|       0.0|      0.0|              0.0| (8,[1,3],[2.0,2.0])|  1.0|\n",
            "| 37|         Private|280464|Some-college|             10|  Married-civ-spouse|  Exec-managerial|      Husband|             Black|  Male|           0|           0|            80|United-States|        >50K|            0.0|            1.0|                 0.0|             2.0|               0.0|       1.0|      0.0|              0.0|(8,[1,3,5],[1.0,2...|  1.0|\n",
            "| 30|       State-gov|141297|   Bachelors|             13|  Married-civ-spouse|   Prof-specialty|      Husband|Asian-Pac-Islander|  Male|           0|           0|            40|        India|        >50K|            3.0|            2.0|                 0.0|             0.0|               0.0|       2.0|      0.0|              7.0|(8,[0,1,5,7],[3.0...|  1.0|\n",
            "| 23|         Private|122272|   Bachelors|             13|       Never-married|     Adm-clerical|    Own-child|             White|Female|           0|           0|            30|United-States|       <=50K|            0.0|            2.0|                 1.0|             3.0|               2.0|       0.0|      1.0|              0.0|[0.0,2.0,1.0,3.0,...|  0.0|\n",
            "| 32|         Private|205019|  Assoc-acdm|             12|       Never-married|            Sales|Not-in-family|             Black|  Male|           0|           0|            50|United-States|       <=50K|            0.0|            6.0|                 1.0|             4.0|               1.0|       1.0|      0.0|              0.0|[0.0,6.0,1.0,4.0,...|  0.0|\n",
            "| 34|         Private|245487|     7th-8th|              4|  Married-civ-spouse| Transport-moving|      Husband|Amer-Indian-Eskimo|  Male|           0|           0|            45|       Mexico|       <=50K|            0.0|            8.0|                 0.0|             7.0|               0.0|       3.0|      0.0|              1.0|(8,[1,3,5,7],[8.0...|  0.0|\n",
            "| 25|Self-emp-not-inc|176756|     HS-grad|              9|       Never-married|  Farming-fishing|    Own-child|             White|  Male|           0|           0|            35|United-States|       <=50K|            1.0|            0.0|                 1.0|             9.0|               2.0|       0.0|      0.0|              0.0|(8,[0,2,3,4],[1.0...|  0.0|\n",
            "| 32|         Private|186824|     HS-grad|              9|       Never-married|Machine-op-inspct|    Unmarried|             White|  Male|           0|           0|            40|United-States|       <=50K|            0.0|            0.0|                 1.0|             6.0|               3.0|       0.0|      0.0|              0.0|(8,[2,3,4],[1.0,6...|  0.0|\n",
            "| 38|         Private| 28887|        11th|              7|  Married-civ-spouse|            Sales|      Husband|             White|  Male|           0|           0|            50|United-States|       <=50K|            0.0|            5.0|                 0.0|             4.0|               0.0|       0.0|      0.0|              0.0| (8,[1,3],[5.0,4.0])|  0.0|\n",
            "| 43|Self-emp-not-inc|292175|     Masters|             14|            Divorced|  Exec-managerial|    Unmarried|             White|Female|           0|           0|            45|United-States|        >50K|            1.0|            3.0|                 2.0|             2.0|               3.0|       0.0|      1.0|              0.0|[1.0,3.0,2.0,2.0,...|  1.0|\n",
            "| 40|         Private|193524|   Doctorate|             16|  Married-civ-spouse|   Prof-specialty|      Husband|             White|  Male|           0|           0|            60|United-States|        >50K|            0.0|           12.0|                 0.0|             0.0|               0.0|       0.0|      0.0|              0.0|      (8,[1],[12.0])|  1.0|\n",
            "+---+----------------+------+------------+---------------+--------------------+-----------------+-------------+------------------+------+------------+------------+--------------+-------------+------------+---------------+---------------+--------------------+----------------+------------------+----------+---------+-----------------+--------------------+-----+\n",
            "only showing top 20 rows\n",
            "\n"
          ]
        }
      ],
      "source": [
        "labels = StringIndexer(inputCol=\"income_class\", outputCol=\"label\")\n",
        "df = labels.fit(df).transform(df)\n",
        "df.show()"
      ]
    },
    {
      "cell_type": "markdown",
      "metadata": {
        "id": "hLQ09gepkUsw"
      },
      "source": []
    },
    {
      "cell_type": "code",
      "execution_count": 12,
      "metadata": {
        "id": "zbeWjeTxM9tg"
      },
      "outputs": [],
      "source": [
        "# pd.DataFrame(df.take(100),columns=df.columns)"
      ]
    },
    {
      "cell_type": "markdown",
      "metadata": {
        "id": "yTz6Zk4QlZYw"
      },
      "source": [
        "### __2.9 Train-Test Split__"
      ]
    },
    {
      "cell_type": "code",
      "execution_count": 13,
      "metadata": {
        "id": "y-hY6G1JcHhq"
      },
      "outputs": [],
      "source": [
        "#splitting our datasets\n",
        "train, test = df.randomSplit([0.7,0.3])\n"
      ]
    },
    {
      "cell_type": "code",
      "execution_count": 14,
      "metadata": {
        "id": "bv2PtloEN0xF",
        "colab": {
          "base_uri": "https://localhost:8080/"
        },
        "outputId": "ceb1c773-101f-4ef7-c7ca-f717fbd8b0e4"
      },
      "outputs": [
        {
          "output_type": "stream",
          "name": "stdout",
          "text": [
            "Training Dataset Count: 21131\n",
            "Test Dataset Count: 9031\n"
          ]
        }
      ],
      "source": [
        "print(\"Training Dataset Count: \" + str(train.count()))\n",
        "print(\"Test Dataset Count: \" + str(test.count()))"
      ]
    },
    {
      "cell_type": "markdown",
      "metadata": {
        "id": "pBmHggT2lkNA"
      },
      "source": [
        "# __3. Model Training__\n",
        "\n",
        "#### Here, I train 2 models, namely: `Decision Tree Classifier` and `Random Forest Classifier`."
      ]
    },
    {
      "cell_type": "markdown",
      "metadata": {
        "id": "_zUaerBOmJ6n"
      },
      "source": [
        "### __3.1 Random Forest Classifier__"
      ]
    },
    {
      "cell_type": "code",
      "execution_count": 15,
      "metadata": {
        "id": "f_b1Yui_cyXy"
      },
      "outputs": [],
      "source": [
        "rf = RandomForestClassifier(labelCol=\"label\", featuresCol=\"features\", maxBins=41)\n",
        "modelrf = rf.fit(train)"
      ]
    },
    {
      "cell_type": "code",
      "execution_count": 16,
      "metadata": {
        "id": "A54N51D6mf1w",
        "colab": {
          "base_uri": "https://localhost:8080/"
        },
        "outputId": "c9718f49-ed3b-4113-fea0-8c0bd7e4d8ab"
      },
      "outputs": [
        {
          "output_type": "stream",
          "name": "stdout",
          "text": [
            "+--------------------+-----+\n",
            "|            features|label|\n",
            "+--------------------+-----+\n",
            "|[2.0,5.0,1.0,0.0,...|  0.0|\n",
            "|(8,[1,2,3,4],[11....|  0.0|\n",
            "|[0.0,7.0,1.0,5.0,...|  0.0|\n",
            "|(8,[1,2,3,4],[7.0...|  0.0|\n",
            "|(8,[1,2,3,4],[11....|  0.0|\n",
            "|[0.0,5.0,1.0,3.0,...|  0.0|\n",
            "|(8,[1,2,3,4],[5.0...|  0.0|\n",
            "|(8,[1,2,4,6],[5.0...|  0.0|\n",
            "|(8,[1,2,3,4],[5.0...|  0.0|\n",
            "|[0.0,5.0,1.0,5.0,...|  0.0|\n",
            "|[0.0,10.0,1.0,5.0...|  0.0|\n",
            "|[0.0,11.0,1.0,4.0...|  0.0|\n",
            "|(8,[1,2,3,4],[7.0...|  0.0|\n",
            "|(8,[1,2,3,4],[7.0...|  0.0|\n",
            "|[0.0,5.0,1.0,5.0,...|  0.0|\n",
            "|(8,[1,2,3,4],[7.0...|  0.0|\n",
            "|[0.0,5.0,1.0,8.0,...|  0.0|\n",
            "|(8,[1,2,3,4],[7.0...|  0.0|\n",
            "|(8,[1,2,3,4],[7.0...|  0.0|\n",
            "|(8,[1,2,3,4],[1.0...|  0.0|\n",
            "|(8,[1,2,3,4],[11....|  0.0|\n",
            "|(8,[1,2,3,4],[7.0...|  0.0|\n",
            "|[0.0,5.0,1.0,5.0,...|  0.0|\n",
            "|[0.0,5.0,1.0,4.0,...|  0.0|\n",
            "|[0.0,5.0,1.0,4.0,...|  0.0|\n",
            "+--------------------+-----+\n",
            "only showing top 25 rows\n",
            "\n"
          ]
        }
      ],
      "source": [
        "#The RandomnForest Predictor\n",
        "predictionsrf = modelrf.transform(test)\n",
        "predictionsrf.select(\"features\", \"label\").show(25)"
      ]
    },
    {
      "cell_type": "markdown",
      "metadata": {
        "id": "-iUUdNIgmTI-"
      },
      "source": [
        "### __3.2 Decision Tree Classifier__"
      ]
    },
    {
      "cell_type": "code",
      "execution_count": 17,
      "metadata": {
        "id": "STrX2H5Rys25"
      },
      "outputs": [],
      "source": [
        "dt = DecisionTreeClassifier(labelCol=\"label\", featuresCol=\"features\", maxBins=41)\n",
        "modeldt = dt.fit(train)"
      ]
    },
    {
      "cell_type": "code",
      "execution_count": 18,
      "metadata": {
        "id": "Hn6hFM2i4eTx",
        "colab": {
          "base_uri": "https://localhost:8080/"
        },
        "outputId": "11727cfb-f676-452c-a626-c6b1abfa5ed0"
      },
      "outputs": [
        {
          "output_type": "stream",
          "name": "stdout",
          "text": [
            "+--------------------+-----+\n",
            "|            features|label|\n",
            "+--------------------+-----+\n",
            "|[2.0,5.0,1.0,0.0,...|  0.0|\n",
            "|(8,[1,2,3,4],[11....|  0.0|\n",
            "|[0.0,7.0,1.0,5.0,...|  0.0|\n",
            "|(8,[1,2,3,4],[7.0...|  0.0|\n",
            "|(8,[1,2,3,4],[11....|  0.0|\n",
            "|[0.0,5.0,1.0,3.0,...|  0.0|\n",
            "|(8,[1,2,3,4],[5.0...|  0.0|\n",
            "|(8,[1,2,4,6],[5.0...|  0.0|\n",
            "|(8,[1,2,3,4],[5.0...|  0.0|\n",
            "|[0.0,5.0,1.0,5.0,...|  0.0|\n",
            "|[0.0,10.0,1.0,5.0...|  0.0|\n",
            "|[0.0,11.0,1.0,4.0...|  0.0|\n",
            "|(8,[1,2,3,4],[7.0...|  0.0|\n",
            "|(8,[1,2,3,4],[7.0...|  0.0|\n",
            "|[0.0,5.0,1.0,5.0,...|  0.0|\n",
            "|(8,[1,2,3,4],[7.0...|  0.0|\n",
            "|[0.0,5.0,1.0,8.0,...|  0.0|\n",
            "|(8,[1,2,3,4],[7.0...|  0.0|\n",
            "|(8,[1,2,3,4],[7.0...|  0.0|\n",
            "|(8,[1,2,3,4],[1.0...|  0.0|\n",
            "|(8,[1,2,3,4],[11....|  0.0|\n",
            "|(8,[1,2,3,4],[7.0...|  0.0|\n",
            "|[0.0,5.0,1.0,5.0,...|  0.0|\n",
            "|[0.0,5.0,1.0,4.0,...|  0.0|\n",
            "|[0.0,5.0,1.0,4.0,...|  0.0|\n",
            "+--------------------+-----+\n",
            "only showing top 25 rows\n",
            "\n"
          ]
        }
      ],
      "source": [
        "#the DecisionTree Prediction\n",
        "predictionsdt = modeldt.transform(test)\n",
        "predictionsdt.select(\"features\", \"label\").show(25)"
      ]
    },
    {
      "cell_type": "markdown",
      "metadata": {
        "id": "tSXFKNxKm7mh"
      },
      "source": [
        "# __4. Model Evaluation__"
      ]
    },
    {
      "cell_type": "markdown",
      "metadata": {
        "id": "w-ripOaom_4L"
      },
      "source": [
        "### __4.1 Random Forest Classifier__"
      ]
    },
    {
      "cell_type": "code",
      "execution_count": 19,
      "metadata": {
        "id": "g6FV8NkQifrn",
        "colab": {
          "base_uri": "https://localhost:8080/"
        },
        "outputId": "06d1c344-7bf6-4aca-b882-5e38f020f0e7"
      },
      "outputs": [
        {
          "output_type": "stream",
          "name": "stdout",
          "text": [
            "RandomForest Metrics:\n",
            "\n",
            "Accuracy = 0.8124238733252132\n",
            "Precision = 0.7995818278232728\n",
            "Recall = 0.8124238733252132\n",
            "F1 Score = 0.7969625776647076\n",
            "Test Error = 0.18757612667478685\n"
          ]
        }
      ],
      "source": [
        "# Initialize evaluators for RandomForest\n",
        "evaluator_accuracy_rf = MulticlassClassificationEvaluator(labelCol=\"label\", predictionCol=\"prediction\", metricName=\"accuracy\")\n",
        "evaluator_precision_rf = MulticlassClassificationEvaluator(labelCol=\"label\", predictionCol=\"prediction\", metricName=\"weightedPrecision\")\n",
        "evaluator_recall_rf = MulticlassClassificationEvaluator(labelCol=\"label\", predictionCol=\"prediction\", metricName=\"weightedRecall\")\n",
        "evaluator_f1_rf = MulticlassClassificationEvaluator(labelCol=\"label\", predictionCol=\"prediction\", metricName=\"f1\")\n",
        "\n",
        "# Evaluate metrics for RandomForest\n",
        "accuracy_rf = evaluator_accuracy_rf.evaluate(predictionsrf)\n",
        "precision_rf = evaluator_precision_rf.evaluate(predictionsrf)\n",
        "recall_rf = evaluator_recall_rf.evaluate(predictionsrf)\n",
        "f1_rf = evaluator_f1_rf.evaluate(predictionsrf)\n",
        "\n",
        "print(\"RandomForest Metrics:\\n\")\n",
        "print(f\"Accuracy = {accuracy_rf}\")\n",
        "print(f\"Precision = {precision_rf}\")\n",
        "print(f\"Recall = {recall_rf}\")\n",
        "print(f\"F1 Score = {f1_rf}\")\n",
        "print(f\"Test Error = {1.0 - accuracy_rf}\")\n"
      ]
    },
    {
      "cell_type": "code",
      "execution_count": 20,
      "metadata": {
        "id": "a7CqYT6GTF42",
        "colab": {
          "base_uri": "https://localhost:8080/"
        },
        "outputId": "633877fb-ab27-4295-909d-5376c5b0f3ea"
      },
      "outputs": [
        {
          "output_type": "stream",
          "name": "stderr",
          "text": [
            "/usr/local/lib/python3.10/dist-packages/pyspark/sql/context.py:158: FutureWarning: Deprecated in 3.0.0. Use SparkSession.builder.getOrCreate() instead.\n",
            "  warnings.warn(\n"
          ]
        },
        {
          "output_type": "stream",
          "name": "stdout",
          "text": [
            "[[6346.  440.]\n",
            " [1254.  991.]]\n"
          ]
        }
      ],
      "source": [
        "#confusionmetric\n",
        "preds = predictionsrf.select(['prediction','label']).withColumn('label', F.col('label').cast(FloatType()))\n",
        "\n",
        "preds = preds.select(['prediction', 'label'])\n",
        "metrics = MulticlassMetrics(preds.rdd.map(tuple))\n",
        "print(metrics.confusionMatrix().toArray())"
      ]
    },
    {
      "cell_type": "markdown",
      "metadata": {
        "id": "LJ8oMmFRnJdM"
      },
      "source": [
        "### __4.2 Decision Tree Classifier__"
      ]
    },
    {
      "cell_type": "code",
      "execution_count": 21,
      "metadata": {
        "id": "VuyvlI9tnOLs",
        "colab": {
          "base_uri": "https://localhost:8080/"
        },
        "outputId": "5fa59d40-133e-4725-d9d1-a9eee2b376ee"
      },
      "outputs": [
        {
          "output_type": "stream",
          "name": "stdout",
          "text": [
            "DecisionTree Metrics:\n",
            "\n",
            "Accuracy = 0.8133097109954601\n",
            "Precision = 0.8007065871560185\n",
            "Recall = 0.81330971099546\n",
            "F1 Score = 0.799192301160924\n",
            "Test Error = 0.18669028900453988\n"
          ]
        }
      ],
      "source": [
        "\n",
        "# Initialize evaluators for DecisionTree\n",
        "evaluator_accuracy_dt = MulticlassClassificationEvaluator(labelCol=\"label\", predictionCol=\"prediction\", metricName=\"accuracy\")\n",
        "evaluator_precision_dt = MulticlassClassificationEvaluator(labelCol=\"label\", predictionCol=\"prediction\", metricName=\"weightedPrecision\")\n",
        "evaluator_recall_dt = MulticlassClassificationEvaluator(labelCol=\"label\", predictionCol=\"prediction\", metricName=\"weightedRecall\")\n",
        "evaluator_f1_dt = MulticlassClassificationEvaluator(labelCol=\"label\", predictionCol=\"prediction\", metricName=\"f1\")\n",
        "\n",
        "# Evaluate metrics for DecisionTree\n",
        "accuracy_dt = evaluator_accuracy_dt.evaluate(predictionsdt)\n",
        "precision_dt = evaluator_precision_dt.evaluate(predictionsdt)\n",
        "recall_dt = evaluator_recall_dt.evaluate(predictionsdt)\n",
        "f1_dt = evaluator_f1_dt.evaluate(predictionsdt)\n",
        "\n",
        "print(\"DecisionTree Metrics:\\n\")\n",
        "print(f\"Accuracy = {accuracy_dt}\")\n",
        "print(f\"Precision = {precision_dt}\")\n",
        "print(f\"Recall = {recall_dt}\")\n",
        "print(f\"F1 Score = {f1_dt}\")\n",
        "print(f\"Test Error = {1.0 - accuracy_dt}\")\n"
      ]
    },
    {
      "cell_type": "code",
      "execution_count": 22,
      "metadata": {
        "id": "ZsdeC9SQoQh8",
        "colab": {
          "base_uri": "https://localhost:8080/"
        },
        "outputId": "6d127490-dbfd-4abd-cde5-98fe4a497100"
      },
      "outputs": [
        {
          "output_type": "stream",
          "name": "stdout",
          "text": [
            "[[6324.  462.]\n",
            " [1224. 1021.]]\n"
          ]
        }
      ],
      "source": [
        "preds = predictionsdt.select(['prediction','label']).withColumn('label', F.col('label').cast(FloatType()))\n",
        "\n",
        "preds = preds.select(['prediction', 'label'])\n",
        "metrics = MulticlassMetrics(preds.rdd.map(tuple))\n",
        "print(metrics.confusionMatrix().toArray())"
      ]
    }
  ],
  "metadata": {
    "colab": {
      "provenance": [],
      "include_colab_link": true
    },
    "kernelspec": {
      "display_name": "Python 3",
      "name": "python3"
    },
    "language_info": {
      "codemirror_mode": {
        "name": "ipython",
        "version": 3
      },
      "file_extension": ".py",
      "mimetype": "text/x-python",
      "name": "python",
      "nbconvert_exporter": "python",
      "pygments_lexer": "ipython3",
      "version": "3.12.2"
    }
  },
  "nbformat": 4,
  "nbformat_minor": 0
}